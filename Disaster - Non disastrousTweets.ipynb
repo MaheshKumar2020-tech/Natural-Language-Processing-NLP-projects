{
 "cells": [
  {
   "cell_type": "markdown",
   "metadata": {},
   "source": [
    "## Real or Not? NLP with Disaster Tweets\n",
    "### Predict which Tweets are about real disasters and which ones are not"
   ]
  },
  {
   "cell_type": "code",
   "execution_count": 354,
   "metadata": {},
   "outputs": [],
   "source": [
    "import tensorflow as tf\n",
    "from tensorflow import keras\n",
    "import numpy as np\n",
    "import pandas as pd\n",
    "import matplotlib.pyplot as plt\n",
    "import seaborn as sns\n",
    "import string\n",
    "import nltk\n",
    "import re\n",
    "from nltk.corpus import stopwords\n",
    "import nlppreprocess\n",
    "from nlppreprocess import NLP\n",
    "from sklearn.feature_extraction.text import CountVectorizer,TfidfVectorizer\n",
    "from sklearn.naive_bayes import MultinomialNB\n",
    "from sklearn.metrics import f1_score, confusion_matrix, accuracy_score, classification_report, precision_score, recall_score\n",
    "from sklearn import preprocessing, decomposition, model_selection, metrics, pipeline\n",
    "from sklearn.model_selection import GridSearchCV,StratifiedKFold,RandomizedSearchCV, train_test_split\n",
    "from nltk.stem.snowball import SnowballStemmer\n",
    "from nltk.tokenize import word_tokenize,RegexpTokenizer\n",
    "from sklearn.linear_model import LogisticRegression\n",
    "from sklearn.svm import SVC\n",
    "from sklearn.neighbors import KNeighborsClassifier\n",
    "from sklearn.tree import DecisionTreeClassifier\n",
    "from sklearn.ensemble import RandomForestClassifier\n",
    "from nltk.stem import WordNetLemmatizer\n",
    "from nltk.util import ngrams\n",
    "from collections import defaultdict\n",
    "from collections import  Counter\n",
    "from keras.preprocessing.text import Tokenizer\n",
    "from keras.preprocessing.sequence import pad_sequences\n",
    "from tqdm import tqdm\n",
    "from keras.models import Sequential\n",
    "from keras.layers import Embedding,LSTM,Dense,SpatialDropout1D\n",
    "from keras.initializers import Constant\n",
    "from sklearn.model_selection import train_test_split\n",
    "from keras.optimizers import Adam, sgd, rmsprop\n",
    "from nltk.tokenize import word_tokenize\n",
    "from sklearn.preprocessing import StandardScaler\n"
   ]
  },
  {
   "cell_type": "code",
   "execution_count": 355,
   "metadata": {},
   "outputs": [],
   "source": [
    "import os\n",
    "\n",
    "TWITTER_PATH = os.path.join(\"datasets\", \"TwitterData\")"
   ]
  },
  {
   "cell_type": "code",
   "execution_count": 356,
   "metadata": {},
   "outputs": [],
   "source": [
    "def load_twitter_data(filename, twitter_path = TWITTER_PATH):\n",
    "    csv_path = os.path.join(twitter_path, filename)\n",
    "    return pd.read_csv(csv_path)"
   ]
  },
  {
   "cell_type": "code",
   "execution_count": 357,
   "metadata": {},
   "outputs": [],
   "source": [
    "train_data = load_twitter_data('train.csv')\n",
    "test_data = load_twitter_data('test.csv')"
   ]
  },
  {
   "cell_type": "code",
   "execution_count": 358,
   "metadata": {},
   "outputs": [
    {
     "data": {
      "text/plain": [
       "7613"
      ]
     },
     "execution_count": 358,
     "metadata": {},
     "output_type": "execute_result"
    }
   ],
   "source": [
    "len(train_data)"
   ]
  },
  {
   "cell_type": "code",
   "execution_count": 359,
   "metadata": {},
   "outputs": [
    {
     "data": {
      "text/plain": [
       "3263"
      ]
     },
     "execution_count": 359,
     "metadata": {},
     "output_type": "execute_result"
    }
   ],
   "source": [
    "len(test_data)"
   ]
  },
  {
   "cell_type": "code",
   "execution_count": 360,
   "metadata": {},
   "outputs": [
    {
     "data": {
      "text/html": [
       "<div>\n",
       "<style scoped>\n",
       "    .dataframe tbody tr th:only-of-type {\n",
       "        vertical-align: middle;\n",
       "    }\n",
       "\n",
       "    .dataframe tbody tr th {\n",
       "        vertical-align: top;\n",
       "    }\n",
       "\n",
       "    .dataframe thead th {\n",
       "        text-align: right;\n",
       "    }\n",
       "</style>\n",
       "<table border=\"1\" class=\"dataframe\">\n",
       "  <thead>\n",
       "    <tr style=\"text-align: right;\">\n",
       "      <th></th>\n",
       "      <th>id</th>\n",
       "      <th>keyword</th>\n",
       "      <th>location</th>\n",
       "      <th>text</th>\n",
       "      <th>target</th>\n",
       "    </tr>\n",
       "  </thead>\n",
       "  <tbody>\n",
       "    <tr>\n",
       "      <th>0</th>\n",
       "      <td>1</td>\n",
       "      <td>NaN</td>\n",
       "      <td>NaN</td>\n",
       "      <td>Our Deeds are the Reason of this #earthquake M...</td>\n",
       "      <td>1</td>\n",
       "    </tr>\n",
       "    <tr>\n",
       "      <th>1</th>\n",
       "      <td>4</td>\n",
       "      <td>NaN</td>\n",
       "      <td>NaN</td>\n",
       "      <td>Forest fire near La Ronge Sask. Canada</td>\n",
       "      <td>1</td>\n",
       "    </tr>\n",
       "    <tr>\n",
       "      <th>2</th>\n",
       "      <td>5</td>\n",
       "      <td>NaN</td>\n",
       "      <td>NaN</td>\n",
       "      <td>All residents asked to 'shelter in place' are ...</td>\n",
       "      <td>1</td>\n",
       "    </tr>\n",
       "    <tr>\n",
       "      <th>3</th>\n",
       "      <td>6</td>\n",
       "      <td>NaN</td>\n",
       "      <td>NaN</td>\n",
       "      <td>13,000 people receive #wildfires evacuation or...</td>\n",
       "      <td>1</td>\n",
       "    </tr>\n",
       "    <tr>\n",
       "      <th>4</th>\n",
       "      <td>7</td>\n",
       "      <td>NaN</td>\n",
       "      <td>NaN</td>\n",
       "      <td>Just got sent this photo from Ruby #Alaska as ...</td>\n",
       "      <td>1</td>\n",
       "    </tr>\n",
       "  </tbody>\n",
       "</table>\n",
       "</div>"
      ],
      "text/plain": [
       "   id keyword location                                               text  \\\n",
       "0   1     NaN      NaN  Our Deeds are the Reason of this #earthquake M...   \n",
       "1   4     NaN      NaN             Forest fire near La Ronge Sask. Canada   \n",
       "2   5     NaN      NaN  All residents asked to 'shelter in place' are ...   \n",
       "3   6     NaN      NaN  13,000 people receive #wildfires evacuation or...   \n",
       "4   7     NaN      NaN  Just got sent this photo from Ruby #Alaska as ...   \n",
       "\n",
       "   target  \n",
       "0       1  \n",
       "1       1  \n",
       "2       1  \n",
       "3       1  \n",
       "4       1  "
      ]
     },
     "execution_count": 360,
     "metadata": {},
     "output_type": "execute_result"
    }
   ],
   "source": [
    "train_data.head()"
   ]
  },
  {
   "cell_type": "code",
   "execution_count": 361,
   "metadata": {},
   "outputs": [
    {
     "data": {
      "text/html": [
       "<div>\n",
       "<style scoped>\n",
       "    .dataframe tbody tr th:only-of-type {\n",
       "        vertical-align: middle;\n",
       "    }\n",
       "\n",
       "    .dataframe tbody tr th {\n",
       "        vertical-align: top;\n",
       "    }\n",
       "\n",
       "    .dataframe thead th {\n",
       "        text-align: right;\n",
       "    }\n",
       "</style>\n",
       "<table border=\"1\" class=\"dataframe\">\n",
       "  <thead>\n",
       "    <tr style=\"text-align: right;\">\n",
       "      <th></th>\n",
       "      <th>id</th>\n",
       "      <th>keyword</th>\n",
       "      <th>location</th>\n",
       "      <th>text</th>\n",
       "    </tr>\n",
       "  </thead>\n",
       "  <tbody>\n",
       "    <tr>\n",
       "      <th>0</th>\n",
       "      <td>0</td>\n",
       "      <td>NaN</td>\n",
       "      <td>NaN</td>\n",
       "      <td>Just happened a terrible car crash</td>\n",
       "    </tr>\n",
       "    <tr>\n",
       "      <th>1</th>\n",
       "      <td>2</td>\n",
       "      <td>NaN</td>\n",
       "      <td>NaN</td>\n",
       "      <td>Heard about #earthquake is different cities, s...</td>\n",
       "    </tr>\n",
       "    <tr>\n",
       "      <th>2</th>\n",
       "      <td>3</td>\n",
       "      <td>NaN</td>\n",
       "      <td>NaN</td>\n",
       "      <td>there is a forest fire at spot pond, geese are...</td>\n",
       "    </tr>\n",
       "    <tr>\n",
       "      <th>3</th>\n",
       "      <td>9</td>\n",
       "      <td>NaN</td>\n",
       "      <td>NaN</td>\n",
       "      <td>Apocalypse lighting. #Spokane #wildfires</td>\n",
       "    </tr>\n",
       "    <tr>\n",
       "      <th>4</th>\n",
       "      <td>11</td>\n",
       "      <td>NaN</td>\n",
       "      <td>NaN</td>\n",
       "      <td>Typhoon Soudelor kills 28 in China and Taiwan</td>\n",
       "    </tr>\n",
       "  </tbody>\n",
       "</table>\n",
       "</div>"
      ],
      "text/plain": [
       "   id keyword location                                               text\n",
       "0   0     NaN      NaN                 Just happened a terrible car crash\n",
       "1   2     NaN      NaN  Heard about #earthquake is different cities, s...\n",
       "2   3     NaN      NaN  there is a forest fire at spot pond, geese are...\n",
       "3   9     NaN      NaN           Apocalypse lighting. #Spokane #wildfires\n",
       "4  11     NaN      NaN      Typhoon Soudelor kills 28 in China and Taiwan"
      ]
     },
     "execution_count": 361,
     "metadata": {},
     "output_type": "execute_result"
    }
   ],
   "source": [
    "test_data.head()"
   ]
  },
  {
   "cell_type": "code",
   "execution_count": 362,
   "metadata": {},
   "outputs": [
    {
     "name": "stdout",
     "output_type": "stream",
     "text": [
      "<class 'pandas.core.frame.DataFrame'>\n",
      "RangeIndex: 7613 entries, 0 to 7612\n",
      "Data columns (total 5 columns):\n",
      " #   Column    Non-Null Count  Dtype \n",
      "---  ------    --------------  ----- \n",
      " 0   id        7613 non-null   int64 \n",
      " 1   keyword   7552 non-null   object\n",
      " 2   location  5080 non-null   object\n",
      " 3   text      7613 non-null   object\n",
      " 4   target    7613 non-null   int64 \n",
      "dtypes: int64(2), object(3)\n",
      "memory usage: 297.5+ KB\n"
     ]
    }
   ],
   "source": [
    "train_data.info()"
   ]
  },
  {
   "cell_type": "code",
   "execution_count": 363,
   "metadata": {},
   "outputs": [
    {
     "data": {
      "text/plain": [
       "id             0\n",
       "keyword       61\n",
       "location    2533\n",
       "text           0\n",
       "target         0\n",
       "dtype: int64"
      ]
     },
     "execution_count": 363,
     "metadata": {},
     "output_type": "execute_result"
    }
   ],
   "source": [
    "train_data.isnull().sum()"
   ]
  },
  {
   "cell_type": "code",
   "execution_count": 364,
   "metadata": {},
   "outputs": [
    {
     "data": {
      "text/plain": [
       "id             0\n",
       "keyword       26\n",
       "location    1105\n",
       "text           0\n",
       "dtype: int64"
      ]
     },
     "execution_count": 364,
     "metadata": {},
     "output_type": "execute_result"
    }
   ],
   "source": [
    "test_data.isnull().sum()"
   ]
  },
  {
   "cell_type": "code",
   "execution_count": 365,
   "metadata": {},
   "outputs": [
    {
     "data": {
      "text/plain": [
       "id           int64\n",
       "keyword     object\n",
       "location    object\n",
       "text        object\n",
       "target       int64\n",
       "dtype: object"
      ]
     },
     "execution_count": 365,
     "metadata": {},
     "output_type": "execute_result"
    }
   ],
   "source": [
    "train_data.dtypes"
   ]
  },
  {
   "cell_type": "code",
   "execution_count": 366,
   "metadata": {},
   "outputs": [
    {
     "name": "stdout",
     "output_type": "stream",
     "text": [
      "categorical attributes\n",
      "['keyword', 'location', 'text']\n"
     ]
    }
   ],
   "source": [
    "s = (train_data.dtypes == 'object')\n",
    "object_cols = list(s[s].index)\n",
    "print(\"categorical attributes\")\n",
    "print(object_cols)"
   ]
  },
  {
   "cell_type": "markdown",
   "metadata": {},
   "source": [
    "### Percentage of missing values in training data"
   ]
  },
  {
   "cell_type": "code",
   "execution_count": 367,
   "metadata": {},
   "outputs": [
    {
     "data": {
      "text/html": [
       "<div>\n",
       "<style scoped>\n",
       "    .dataframe tbody tr th:only-of-type {\n",
       "        vertical-align: middle;\n",
       "    }\n",
       "\n",
       "    .dataframe tbody tr th {\n",
       "        vertical-align: top;\n",
       "    }\n",
       "\n",
       "    .dataframe thead th {\n",
       "        text-align: right;\n",
       "    }\n",
       "</style>\n",
       "<table border=\"1\" class=\"dataframe\">\n",
       "  <thead>\n",
       "    <tr style=\"text-align: right;\">\n",
       "      <th></th>\n",
       "      <th>Training data missing percentage</th>\n",
       "    </tr>\n",
       "  </thead>\n",
       "  <tbody>\n",
       "    <tr>\n",
       "      <th>location</th>\n",
       "      <td>33.272035</td>\n",
       "    </tr>\n",
       "    <tr>\n",
       "      <th>keyword</th>\n",
       "      <td>0.801261</td>\n",
       "    </tr>\n",
       "    <tr>\n",
       "      <th>target</th>\n",
       "      <td>0.000000</td>\n",
       "    </tr>\n",
       "    <tr>\n",
       "      <th>text</th>\n",
       "      <td>0.000000</td>\n",
       "    </tr>\n",
       "    <tr>\n",
       "      <th>id</th>\n",
       "      <td>0.000000</td>\n",
       "    </tr>\n",
       "  </tbody>\n",
       "</table>\n",
       "</div>"
      ],
      "text/plain": [
       "          Training data missing percentage\n",
       "location                         33.272035\n",
       "keyword                           0.801261\n",
       "target                            0.000000\n",
       "text                              0.000000\n",
       "id                                0.000000"
      ]
     },
     "execution_count": 367,
     "metadata": {},
     "output_type": "execute_result"
    }
   ],
   "source": [
    "train_data_percent_missing = train_data.isnull().mean()*100\n",
    "percent_missing_train = pd.DataFrame({\"Training data missing percentage\": train_data_percent_missing.sort_values(ascending = False)})\n",
    "percent_missing_train"
   ]
  },
  {
   "cell_type": "markdown",
   "metadata": {},
   "source": [
    "### Percentage of missing values in test data"
   ]
  },
  {
   "cell_type": "code",
   "execution_count": 368,
   "metadata": {},
   "outputs": [
    {
     "data": {
      "text/html": [
       "<div>\n",
       "<style scoped>\n",
       "    .dataframe tbody tr th:only-of-type {\n",
       "        vertical-align: middle;\n",
       "    }\n",
       "\n",
       "    .dataframe tbody tr th {\n",
       "        vertical-align: top;\n",
       "    }\n",
       "\n",
       "    .dataframe thead th {\n",
       "        text-align: right;\n",
       "    }\n",
       "</style>\n",
       "<table border=\"1\" class=\"dataframe\">\n",
       "  <thead>\n",
       "    <tr style=\"text-align: right;\">\n",
       "      <th></th>\n",
       "      <th>Test data missing percentage</th>\n",
       "    </tr>\n",
       "  </thead>\n",
       "  <tbody>\n",
       "    <tr>\n",
       "      <th>location</th>\n",
       "      <td>33.864542</td>\n",
       "    </tr>\n",
       "    <tr>\n",
       "      <th>keyword</th>\n",
       "      <td>0.796813</td>\n",
       "    </tr>\n",
       "    <tr>\n",
       "      <th>text</th>\n",
       "      <td>0.000000</td>\n",
       "    </tr>\n",
       "    <tr>\n",
       "      <th>id</th>\n",
       "      <td>0.000000</td>\n",
       "    </tr>\n",
       "  </tbody>\n",
       "</table>\n",
       "</div>"
      ],
      "text/plain": [
       "          Test data missing percentage\n",
       "location                     33.864542\n",
       "keyword                       0.796813\n",
       "text                          0.000000\n",
       "id                            0.000000"
      ]
     },
     "execution_count": 368,
     "metadata": {},
     "output_type": "execute_result"
    }
   ],
   "source": [
    "test_data_percent_missing = test_data.isnull().mean()*100\n",
    "percent_missing_test = pd.DataFrame({'Test data missing percentage': test_data_percent_missing.sort_values(ascending = False)})\n",
    "percent_missing_test"
   ]
  },
  {
   "cell_type": "markdown",
   "metadata": {},
   "source": [
    "### lets view some of non-disastrous tweets (target = 0)"
   ]
  },
  {
   "cell_type": "code",
   "execution_count": 369,
   "metadata": {},
   "outputs": [
    {
     "data": {
      "text/plain": [
       "15                  What's up man?\n",
       "16                   I love fruits\n",
       "17                Summer is lovely\n",
       "18               My car is so fast\n",
       "19    What a goooooooaaaaaal!!!!!!\n",
       "20          this is ridiculous....\n",
       "21               London is cool ;)\n",
       "22                     Love skiing\n",
       "23           What a wonderful day!\n",
       "24                        LOOOOOOL\n",
       "Name: text, dtype: object"
      ]
     },
     "execution_count": 369,
     "metadata": {},
     "output_type": "execute_result"
    }
   ],
   "source": [
    "non_disastrous = train_data[train_data['target']==0]['text']\n",
    "non_disastrous.head(10)"
   ]
  },
  {
   "cell_type": "markdown",
   "metadata": {},
   "source": [
    "### lets view some of disastrous tweets (target = 1)"
   ]
  },
  {
   "cell_type": "code",
   "execution_count": 370,
   "metadata": {},
   "outputs": [
    {
     "data": {
      "text/plain": [
       "0    Our Deeds are the Reason of this #earthquake M...\n",
       "1               Forest fire near La Ronge Sask. Canada\n",
       "2    All residents asked to 'shelter in place' are ...\n",
       "3    13,000 people receive #wildfires evacuation or...\n",
       "4    Just got sent this photo from Ruby #Alaska as ...\n",
       "5    #RockyFire Update => California Hwy. 20 closed...\n",
       "6    #flood #disaster Heavy rain causes flash flood...\n",
       "7    I'm on top of the hill and I can see a fire in...\n",
       "8    There's an emergency evacuation happening now ...\n",
       "9    I'm afraid that the tornado is coming to our a...\n",
       "Name: text, dtype: object"
      ]
     },
     "execution_count": 370,
     "metadata": {},
     "output_type": "execute_result"
    }
   ],
   "source": [
    "disastrous = train_data[train_data['target']==1]['text']\n",
    "disastrous.head(10)"
   ]
  },
  {
   "cell_type": "code",
   "execution_count": 371,
   "metadata": {},
   "outputs": [
    {
     "data": {
      "text/plain": [
       "USA                      104\n",
       "New York                  71\n",
       "United States             50\n",
       "London                    45\n",
       "Canada                    29\n",
       "                        ... \n",
       "teh internets              1\n",
       "#Bummerville otw           1\n",
       "Waialua, Hawaii            1\n",
       "PARACHUTE                  1\n",
       "Guelph Ontario Canada      1\n",
       "Name: location, Length: 3341, dtype: int64"
      ]
     },
     "execution_count": 371,
     "metadata": {},
     "output_type": "execute_result"
    }
   ],
   "source": [
    "train_data['location'].value_counts()"
   ]
  },
  {
   "cell_type": "code",
   "execution_count": 372,
   "metadata": {},
   "outputs": [
    {
     "data": {
      "text/plain": [
       "0    4342\n",
       "1    3271\n",
       "Name: target, dtype: int64"
      ]
     },
     "execution_count": 372,
     "metadata": {},
     "output_type": "execute_result"
    }
   ],
   "source": [
    "train_data['target'].value_counts()"
   ]
  },
  {
   "cell_type": "markdown",
   "metadata": {},
   "source": [
    "### Non disastrous vs disastrous tweets"
   ]
  },
  {
   "cell_type": "code",
   "execution_count": 373,
   "metadata": {},
   "outputs": [
    {
     "data": {
      "text/plain": [
       "<matplotlib.axes._subplots.AxesSubplot at 0x2872be1e608>"
      ]
     },
     "execution_count": 373,
     "metadata": {},
     "output_type": "execute_result"
    },
    {
     "data": {
      "image/png": "[encoded data removed]",
      "text/plain": [
       "<Figure size 864x576 with 1 Axes>"
      ]
     },
     "metadata": {
      "needs_background": "light"
     },
     "output_type": "display_data"
    }
   ],
   "source": [
    "plt.figure(figsize = (12,8))\n",
    "sns.barplot(train_data['target'].value_counts().index, train_data['target'].value_counts())"
   ]
  },
  {
   "cell_type": "markdown",
   "metadata": {},
   "source": [
    "### Unique values in keyword feature"
   ]
  },
  {
   "cell_type": "code",
   "execution_count": 374,
   "metadata": {},
   "outputs": [
    {
     "data": {
      "text/plain": [
       "fatalities               45\n",
       "armageddon               42\n",
       "deluge                   42\n",
       "body%20bags              41\n",
       "harm                     41\n",
       "                         ..\n",
       "forest%20fire            19\n",
       "epicentre                12\n",
       "threat                   11\n",
       "inundation               10\n",
       "radiation%20emergency     9\n",
       "Name: keyword, Length: 221, dtype: int64"
      ]
     },
     "execution_count": 374,
     "metadata": {},
     "output_type": "execute_result"
    }
   ],
   "source": [
    "train_data.keyword.value_counts()"
   ]
  },
  {
   "cell_type": "code",
   "execution_count": 375,
   "metadata": {},
   "outputs": [
    {
     "data": {
      "text/plain": [
       "221"
      ]
     },
     "execution_count": 375,
     "metadata": {},
     "output_type": "execute_result"
    }
   ],
   "source": [
    "train_data['keyword'].nunique()"
   ]
  },
  {
   "cell_type": "markdown",
   "metadata": {},
   "source": [
    "### plotting first 50 most common keywords"
   ]
  },
  {
   "cell_type": "code",
   "execution_count": 376,
   "metadata": {},
   "outputs": [
    {
     "data": {
      "text/plain": [
       "<matplotlib.axes._subplots.AxesSubplot at 0x2872bcef648>"
      ]
     },
     "execution_count": 376,
     "metadata": {},
     "output_type": "execute_result"
    },
    {
     "data": {
      "image/png": "[encoded data removed]",
      "text/plain": [
       "<Figure size 1008x864 with 1 Axes>"
      ]
     },
     "metadata": {
      "needs_background": "light"
     },
     "output_type": "display_data"
    }
   ],
   "source": [
    "figure = plt.figure(figsize=(14,12))\n",
    "sns.barplot(y=train_data['keyword'].value_counts().index[:50], x=train_data['keyword'].value_counts()[:50])"
   ]
  },
  {
   "cell_type": "markdown",
   "metadata": {},
   "source": [
    "### Analyze location feature"
   ]
  },
  {
   "cell_type": "code",
   "execution_count": 377,
   "metadata": {},
   "outputs": [
    {
     "data": {
      "text/plain": [
       "USA                      104\n",
       "New York                  71\n",
       "United States             50\n",
       "London                    45\n",
       "Canada                    29\n",
       "                        ... \n",
       "teh internets              1\n",
       "#Bummerville otw           1\n",
       "Waialua, Hawaii            1\n",
       "PARACHUTE                  1\n",
       "Guelph Ontario Canada      1\n",
       "Name: location, Length: 3341, dtype: int64"
      ]
     },
     "execution_count": 377,
     "metadata": {},
     "output_type": "execute_result"
    }
   ],
   "source": [
    "train_data['location'].value_counts()"
   ]
  },
  {
   "cell_type": "code",
   "execution_count": 378,
   "metadata": {},
   "outputs": [
    {
     "data": {
      "text/plain": [
       "3341"
      ]
     },
     "execution_count": 378,
     "metadata": {},
     "output_type": "execute_result"
    }
   ],
   "source": [
    "train_data['location'].nunique()"
   ]
  },
  {
   "cell_type": "markdown",
   "metadata": {},
   "source": [
    "### lets view first 50 most common locations"
   ]
  },
  {
   "cell_type": "code",
   "execution_count": 379,
   "metadata": {},
   "outputs": [
    {
     "data": {
      "text/plain": [
       "<matplotlib.axes._subplots.AxesSubplot at 0x2872bf6f788>"
      ]
     },
     "execution_count": 379,
     "metadata": {},
     "output_type": "execute_result"
    },
    {
     "data": {
      "image/png": "[encoded data removed]",
      "text/plain": [
       "<Figure size 1008x864 with 1 Axes>"
      ]
     },
     "metadata": {
      "needs_background": "light"
     },
     "output_type": "display_data"
    }
   ],
   "source": [
    "figure = plt.figure(figsize=(14,12))\n",
    "sns.barplot(y=train_data['location'].value_counts().index[:50], x=train_data['location'].value_counts()[:50])"
   ]
  },
  {
   "cell_type": "markdown",
   "metadata": {},
   "source": [
    "### lets view last 50 least common locations"
   ]
  },
  {
   "cell_type": "code",
   "execution_count": 380,
   "metadata": {},
   "outputs": [
    {
     "data": {
      "text/plain": [
       "<matplotlib.axes._subplots.AxesSubplot at 0x2872c3364c8>"
      ]
     },
     "execution_count": 380,
     "metadata": {},
     "output_type": "execute_result"
    },
    {
     "data": {
      "image/png": "[encoded data removed]",
      "text/plain": [
       "<Figure size 1008x864 with 1 Axes>"
      ]
     },
     "metadata": {
      "needs_background": "light"
     },
     "output_type": "display_data"
    }
   ],
   "source": [
    "figure = plt.figure(figsize=(14,12))\n",
    "sns.barplot(y=train_data['location'].value_counts().index[-50:], x=train_data['location'].value_counts()[-50:])"
   ]
  },
  {
   "cell_type": "markdown",
   "metadata": {},
   "source": [
    "### Since location feature has missing values and droping this feature does not affect the target"
   ]
  },
  {
   "cell_type": "code",
   "execution_count": 381,
   "metadata": {},
   "outputs": [],
   "source": [
    "train = train_data.drop(['target', 'location'], axis = 1)\n",
    "test = test_data.drop('location', axis = 1)"
   ]
  },
  {
   "cell_type": "markdown",
   "metadata": {},
   "source": [
    "### Add a new feature 'text_length'"
   ]
  },
  {
   "cell_type": "code",
   "execution_count": 382,
   "metadata": {},
   "outputs": [],
   "source": [
    "train['text_length'] = train_data['text'].apply(lambda x:len(x))\n",
    "test['text_length'] = test_data['text'].apply(lambda x:len(x))"
   ]
  },
  {
   "cell_type": "code",
   "execution_count": 383,
   "metadata": {},
   "outputs": [
    {
     "data": {
      "text/html": [
       "<div>\n",
       "<style scoped>\n",
       "    .dataframe tbody tr th:only-of-type {\n",
       "        vertical-align: middle;\n",
       "    }\n",
       "\n",
       "    .dataframe tbody tr th {\n",
       "        vertical-align: top;\n",
       "    }\n",
       "\n",
       "    .dataframe thead th {\n",
       "        text-align: right;\n",
       "    }\n",
       "</style>\n",
       "<table border=\"1\" class=\"dataframe\">\n",
       "  <thead>\n",
       "    <tr style=\"text-align: right;\">\n",
       "      <th></th>\n",
       "      <th>id</th>\n",
       "      <th>keyword</th>\n",
       "      <th>text</th>\n",
       "      <th>text_length</th>\n",
       "    </tr>\n",
       "  </thead>\n",
       "  <tbody>\n",
       "    <tr>\n",
       "      <th>0</th>\n",
       "      <td>1</td>\n",
       "      <td>NaN</td>\n",
       "      <td>Our Deeds are the Reason of this #earthquake M...</td>\n",
       "      <td>69</td>\n",
       "    </tr>\n",
       "    <tr>\n",
       "      <th>1</th>\n",
       "      <td>4</td>\n",
       "      <td>NaN</td>\n",
       "      <td>Forest fire near La Ronge Sask. Canada</td>\n",
       "      <td>38</td>\n",
       "    </tr>\n",
       "    <tr>\n",
       "      <th>2</th>\n",
       "      <td>5</td>\n",
       "      <td>NaN</td>\n",
       "      <td>All residents asked to 'shelter in place' are ...</td>\n",
       "      <td>133</td>\n",
       "    </tr>\n",
       "    <tr>\n",
       "      <th>3</th>\n",
       "      <td>6</td>\n",
       "      <td>NaN</td>\n",
       "      <td>13,000 people receive #wildfires evacuation or...</td>\n",
       "      <td>65</td>\n",
       "    </tr>\n",
       "    <tr>\n",
       "      <th>4</th>\n",
       "      <td>7</td>\n",
       "      <td>NaN</td>\n",
       "      <td>Just got sent this photo from Ruby #Alaska as ...</td>\n",
       "      <td>88</td>\n",
       "    </tr>\n",
       "  </tbody>\n",
       "</table>\n",
       "</div>"
      ],
      "text/plain": [
       "   id keyword                                               text  text_length\n",
       "0   1     NaN  Our Deeds are the Reason of this #earthquake M...           69\n",
       "1   4     NaN             Forest fire near La Ronge Sask. Canada           38\n",
       "2   5     NaN  All residents asked to 'shelter in place' are ...          133\n",
       "3   6     NaN  13,000 people receive #wildfires evacuation or...           65\n",
       "4   7     NaN  Just got sent this photo from Ruby #Alaska as ...           88"
      ]
     },
     "execution_count": 383,
     "metadata": {},
     "output_type": "execute_result"
    }
   ],
   "source": [
    "train.head()"
   ]
  },
  {
   "cell_type": "code",
   "execution_count": 384,
   "metadata": {},
   "outputs": [
    {
     "data": {
      "image/png": "[encoded data removed]",
      "text/plain": [
       "<Figure size 432x288 with 1 Axes>"
      ]
     },
     "metadata": {
      "needs_background": "light"
     },
     "output_type": "display_data"
    }
   ],
   "source": [
    "#Create distribution chart to visualize text length distribution\n",
    "ax=sns.distplot(train['text_length']).set_title('Distribution of the tweet lengths');\n",
    "plt.grid(True)"
   ]
  },
  {
   "cell_type": "code",
   "execution_count": 385,
   "metadata": {},
   "outputs": [
    {
     "data": {
      "text/html": [
       "<div>\n",
       "<style scoped>\n",
       "    .dataframe tbody tr th:only-of-type {\n",
       "        vertical-align: middle;\n",
       "    }\n",
       "\n",
       "    .dataframe tbody tr th {\n",
       "        vertical-align: top;\n",
       "    }\n",
       "\n",
       "    .dataframe thead th {\n",
       "        text-align: right;\n",
       "    }\n",
       "</style>\n",
       "<table border=\"1\" class=\"dataframe\">\n",
       "  <thead>\n",
       "    <tr style=\"text-align: right;\">\n",
       "      <th></th>\n",
       "      <th>id</th>\n",
       "      <th>keyword</th>\n",
       "      <th>text</th>\n",
       "      <th>text_length</th>\n",
       "    </tr>\n",
       "  </thead>\n",
       "  <tbody>\n",
       "    <tr>\n",
       "      <th>0</th>\n",
       "      <td>0</td>\n",
       "      <td>NaN</td>\n",
       "      <td>Just happened a terrible car crash</td>\n",
       "      <td>34</td>\n",
       "    </tr>\n",
       "    <tr>\n",
       "      <th>1</th>\n",
       "      <td>2</td>\n",
       "      <td>NaN</td>\n",
       "      <td>Heard about #earthquake is different cities, s...</td>\n",
       "      <td>64</td>\n",
       "    </tr>\n",
       "    <tr>\n",
       "      <th>2</th>\n",
       "      <td>3</td>\n",
       "      <td>NaN</td>\n",
       "      <td>there is a forest fire at spot pond, geese are...</td>\n",
       "      <td>96</td>\n",
       "    </tr>\n",
       "    <tr>\n",
       "      <th>3</th>\n",
       "      <td>9</td>\n",
       "      <td>NaN</td>\n",
       "      <td>Apocalypse lighting. #Spokane #wildfires</td>\n",
       "      <td>40</td>\n",
       "    </tr>\n",
       "    <tr>\n",
       "      <th>4</th>\n",
       "      <td>11</td>\n",
       "      <td>NaN</td>\n",
       "      <td>Typhoon Soudelor kills 28 in China and Taiwan</td>\n",
       "      <td>45</td>\n",
       "    </tr>\n",
       "  </tbody>\n",
       "</table>\n",
       "</div>"
      ],
      "text/plain": [
       "   id keyword                                               text  text_length\n",
       "0   0     NaN                 Just happened a terrible car crash           34\n",
       "1   2     NaN  Heard about #earthquake is different cities, s...           64\n",
       "2   3     NaN  there is a forest fire at spot pond, geese are...           96\n",
       "3   9     NaN           Apocalypse lighting. #Spokane #wildfires           40\n",
       "4  11     NaN      Typhoon Soudelor kills 28 in China and Taiwan           45"
      ]
     },
     "execution_count": 385,
     "metadata": {},
     "output_type": "execute_result"
    }
   ],
   "source": [
    "test.head()"
   ]
  },
  {
   "cell_type": "code",
   "execution_count": 386,
   "metadata": {},
   "outputs": [],
   "source": [
    "y_train = train_data['target'].copy()"
   ]
  },
  {
   "cell_type": "markdown",
   "metadata": {},
   "source": [
    "## 2. Text Processing"
   ]
  },
  {
   "cell_type": "markdown",
   "metadata": {},
   "source": [
    "### Convert every word in a sentence to lower case and remove noise (html tags, punctuation, symbols, etc"
   ]
  },
  {
   "cell_type": "code",
   "execution_count": 387,
   "metadata": {},
   "outputs": [],
   "source": [
    "def lowercase_text(text):\n",
    "    text = text.lower()\n",
    "    return text"
   ]
  },
  {
   "cell_type": "code",
   "execution_count": 388,
   "metadata": {},
   "outputs": [],
   "source": [
    "train['text'] = train['text'].apply(lambda x: lowercase_text(x))\n",
    "test['text'] = test['text'].apply(lambda x: lowercase_text(x))"
   ]
  },
  {
   "cell_type": "code",
   "execution_count": 389,
   "metadata": {},
   "outputs": [
    {
     "data": {
      "text/html": [
       "<div>\n",
       "<style scoped>\n",
       "    .dataframe tbody tr th:only-of-type {\n",
       "        vertical-align: middle;\n",
       "    }\n",
       "\n",
       "    .dataframe tbody tr th {\n",
       "        vertical-align: top;\n",
       "    }\n",
       "\n",
       "    .dataframe thead th {\n",
       "        text-align: right;\n",
       "    }\n",
       "</style>\n",
       "<table border=\"1\" class=\"dataframe\">\n",
       "  <thead>\n",
       "    <tr style=\"text-align: right;\">\n",
       "      <th></th>\n",
       "      <th>id</th>\n",
       "      <th>keyword</th>\n",
       "      <th>text</th>\n",
       "      <th>text_length</th>\n",
       "    </tr>\n",
       "  </thead>\n",
       "  <tbody>\n",
       "    <tr>\n",
       "      <th>0</th>\n",
       "      <td>1</td>\n",
       "      <td>NaN</td>\n",
       "      <td>our deeds are the reason of this #earthquake m...</td>\n",
       "      <td>69</td>\n",
       "    </tr>\n",
       "    <tr>\n",
       "      <th>1</th>\n",
       "      <td>4</td>\n",
       "      <td>NaN</td>\n",
       "      <td>forest fire near la ronge sask. canada</td>\n",
       "      <td>38</td>\n",
       "    </tr>\n",
       "    <tr>\n",
       "      <th>2</th>\n",
       "      <td>5</td>\n",
       "      <td>NaN</td>\n",
       "      <td>all residents asked to 'shelter in place' are ...</td>\n",
       "      <td>133</td>\n",
       "    </tr>\n",
       "    <tr>\n",
       "      <th>3</th>\n",
       "      <td>6</td>\n",
       "      <td>NaN</td>\n",
       "      <td>13,000 people receive #wildfires evacuation or...</td>\n",
       "      <td>65</td>\n",
       "    </tr>\n",
       "    <tr>\n",
       "      <th>4</th>\n",
       "      <td>7</td>\n",
       "      <td>NaN</td>\n",
       "      <td>just got sent this photo from ruby #alaska as ...</td>\n",
       "      <td>88</td>\n",
       "    </tr>\n",
       "  </tbody>\n",
       "</table>\n",
       "</div>"
      ],
      "text/plain": [
       "   id keyword                                               text  text_length\n",
       "0   1     NaN  our deeds are the reason of this #earthquake m...           69\n",
       "1   4     NaN             forest fire near la ronge sask. canada           38\n",
       "2   5     NaN  all residents asked to 'shelter in place' are ...          133\n",
       "3   6     NaN  13,000 people receive #wildfires evacuation or...           65\n",
       "4   7     NaN  just got sent this photo from ruby #alaska as ...           88"
      ]
     },
     "execution_count": 389,
     "metadata": {},
     "output_type": "execute_result"
    }
   ],
   "source": [
    "train.head()"
   ]
  },
  {
   "cell_type": "code",
   "execution_count": 390,
   "metadata": {},
   "outputs": [
    {
     "data": {
      "text/html": [
       "<div>\n",
       "<style scoped>\n",
       "    .dataframe tbody tr th:only-of-type {\n",
       "        vertical-align: middle;\n",
       "    }\n",
       "\n",
       "    .dataframe tbody tr th {\n",
       "        vertical-align: top;\n",
       "    }\n",
       "\n",
       "    .dataframe thead th {\n",
       "        text-align: right;\n",
       "    }\n",
       "</style>\n",
       "<table border=\"1\" class=\"dataframe\">\n",
       "  <thead>\n",
       "    <tr style=\"text-align: right;\">\n",
       "      <th></th>\n",
       "      <th>id</th>\n",
       "      <th>keyword</th>\n",
       "      <th>text</th>\n",
       "      <th>text_length</th>\n",
       "    </tr>\n",
       "  </thead>\n",
       "  <tbody>\n",
       "    <tr>\n",
       "      <th>0</th>\n",
       "      <td>0</td>\n",
       "      <td>NaN</td>\n",
       "      <td>just happened a terrible car crash</td>\n",
       "      <td>34</td>\n",
       "    </tr>\n",
       "    <tr>\n",
       "      <th>1</th>\n",
       "      <td>2</td>\n",
       "      <td>NaN</td>\n",
       "      <td>heard about #earthquake is different cities, s...</td>\n",
       "      <td>64</td>\n",
       "    </tr>\n",
       "    <tr>\n",
       "      <th>2</th>\n",
       "      <td>3</td>\n",
       "      <td>NaN</td>\n",
       "      <td>there is a forest fire at spot pond, geese are...</td>\n",
       "      <td>96</td>\n",
       "    </tr>\n",
       "    <tr>\n",
       "      <th>3</th>\n",
       "      <td>9</td>\n",
       "      <td>NaN</td>\n",
       "      <td>apocalypse lighting. #spokane #wildfires</td>\n",
       "      <td>40</td>\n",
       "    </tr>\n",
       "    <tr>\n",
       "      <th>4</th>\n",
       "      <td>11</td>\n",
       "      <td>NaN</td>\n",
       "      <td>typhoon soudelor kills 28 in china and taiwan</td>\n",
       "      <td>45</td>\n",
       "    </tr>\n",
       "  </tbody>\n",
       "</table>\n",
       "</div>"
      ],
      "text/plain": [
       "   id keyword                                               text  text_length\n",
       "0   0     NaN                 just happened a terrible car crash           34\n",
       "1   2     NaN  heard about #earthquake is different cities, s...           64\n",
       "2   3     NaN  there is a forest fire at spot pond, geese are...           96\n",
       "3   9     NaN           apocalypse lighting. #spokane #wildfires           40\n",
       "4  11     NaN      typhoon soudelor kills 28 in china and taiwan           45"
      ]
     },
     "execution_count": 390,
     "metadata": {},
     "output_type": "execute_result"
    }
   ],
   "source": [
    "test.head()"
   ]
  },
  {
   "cell_type": "code",
   "execution_count": 391,
   "metadata": {},
   "outputs": [],
   "source": [
    "def remove_noise(text):\n",
    "    text = re.sub('\\[.*?\\]','', text)\n",
    "    text = re.sub('https?://\\S+|www\\.\\S+', '', text)\n",
    "    text = re.sub('<.*?>+', '', text)\n",
    "    text = re.sub('[%s]' % re.escape(string.punctuation), '', text)\n",
    "    text = re.sub('\\n', '', text)\n",
    "    text = re.sub('\\w*\\d\\w*', '', text)\n",
    "    return text"
   ]
  },
  {
   "cell_type": "code",
   "execution_count": 392,
   "metadata": {},
   "outputs": [],
   "source": [
    "train['text'] = train['text'].apply(lambda x: remove_noise(x))\n",
    "test['text'] = test['text'].apply(lambda x: remove_noise(x))"
   ]
  },
  {
   "cell_type": "code",
   "execution_count": 393,
   "metadata": {},
   "outputs": [
    {
     "data": {
      "text/html": [
       "<div>\n",
       "<style scoped>\n",
       "    .dataframe tbody tr th:only-of-type {\n",
       "        vertical-align: middle;\n",
       "    }\n",
       "\n",
       "    .dataframe tbody tr th {\n",
       "        vertical-align: top;\n",
       "    }\n",
       "\n",
       "    .dataframe thead th {\n",
       "        text-align: right;\n",
       "    }\n",
       "</style>\n",
       "<table border=\"1\" class=\"dataframe\">\n",
       "  <thead>\n",
       "    <tr style=\"text-align: right;\">\n",
       "      <th></th>\n",
       "      <th>id</th>\n",
       "      <th>keyword</th>\n",
       "      <th>text</th>\n",
       "      <th>text_length</th>\n",
       "    </tr>\n",
       "  </thead>\n",
       "  <tbody>\n",
       "    <tr>\n",
       "      <th>0</th>\n",
       "      <td>1</td>\n",
       "      <td>NaN</td>\n",
       "      <td>our deeds are the reason of this earthquake ma...</td>\n",
       "      <td>69</td>\n",
       "    </tr>\n",
       "    <tr>\n",
       "      <th>1</th>\n",
       "      <td>4</td>\n",
       "      <td>NaN</td>\n",
       "      <td>forest fire near la ronge sask canada</td>\n",
       "      <td>38</td>\n",
       "    </tr>\n",
       "    <tr>\n",
       "      <th>2</th>\n",
       "      <td>5</td>\n",
       "      <td>NaN</td>\n",
       "      <td>all residents asked to shelter in place are be...</td>\n",
       "      <td>133</td>\n",
       "    </tr>\n",
       "    <tr>\n",
       "      <th>3</th>\n",
       "      <td>6</td>\n",
       "      <td>NaN</td>\n",
       "      <td>people receive wildfires evacuation orders in...</td>\n",
       "      <td>65</td>\n",
       "    </tr>\n",
       "    <tr>\n",
       "      <th>4</th>\n",
       "      <td>7</td>\n",
       "      <td>NaN</td>\n",
       "      <td>just got sent this photo from ruby alaska as s...</td>\n",
       "      <td>88</td>\n",
       "    </tr>\n",
       "  </tbody>\n",
       "</table>\n",
       "</div>"
      ],
      "text/plain": [
       "   id keyword                                               text  text_length\n",
       "0   1     NaN  our deeds are the reason of this earthquake ma...           69\n",
       "1   4     NaN              forest fire near la ronge sask canada           38\n",
       "2   5     NaN  all residents asked to shelter in place are be...          133\n",
       "3   6     NaN   people receive wildfires evacuation orders in...           65\n",
       "4   7     NaN  just got sent this photo from ruby alaska as s...           88"
      ]
     },
     "execution_count": 393,
     "metadata": {},
     "output_type": "execute_result"
    }
   ],
   "source": [
    "train.head(5)"
   ]
  },
  {
   "cell_type": "code",
   "execution_count": 394,
   "metadata": {},
   "outputs": [
    {
     "data": {
      "text/html": [
       "<div>\n",
       "<style scoped>\n",
       "    .dataframe tbody tr th:only-of-type {\n",
       "        vertical-align: middle;\n",
       "    }\n",
       "\n",
       "    .dataframe tbody tr th {\n",
       "        vertical-align: top;\n",
       "    }\n",
       "\n",
       "    .dataframe thead th {\n",
       "        text-align: right;\n",
       "    }\n",
       "</style>\n",
       "<table border=\"1\" class=\"dataframe\">\n",
       "  <thead>\n",
       "    <tr style=\"text-align: right;\">\n",
       "      <th></th>\n",
       "      <th>id</th>\n",
       "      <th>keyword</th>\n",
       "      <th>text</th>\n",
       "      <th>text_length</th>\n",
       "    </tr>\n",
       "  </thead>\n",
       "  <tbody>\n",
       "    <tr>\n",
       "      <th>0</th>\n",
       "      <td>0</td>\n",
       "      <td>NaN</td>\n",
       "      <td>just happened a terrible car crash</td>\n",
       "      <td>34</td>\n",
       "    </tr>\n",
       "    <tr>\n",
       "      <th>1</th>\n",
       "      <td>2</td>\n",
       "      <td>NaN</td>\n",
       "      <td>heard about earthquake is different cities sta...</td>\n",
       "      <td>64</td>\n",
       "    </tr>\n",
       "    <tr>\n",
       "      <th>2</th>\n",
       "      <td>3</td>\n",
       "      <td>NaN</td>\n",
       "      <td>there is a forest fire at spot pond geese are ...</td>\n",
       "      <td>96</td>\n",
       "    </tr>\n",
       "    <tr>\n",
       "      <th>3</th>\n",
       "      <td>9</td>\n",
       "      <td>NaN</td>\n",
       "      <td>apocalypse lighting spokane wildfires</td>\n",
       "      <td>40</td>\n",
       "    </tr>\n",
       "    <tr>\n",
       "      <th>4</th>\n",
       "      <td>11</td>\n",
       "      <td>NaN</td>\n",
       "      <td>typhoon soudelor kills  in china and taiwan</td>\n",
       "      <td>45</td>\n",
       "    </tr>\n",
       "  </tbody>\n",
       "</table>\n",
       "</div>"
      ],
      "text/plain": [
       "   id keyword                                               text  text_length\n",
       "0   0     NaN                 just happened a terrible car crash           34\n",
       "1   2     NaN  heard about earthquake is different cities sta...           64\n",
       "2   3     NaN  there is a forest fire at spot pond geese are ...           96\n",
       "3   9     NaN              apocalypse lighting spokane wildfires           40\n",
       "4  11     NaN        typhoon soudelor kills  in china and taiwan           45"
      ]
     },
     "execution_count": 394,
     "metadata": {},
     "output_type": "execute_result"
    }
   ],
   "source": [
    "test.head()"
   ]
  },
  {
   "cell_type": "code",
   "execution_count": 395,
   "metadata": {},
   "outputs": [],
   "source": [
    "def pre_process_text_combined(text):\n",
    "    \n",
    "    \"\"\"\n",
    "    Input- text= text to be pre-processed\n",
    "    \n",
    "    Oputput- return cleaned and combined text to be vectrorized for Machine learning.\n",
    "\n",
    "    \"\"\"\n",
    "    #Initiate a tokenizer\n",
    "    tokenizer = nltk.tokenize.RegexpTokenizer(r'\\w+')\n",
    "    tokenized_text = tokenizer.tokenize(text)\n",
    "    remove_stopwords = [w for w in tokenized_text if w not in stopwords.words('english')]\n",
    "    combined_text = ' '.join(remove_stopwords)\n",
    "    return  combined_text"
   ]
  },
  {
   "cell_type": "code",
   "execution_count": 396,
   "metadata": {},
   "outputs": [],
   "source": [
    "train['text'] = train['text'].apply(lambda x: pre_process_text_combined(x))"
   ]
  },
  {
   "cell_type": "code",
   "execution_count": 397,
   "metadata": {},
   "outputs": [
    {
     "data": {
      "text/plain": [
       "0         deeds reason earthquake may allah forgive us\n",
       "1                forest fire near la ronge sask canada\n",
       "2    residents asked shelter place notified officer...\n",
       "3    people receive wildfires evacuation orders cal...\n",
       "4    got sent photo ruby alaska smoke wildfires pou...\n",
       "Name: text, dtype: object"
      ]
     },
     "execution_count": 397,
     "metadata": {},
     "output_type": "execute_result"
    }
   ],
   "source": [
    "train['text'].head()"
   ]
  },
  {
   "cell_type": "code",
   "execution_count": 398,
   "metadata": {},
   "outputs": [],
   "source": [
    "test['text'] = test['text'].apply(lambda x: pre_process_text_combined(x))"
   ]
  },
  {
   "cell_type": "code",
   "execution_count": 399,
   "metadata": {},
   "outputs": [
    {
     "data": {
      "text/plain": [
       "0                          happened terrible car crash\n",
       "1    heard earthquake different cities stay safe ev...\n",
       "2    forest fire spot pond geese fleeing across str...\n",
       "3                apocalypse lighting spokane wildfires\n",
       "4                  typhoon soudelor kills china taiwan\n",
       "Name: text, dtype: object"
      ]
     },
     "execution_count": 399,
     "metadata": {},
     "output_type": "execute_result"
    }
   ],
   "source": [
    "test['text'].head()"
   ]
  },
  {
   "cell_type": "markdown",
   "metadata": {},
   "source": [
    "### Removing emojis"
   ]
  },
  {
   "cell_type": "code",
   "execution_count": 400,
   "metadata": {},
   "outputs": [],
   "source": [
    "def remove_emoji(text):\n",
    "    emoji_pattern = re.compile(\"[\"\n",
    "                           u\"\\U0001F600-\\U0001F64F\"  # emoticons\n",
    "                           u\"\\U0001F300-\\U0001F5FF\"  # symbols & pictographs\n",
    "                           u\"\\U0001F680-\\U0001F6FF\"  # transport & map symbols\n",
    "                           u\"\\U0001F1E0-\\U0001F1FF\"  # flags (iOS)\n",
    "                           u\"\\U00002702-\\U000027B0\"\n",
    "                           u\"\\U000024C2-\\U0001F251\"\n",
    "                           \"]+\", flags=re.UNICODE)\n",
    "    return emoji_pattern.sub(r'', text)"
   ]
  },
  {
   "cell_type": "code",
   "execution_count": 401,
   "metadata": {},
   "outputs": [],
   "source": [
    "train['text'] = train['text'].apply(lambda x: remove_emoji(x))"
   ]
  },
  {
   "cell_type": "code",
   "execution_count": 402,
   "metadata": {},
   "outputs": [
    {
     "data": {
      "text/plain": [
       "array(['deeds reason earthquake may allah forgive us',\n",
       "       'forest fire near la ronge sask canada',\n",
       "       'residents asked shelter place notified officers evacuation shelter place orders expected',\n",
       "       ..., 'volcano hawaii',\n",
       "       'police investigating ebike collided car little portugal ebike rider suffered serious nonlife threatening injuries',\n",
       "       'latest homes razed northern california wildfire abc news'],\n",
       "      dtype=object)"
      ]
     },
     "execution_count": 402,
     "metadata": {},
     "output_type": "execute_result"
    }
   ],
   "source": [
    "train.text.values"
   ]
  },
  {
   "cell_type": "code",
   "execution_count": 403,
   "metadata": {},
   "outputs": [],
   "source": [
    "test['text'] = test['text'].apply(lambda x: remove_emoji(x))"
   ]
  },
  {
   "cell_type": "code",
   "execution_count": 404,
   "metadata": {},
   "outputs": [
    {
     "data": {
      "text/plain": [
       "array(['happened terrible car crash',\n",
       "       'heard earthquake different cities stay safe everyone',\n",
       "       'forest fire spot pond geese fleeing across street cannot save',\n",
       "       ..., 'green line derailment chicago',\n",
       "       'meg issues hazardous weather outlook hwo',\n",
       "       'cityofcalgary activated municipal emergency plan yycstorm'],\n",
       "      dtype=object)"
      ]
     },
     "execution_count": 404,
     "metadata": {},
     "output_type": "execute_result"
    }
   ],
   "source": [
    "test.text.values"
   ]
  },
  {
   "cell_type": "code",
   "execution_count": 405,
   "metadata": {},
   "outputs": [],
   "source": [
    "def clean(tweet):\n",
    "    tweet = re.sub(r\"he's\", \"he is\", tweet)\n",
    "    tweet = re.sub(r\"there's\", \"there is\", tweet)\n",
    "    tweet = re.sub(r\"We're\", \"We are\", tweet)\n",
    "    tweet = re.sub(r\"That's\", \"That is\", tweet)\n",
    "    tweet = re.sub(r\"won't\", \"will not\", tweet)\n",
    "    tweet = re.sub(r\"they're\", \"they are\", tweet)\n",
    "    tweet = re.sub(r\"Can't\", \"Cannot\", tweet)\n",
    "    tweet = re.sub(r\"wasn't\", \"was not\", tweet)\n",
    "    tweet = re.sub(r\"aren't\", \"are not\", tweet)\n",
    "    tweet = re.sub(r\"isn't\", \"is not\", tweet)\n",
    "    tweet = re.sub(r\"What's\", \"What is\", tweet)\n",
    "    tweet = re.sub(r\"i'd\", \"I would\", tweet)\n",
    "    tweet = re.sub(r\"should've\", \"should have\", tweet)\n",
    "    tweet = re.sub(r\"where's\", \"where is\", tweet)\n",
    "    tweet = re.sub(r\"we'd\", \"we would\", tweet)\n",
    "    tweet = re.sub(r\"i'll\", \"I will\", tweet)\n",
    "    tweet = re.sub(r\"weren't\", \"were not\", tweet)\n",
    "    tweet = re.sub(r\"They're\", \"They are\", tweet)\n",
    "    tweet = re.sub(r\"let's\", \"let us\", tweet)\n",
    "    tweet = re.sub(r\"it's\", \"it is\", tweet)\n",
    "    tweet = re.sub(r\"can't\", \"cannot\", tweet)\n",
    "    tweet = re.sub(r\"don't\", \"do not\", tweet)\n",
    "    tweet = re.sub(r\"you're\", \"you are\", tweet)\n",
    "    tweet = re.sub(r\"i've\", \"I have\", tweet)\n",
    "    tweet = re.sub(r\"that's\", \"that is\", tweet)\n",
    "    tweet = re.sub(r\"i'll\", \"I will\", tweet)\n",
    "    tweet = re.sub(r\"doesn't\", \"does not\", tweet)\n",
    "    tweet = re.sub(r\"i'd\", \"I would\", tweet)\n",
    "    tweet = re.sub(r\"didn't\", \"did not\", tweet)\n",
    "    tweet = re.sub(r\"ain't\", \"am not\", tweet)\n",
    "    tweet = re.sub(r\"you'll\", \"you will\", tweet)\n",
    "    tweet = re.sub(r\"I've\", \"I have\", tweet)\n",
    "    tweet = re.sub(r\"Don't\", \"do not\", tweet)\n",
    "    tweet = re.sub(r\"I'll\", \"I will\", tweet)\n",
    "    tweet = re.sub(r\"I'd\", \"I would\", tweet)\n",
    "    tweet = re.sub(r\"Let's\", \"Let us\", tweet)\n",
    "    tweet = re.sub(r\"you'd\", \"You would\", tweet)\n",
    "    tweet = re.sub(r\"It's\", \"It is\", tweet)\n",
    "    tweet = re.sub(r\"Ain't\", \"am not\", tweet)\n",
    "    tweet = re.sub(r\"Haven't\", \"Have not\", tweet)\n",
    "    tweet = re.sub(r\"Could've\", \"Could have\", tweet)\n",
    "    tweet = re.sub(r\"youve\", \"you have\", tweet)\n",
    "    tweet = re.sub(r\"haven't\", \"have not\", tweet)\n",
    "    tweet = re.sub(r\"hasn't\", \"has not\", tweet)\n",
    "    tweet = re.sub(r\"There's\", \"There is\", tweet)\n",
    "    tweet = re.sub(r\"He's\", \"He is\", tweet)\n",
    "    tweet = re.sub(r\"It's\", \"It is\", tweet)\n",
    "    tweet = re.sub(r\"You're\", \"You are\", tweet)\n",
    "    tweet = re.sub(r\"I'M\", \"I am\", tweet)\n",
    "    tweet = re.sub(r\"shouldn't\", \"should not\", tweet)\n",
    "    tweet = re.sub(r\"wouldn't\", \"would not\", tweet)\n",
    "    tweet = re.sub(r\"i'm\", \"I am\", tweet)\n",
    "    tweet = re.sub(r\"I'm\", \"I am\", tweet)\n",
    "    tweet = re.sub(r\"Isn't\", \"is not\", tweet)\n",
    "    tweet = re.sub(r\"Here's\", \"Here is\", tweet)\n",
    "    tweet = re.sub(r\"you've\", \"you have\", tweet)\n",
    "    tweet = re.sub(r\"we're\", \"we are\", tweet)\n",
    "    tweet = re.sub(r\"what's\", \"what is\", tweet)\n",
    "    tweet = re.sub(r\"couldn't\", \"could not\", tweet)\n",
    "    tweet = re.sub(r\"we've\", \"we have\", tweet)\n",
    "    tweet = re.sub(r\"who's\", \"who is\", tweet)\n",
    "    tweet = re.sub(r\"y'all\", \"you all\", tweet)\n",
    "    tweet = re.sub(r\"would've\", \"would have\", tweet)\n",
    "    tweet = re.sub(r\"it'll\", \"it will\", tweet)\n",
    "    tweet = re.sub(r\"we'll\", \"we will\", tweet)\n",
    "    tweet = re.sub(r\"We've\", \"We have\", tweet)\n",
    "    tweet = re.sub(r\"he'll\", \"he will\", tweet)\n",
    "    tweet = re.sub(r\"Y'all\", \"You all\", tweet)\n",
    "    tweet = re.sub(r\"Weren't\", \"Were not\", tweet)\n",
    "    tweet = re.sub(r\"Didn't\", \"Did not\", tweet)\n",
    "    tweet = re.sub(r\"they'll\", \"they will\", tweet)\n",
    "    tweet = re.sub(r\"they'd\", \"they would\", tweet)\n",
    "    tweet = re.sub(r\"DON'T\", \"DO NOT\", tweet)\n",
    "    tweet = re.sub(r\"they've\", \"they have\", tweet)\n",
    "    \n",
    "    #correct some acronyms while we are at it\n",
    "    tweet = re.sub(r\"tnwx\", \"Tennessee Weather\", tweet)\n",
    "    tweet = re.sub(r\"azwx\", \"Arizona Weather\", tweet)  \n",
    "    tweet = re.sub(r\"alwx\", \"Alabama Weather\", tweet)\n",
    "    tweet = re.sub(r\"wordpressdotcom\", \"wordpress\", tweet)      \n",
    "    tweet = re.sub(r\"gawx\", \"Georgia Weather\", tweet)  \n",
    "    tweet = re.sub(r\"scwx\", \"South Carolina Weather\", tweet)  \n",
    "    tweet = re.sub(r\"cawx\", \"California Weather\", tweet)\n",
    "    tweet = re.sub(r\"usNWSgov\", \"United States National Weather Service\", tweet) \n",
    "    tweet = re.sub(r\"MH370\", \"Malaysia Airlines Flight 370\", tweet)\n",
    "    tweet = re.sub(r\"okwx\", \"Oklahoma City Weather\", tweet)\n",
    "    tweet = re.sub(r\"arwx\", \"Arkansas Weather\", tweet)  \n",
    "    tweet = re.sub(r\"lmao\", \"laughing my ass off\", tweet)  \n",
    "    tweet = re.sub(r\"amirite\", \"am I right\", tweet)\n",
    "    \n",
    "    #and some typos/abbreviations\n",
    "    tweet = re.sub(r\"w/e\", \"whatever\", tweet)\n",
    "    tweet = re.sub(r\"w/\", \"with\", tweet)\n",
    "    tweet = re.sub(r\"USAgov\", \"USA government\", tweet)\n",
    "    tweet = re.sub(r\"recentlu\", \"recently\", tweet)\n",
    "    tweet = re.sub(r\"Ph0tos\", \"Photos\", tweet)\n",
    "    tweet = re.sub(r\"exp0sed\", \"exposed\", tweet)\n",
    "    tweet = re.sub(r\"<3\", \"love\", tweet)\n",
    "    tweet = re.sub(r\"amageddon\", \"armageddon\", tweet)\n",
    "    tweet = re.sub(r\"Trfc\", \"Traffic\", tweet)\n",
    "    tweet = re.sub(r\"WindStorm\", \"Wind Storm\", tweet)\n",
    "    tweet = re.sub(r\"16yr\", \"16 year\", tweet)\n",
    "    tweet = re.sub(r\"TRAUMATISED\", \"traumatized\", tweet)\n",
    "    \n",
    "    #hashtags and usernames\n",
    "    tweet = re.sub(r\"IranDeal\", \"Iran Deal\", tweet)\n",
    "    tweet = re.sub(r\"ArianaGrande\", \"Ariana Grande\", tweet)\n",
    "    tweet = re.sub(r\"camilacabello97\", \"camila cabello\", tweet) \n",
    "    tweet = re.sub(r\"RondaRousey\", \"Ronda Rousey\", tweet)     \n",
    "    tweet = re.sub(r\"MTVHottest\", \"MTV Hottest\", tweet)\n",
    "    tweet = re.sub(r\"TrapMusic\", \"Trap Music\", tweet)\n",
    "    tweet = re.sub(r\"ProphetMuhammad\", \"Prophet Muhammad\", tweet)\n",
    "    tweet = re.sub(r\"PantherAttack\", \"Panther Attack\", tweet)\n",
    "    tweet = re.sub(r\"StrategicPatience\", \"Strategic Patience\", tweet)\n",
    "    tweet = re.sub(r\"socialnews\", \"social news\", tweet)\n",
    "    tweet = re.sub(r\"IDPs:\", \"Internally Displaced People :\", tweet)\n",
    "    tweet = re.sub(r\"ArtistsUnited\", \"Artists United\", tweet)\n",
    "    tweet = re.sub(r\"ClaytonBryant\", \"Clayton Bryant\", tweet)\n",
    "    tweet = re.sub(r\"jimmyfallon\", \"jimmy fallon\", tweet)\n",
    "    tweet = re.sub(r\"justinbieber\", \"justin bieber\", tweet)  \n",
    "    tweet = re.sub(r\"Time2015\", \"Time 2015\", tweet)\n",
    "    tweet = re.sub(r\"djicemoon\", \"dj icemoon\", tweet)\n",
    "    tweet = re.sub(r\"LivingSafely\", \"Living Safely\", tweet)\n",
    "    tweet = re.sub(r\"FIFA16\", \"Fifa 2016\", tweet)\n",
    "    tweet = re.sub(r\"thisiswhywecanthavenicethings\", \"this is why we cannot have nice things\", tweet)\n",
    "    tweet = re.sub(r\"bbcnews\", \"bbc news\", tweet)\n",
    "    tweet = re.sub(r\"UndergroundRailraod\", \"Underground Railraod\", tweet)\n",
    "    tweet = re.sub(r\"c4news\", \"c4 news\", tweet)\n",
    "    tweet = re.sub(r\"MUDSLIDE\", \"mudslide\", tweet)\n",
    "    tweet = re.sub(r\"NoSurrender\", \"No Surrender\", tweet)\n",
    "    tweet = re.sub(r\"NotExplained\", \"Not Explained\", tweet)\n",
    "    tweet = re.sub(r\"greatbritishbakeoff\", \"great british bake off\", tweet)\n",
    "    tweet = re.sub(r\"LondonFire\", \"London Fire\", tweet)\n",
    "    tweet = re.sub(r\"KOTAWeather\", \"KOTA Weather\", tweet)\n",
    "    tweet = re.sub(r\"LuchaUnderground\", \"Lucha Underground\", tweet)\n",
    "    tweet = re.sub(r\"KOIN6News\", \"KOIN 6 News\", tweet)\n",
    "    tweet = re.sub(r\"LiveOnK2\", \"Live On K2\", tweet)\n",
    "    tweet = re.sub(r\"9NewsGoldCoast\", \"9 News Gold Coast\", tweet)\n",
    "    tweet = re.sub(r\"nikeplus\", \"nike plus\", tweet)\n",
    "    tweet = re.sub(r\"david_cameron\", \"David Cameron\", tweet)\n",
    "    tweet = re.sub(r\"peterjukes\", \"Peter Jukes\", tweet)\n",
    "    tweet = re.sub(r\"MikeParrActor\", \"Michael Parr\", tweet)\n",
    "    tweet = re.sub(r\"4PlayThursdays\", \"Foreplay Thursdays\", tweet)\n",
    "    tweet = re.sub(r\"TGF2015\", \"Tontitown Grape Festival\", tweet)\n",
    "    tweet = re.sub(r\"realmandyrain\", \"Mandy Rain\", tweet)\n",
    "    tweet = re.sub(r\"GraysonDolan\", \"Grayson Dolan\", tweet)\n",
    "    tweet = re.sub(r\"ApolloBrown\", \"Apollo Brown\", tweet)\n",
    "    tweet = re.sub(r\"saddlebrooke\", \"Saddlebrooke\", tweet)\n",
    "    tweet = re.sub(r\"TontitownGrape\", \"Tontitown Grape\", tweet)\n",
    "    tweet = re.sub(r\"AbbsWinston\", \"Abbs Winston\", tweet)\n",
    "    tweet = re.sub(r\"ShaunKing\", \"Shaun King\", tweet)\n",
    "    tweet = re.sub(r\"MeekMill\", \"Meek Mill\", tweet)\n",
    "    tweet = re.sub(r\"TornadoGiveaway\", \"Tornado Giveaway\", tweet)\n",
    "    tweet = re.sub(r\"GRupdates\", \"GR updates\", tweet)\n",
    "    tweet = re.sub(r\"SouthDowns\", \"South Downs\", tweet)\n",
    "    tweet = re.sub(r\"braininjury\", \"brain injury\", tweet)\n",
    "    tweet = re.sub(r\"auspol\", \"Australian politics\", tweet)\n",
    "    tweet = re.sub(r\"PlannedParenthood\", \"Planned Parenthood\", tweet)\n",
    "    tweet = re.sub(r\"calgaryweather\", \"Calgary Weather\", tweet)\n",
    "    tweet = re.sub(r\"weallheartonedirection\", \"we all heart one direction\", tweet)\n",
    "    tweet = re.sub(r\"edsheeran\", \"Ed Sheeran\", tweet)\n",
    "    tweet = re.sub(r\"TrueHeroes\", \"True Heroes\", tweet)\n",
    "    tweet = re.sub(r\"ComplexMag\", \"Complex Magazine\", tweet)\n",
    "    tweet = re.sub(r\"TheAdvocateMag\", \"The Advocate Magazine\", tweet)\n",
    "    tweet = re.sub(r\"CityofCalgary\", \"City of Calgary\", tweet)\n",
    "    tweet = re.sub(r\"EbolaOutbreak\", \"Ebola Outbreak\", tweet)\n",
    "    tweet = re.sub(r\"SummerFate\", \"Summer Fate\", tweet)\n",
    "    tweet = re.sub(r\"RAmag\", \"Royal Academy Magazine\", tweet)\n",
    "    tweet = re.sub(r\"offers2go\", \"offers to go\", tweet)\n",
    "    tweet = re.sub(r\"ModiMinistry\", \"Modi Ministry\", tweet)\n",
    "    tweet = re.sub(r\"TAXIWAYS\", \"taxi ways\", tweet)\n",
    "    tweet = re.sub(r\"Calum5SOS\", \"Calum Hood\", tweet)\n",
    "    tweet = re.sub(r\"JamesMelville\", \"James Melville\", tweet)\n",
    "    tweet = re.sub(r\"JamaicaObserver\", \"Jamaica Observer\", tweet)\n",
    "    tweet = re.sub(r\"TweetLikeItsSeptember11th2001\", \"Tweet like it is september 11th 2001\", tweet)\n",
    "    tweet = re.sub(r\"cbplawyers\", \"cbp lawyers\", tweet)\n",
    "    tweet = re.sub(r\"fewmoretweets\", \"few more tweets\", tweet)\n",
    "    tweet = re.sub(r\"BlackLivesMatter\", \"Black Lives Matter\", tweet)\n",
    "    tweet = re.sub(r\"NASAHurricane\", \"NASA Hurricane\", tweet)\n",
    "    tweet = re.sub(r\"onlinecommunities\", \"online communities\", tweet)\n",
    "    tweet = re.sub(r\"humanconsumption\", \"human consumption\", tweet)\n",
    "    tweet = re.sub(r\"Typhoon-Devastated\", \"Typhoon Devastated\", tweet)\n",
    "    tweet = re.sub(r\"Meat-Loving\", \"Meat Loving\", tweet)\n",
    "    tweet = re.sub(r\"facialabuse\", \"facial abuse\", tweet)\n",
    "    tweet = re.sub(r\"LakeCounty\", \"Lake County\", tweet)\n",
    "    tweet = re.sub(r\"BeingAuthor\", \"Being Author\", tweet)\n",
    "    tweet = re.sub(r\"withheavenly\", \"with heavenly\", tweet)\n",
    "    tweet = re.sub(r\"thankU\", \"thank you\", tweet)\n",
    "    tweet = re.sub(r\"iTunesMusic\", \"iTunes Music\", tweet)\n",
    "    tweet = re.sub(r\"OffensiveContent\", \"Offensive Content\", tweet)\n",
    "    tweet = re.sub(r\"WorstSummerJob\", \"Worst Summer Job\", tweet)\n",
    "    tweet = re.sub(r\"HarryBeCareful\", \"Harry Be Careful\", tweet)\n",
    "    tweet = re.sub(r\"NASASolarSystem\", \"NASA Solar System\", tweet)\n",
    "    tweet = re.sub(r\"animalrescue\", \"animal rescue\", tweet)\n",
    "    tweet = re.sub(r\"KurtSchlichter\", \"Kurt Schlichter\", tweet)\n",
    "    tweet = re.sub(r\"Throwingknifes\", \"Throwing knives\", tweet)\n",
    "    tweet = re.sub(r\"GodsLove\", \"God's Love\", tweet)\n",
    "    tweet = re.sub(r\"bookboost\", \"book boost\", tweet)\n",
    "    tweet = re.sub(r\"ibooklove\", \"I book love\", tweet)\n",
    "    tweet = re.sub(r\"NestleIndia\", \"Nestle India\", tweet)\n",
    "    tweet = re.sub(r\"realDonaldTrump\", \"Donald Trump\", tweet)\n",
    "    tweet = re.sub(r\"DavidVonderhaar\", \"David Vonderhaar\", tweet)\n",
    "    tweet = re.sub(r\"CecilTheLion\", \"Cecil The Lion\", tweet)\n",
    "    tweet = re.sub(r\"weathernetwork\", \"weather network\", tweet)\n",
    "    tweet = re.sub(r\"GOPDebate\", \"GOP Debate\", tweet)\n",
    "    tweet = re.sub(r\"RickPerry\", \"Rick Perry\", tweet)\n",
    "    tweet = re.sub(r\"frontpage\", \"front page\", tweet)\n",
    "    tweet = re.sub(r\"NewsInTweets\", \"News In Tweets\", tweet)\n",
    "    tweet = re.sub(r\"ViralSpell\", \"Viral Spell\", tweet)\n",
    "    tweet = re.sub(r\"til_now\", \"until now\", tweet)\n",
    "    tweet = re.sub(r\"volcanoinRussia\", \"volcano in Russia\", tweet)\n",
    "    tweet = re.sub(r\"ZippedNews\", \"Zipped News\", tweet)\n",
    "    tweet = re.sub(r\"MicheleBachman\", \"Michele Bachman\", tweet)\n",
    "    tweet = re.sub(r\"53inch\", \"53 inch\", tweet)\n",
    "    tweet = re.sub(r\"KerrickTrial\", \"Kerrick Trial\", tweet)\n",
    "    tweet = re.sub(r\"abstorm\", \"Alberta Storm\", tweet)\n",
    "    tweet = re.sub(r\"Beyhive\", \"Beyonce hive\", tweet)\n",
    "    tweet = re.sub(r\"RockyFire\", \"Rocky Fire\", tweet)\n",
    "    tweet = re.sub(r\"Listen/Buy\", \"Listen / Buy\", tweet)\n",
    "    tweet = re.sub(r\"ArtistsUnited\", \"Artists United\", tweet)\n",
    "    tweet = re.sub(r\"ENGvAUS\", \"England vs Australia\", tweet)\n",
    "    tweet = re.sub(r\"ScottWalker\", \"Scott Walker\", tweet)\n",
    "    return tweet\n",
    "\n",
    "\n",
    "train['text'] = train['text'].apply(clean)\n",
    "test['text'] = test['text'].apply(clean)"
   ]
  },
  {
   "cell_type": "code",
   "execution_count": 53,
   "metadata": {},
   "outputs": [
    {
     "name": "stdout",
     "output_type": "stream",
     "text": [
      "[[0 0 0 ... 0 0 0]]\n"
     ]
    }
   ],
   "source": [
    "# Vectorize the text using CountVectorizer\n",
    "count_vectorizer = CountVectorizer(analyzer='word', binary=True)\n",
    "\n",
    "train_vectors = count_vectorizer.fit_transform(train['text'])\n",
    "test_vectors = count_vectorizer.transform(test['text'])\n",
    "\n",
    "# Printing first vector\n",
    "print(train_vectors[0].todense())"
   ]
  },
  {
   "cell_type": "code",
   "execution_count": 54,
   "metadata": {},
   "outputs": [],
   "source": [
    "# Vectorize the text using TFIDF\n",
    "tfidf = TfidfVectorizer(min_df=2, max_df=0.5, ngram_range=(1, 2))\n",
    "\n",
    "train_tfidf = tfidf.fit_transform(train['text'])\n",
    "test_tfidf = tfidf.transform(test[\"text\"])"
   ]
  },
  {
   "cell_type": "markdown",
   "metadata": {},
   "source": [
    "### SVC"
   ]
  },
  {
   "cell_type": "code",
   "execution_count": 237,
   "metadata": {},
   "outputs": [
    {
     "data": {
      "text/plain": [
       "SVC()"
      ]
     },
     "execution_count": 237,
     "metadata": {},
     "output_type": "execute_result"
    }
   ],
   "source": [
    "svm_clf = SVC()\n",
    "svm_clf.fit(train_vectors, y_train)"
   ]
  },
  {
   "cell_type": "code",
   "execution_count": 238,
   "metadata": {},
   "outputs": [
    {
     "data": {
      "text/plain": [
       "array([0.56329114, 0.45373134, 0.53745318, 0.48172043, 0.67579909])"
      ]
     },
     "execution_count": 238,
     "metadata": {},
     "output_type": "execute_result"
    }
   ],
   "source": [
    "from sklearn.model_selection import cross_val_score\n",
    "\n",
    "scores_svc = cross_val_score(svm_clf, train_vectors, y_train, scoring = \"f1\", cv = 5)\n",
    "scores_svc"
   ]
  },
  {
   "cell_type": "markdown",
   "metadata": {},
   "source": [
    "### Logistic Regression"
   ]
  },
  {
   "cell_type": "code",
   "execution_count": 239,
   "metadata": {},
   "outputs": [
    {
     "data": {
      "text/plain": [
       "LogisticRegression()"
      ]
     },
     "execution_count": 239,
     "metadata": {},
     "output_type": "execute_result"
    }
   ],
   "source": [
    "log_reg = LogisticRegression(C=1.0)\n",
    "log_reg.fit(train_vectors, y_train)"
   ]
  },
  {
   "cell_type": "code",
   "execution_count": 240,
   "metadata": {},
   "outputs": [
    {
     "data": {
      "text/plain": [
       "array([0.61274976, 0.49480969, 0.57692308, 0.53639847, 0.68904876])"
      ]
     },
     "execution_count": 240,
     "metadata": {},
     "output_type": "execute_result"
    }
   ],
   "source": [
    "scores_logreg = cross_val_score(log_reg, train_vectors, y_train, scoring = \"f1\", cv = 5)\n",
    "scores_logreg"
   ]
  },
  {
   "cell_type": "markdown",
   "metadata": {},
   "source": [
    "### DecisionTreeClassifier"
   ]
  },
  {
   "cell_type": "code",
   "execution_count": 241,
   "metadata": {},
   "outputs": [
    {
     "data": {
      "text/plain": [
       "DecisionTreeClassifier()"
      ]
     },
     "execution_count": 241,
     "metadata": {},
     "output_type": "execute_result"
    }
   ],
   "source": [
    "dectree_clf = DecisionTreeClassifier()\n",
    "dectree_clf.fit(train_vectors, y_train)"
   ]
  },
  {
   "cell_type": "code",
   "execution_count": 242,
   "metadata": {},
   "outputs": [
    {
     "data": {
      "text/plain": [
       "array([0.53577982, 0.44389844, 0.53783982, 0.45422535, 0.6143695 ])"
      ]
     },
     "execution_count": 242,
     "metadata": {},
     "output_type": "execute_result"
    }
   ],
   "source": [
    "scores_dectree = cross_val_score(dectree_clf, train_vectors, y_train, scoring = \"f1\", cv = 5)\n",
    "scores_dectree"
   ]
  },
  {
   "cell_type": "markdown",
   "metadata": {},
   "source": [
    "### RandomForestClassifier"
   ]
  },
  {
   "cell_type": "code",
   "execution_count": 243,
   "metadata": {},
   "outputs": [
    {
     "data": {
      "text/plain": [
       "RandomForestClassifier()"
      ]
     },
     "execution_count": 243,
     "metadata": {},
     "output_type": "execute_result"
    }
   ],
   "source": [
    "rand_frst = RandomForestClassifier()\n",
    "rand_frst.fit(train_vectors, y_train)"
   ]
  },
  {
   "cell_type": "code",
   "execution_count": 244,
   "metadata": {},
   "outputs": [
    {
     "data": {
      "text/plain": [
       "array([0.55366098, 0.42702703, 0.54589372, 0.45507812, 0.65712013])"
      ]
     },
     "execution_count": 244,
     "metadata": {},
     "output_type": "execute_result"
    }
   ],
   "source": [
    "scores_randfrst = cross_val_score(rand_frst, train_vectors, y_train, scoring = \"f1\", cv = 5)\n",
    "scores_randfrst"
   ]
  },
  {
   "cell_type": "markdown",
   "metadata": {},
   "source": [
    "### KNeighbors"
   ]
  },
  {
   "cell_type": "code",
   "execution_count": 249,
   "metadata": {},
   "outputs": [
    {
     "data": {
      "text/plain": [
       "KNeighborsClassifier(n_neighbors=10)"
      ]
     },
     "execution_count": 249,
     "metadata": {},
     "output_type": "execute_result"
    }
   ],
   "source": [
    "kneighbor = KNeighborsClassifier(n_neighbors=10)\n",
    "kneighbor.fit(train_vectors, y_train)"
   ]
  },
  {
   "cell_type": "code",
   "execution_count": 250,
   "metadata": {},
   "outputs": [
    {
     "data": {
      "text/plain": [
       "array([0.07058824, 0.03598201, 0.02105263, 0.04179104, 0.08211144])"
      ]
     },
     "execution_count": 250,
     "metadata": {},
     "output_type": "execute_result"
    }
   ],
   "source": [
    "scores_kneighbor = cross_val_score(kneighbor, train_vectors, y_train, scoring = \"f1\", cv = 5)\n",
    "scores_kneighbor"
   ]
  },
  {
   "cell_type": "markdown",
   "metadata": {},
   "source": [
    "### xgb"
   ]
  },
  {
   "cell_type": "code",
   "execution_count": 251,
   "metadata": {},
   "outputs": [
    {
     "data": {
      "text/plain": [
       "XGBClassifier(base_score=0.5, booster='gbtree', colsample_bylevel=1,\n",
       "              colsample_bynode=1, colsample_bytree=1, gamma=0, gpu_id=-1,\n",
       "              importance_type='gain', interaction_constraints='',\n",
       "              learning_rate=0.300000012, max_delta_step=0, max_depth=6,\n",
       "              min_child_weight=1, missing=nan, monotone_constraints='()',\n",
       "              n_estimators=100, n_jobs=0, num_parallel_tree=1, random_state=0,\n",
       "              reg_alpha=0, reg_lambda=1, scale_pos_weight=1, subsample=1,\n",
       "              tree_method='exact', validate_parameters=1, verbosity=None)"
      ]
     },
     "execution_count": 251,
     "metadata": {},
     "output_type": "execute_result"
    }
   ],
   "source": [
    "import xgboost as xb\n",
    "from xgboost import XGBClassifier\n",
    "\n",
    "xgb = XGBClassifier()\n",
    "xgb.fit(train_vectors, y_train)"
   ]
  },
  {
   "cell_type": "code",
   "execution_count": 252,
   "metadata": {},
   "outputs": [
    {
     "data": {
      "text/plain": [
       "array([0.50790306, 0.38606403, 0.45921986, 0.36479321, 0.50895382])"
      ]
     },
     "execution_count": 252,
     "metadata": {},
     "output_type": "execute_result"
    }
   ],
   "source": [
    "scores_xgb = cross_val_score(xgb, train_vectors, y_train, scoring = \"f1\", cv = 5)\n",
    "scores_xgb"
   ]
  },
  {
   "cell_type": "markdown",
   "metadata": {},
   "source": [
    "### BaggingClassifier"
   ]
  },
  {
   "cell_type": "code",
   "execution_count": 253,
   "metadata": {},
   "outputs": [
    {
     "data": {
      "text/plain": [
       "BaggingClassifier()"
      ]
     },
     "execution_count": 253,
     "metadata": {},
     "output_type": "execute_result"
    }
   ],
   "source": [
    "from sklearn.ensemble import BaggingClassifier\n",
    "\n",
    "bagg = BaggingClassifier()\n",
    "bagg.fit(train_vectors, y_train)"
   ]
  },
  {
   "cell_type": "code",
   "execution_count": 254,
   "metadata": {},
   "outputs": [
    {
     "data": {
      "text/plain": [
       "array([0.56504854, 0.36678832, 0.52131939, 0.43656716, 0.52033898])"
      ]
     },
     "execution_count": 254,
     "metadata": {},
     "output_type": "execute_result"
    }
   ],
   "source": [
    "scores_bagg = cross_val_score(bagg, train_vectors, y_train, scoring = \"f1\", cv = 5)\n",
    "scores_bagg"
   ]
  },
  {
   "cell_type": "markdown",
   "metadata": {},
   "source": [
    "### AdaBoostClassifier"
   ]
  },
  {
   "cell_type": "code",
   "execution_count": 255,
   "metadata": {},
   "outputs": [
    {
     "data": {
      "text/plain": [
       "AdaBoostClassifier()"
      ]
     },
     "execution_count": 255,
     "metadata": {},
     "output_type": "execute_result"
    }
   ],
   "source": [
    "from sklearn.ensemble import AdaBoostClassifier\n",
    "\n",
    "ada = AdaBoostClassifier()\n",
    "ada.fit(train_vectors, y_train)"
   ]
  },
  {
   "cell_type": "code",
   "execution_count": 256,
   "metadata": {},
   "outputs": [
    {
     "data": {
      "text/plain": [
       "array([0.48085106, 0.41082164, 0.41642789, 0.38219327, 0.51464435])"
      ]
     },
     "execution_count": 256,
     "metadata": {},
     "output_type": "execute_result"
    }
   ],
   "source": [
    "scores_ada = cross_val_score(ada, train_vectors, y_train, scoring = \"f1\", cv = 5)\n",
    "scores_ada"
   ]
  },
  {
   "cell_type": "markdown",
   "metadata": {},
   "source": [
    "### MultinomialNB (using this model able to reach top 37% position on leaderboard, Kaggle)"
   ]
  },
  {
   "cell_type": "code",
   "execution_count": 261,
   "metadata": {},
   "outputs": [
    {
     "data": {
      "text/plain": [
       "MultinomialNB(alpha=1)"
      ]
     },
     "execution_count": 261,
     "metadata": {},
     "output_type": "execute_result"
    }
   ],
   "source": [
    "mnb = MultinomialNB(alpha=1)\n",
    "mnb.fit(train_vectors, y_train)"
   ]
  },
  {
   "cell_type": "code",
   "execution_count": 262,
   "metadata": {},
   "outputs": [
    {
     "data": {
      "text/plain": [
       "array([0.635     , 0.6116643 , 0.68188302, 0.640553  , 0.72380952])"
      ]
     },
     "execution_count": 262,
     "metadata": {},
     "output_type": "execute_result"
    }
   ],
   "source": [
    "scores_mnb = cross_val_score(mnb, train_vectors, y_train, scoring = \"f1\", cv = 5)\n",
    "scores_mnb"
   ]
  },
  {
   "cell_type": "code",
   "execution_count": 273,
   "metadata": {},
   "outputs": [
    {
     "data": {
      "text/plain": [
       "MultinomialNB(alpha=1)"
      ]
     },
     "execution_count": 273,
     "metadata": {},
     "output_type": "execute_result"
    }
   ],
   "source": [
    "mnb.fit(train_tfidf, y_train)"
   ]
  },
  {
   "cell_type": "code",
   "execution_count": 274,
   "metadata": {},
   "outputs": [
    {
     "data": {
      "text/plain": [
       "array([0.57198825, 0.57192982, 0.61498258, 0.59019426, 0.73878205])"
      ]
     },
     "execution_count": 274,
     "metadata": {},
     "output_type": "execute_result"
    }
   ],
   "source": [
    "scores_tfidf = cross_val_score(mnb, train_tfidf, y_train, scoring = \"f1\", cv = 5)\n",
    "scores_tfidf"
   ]
  },
  {
   "cell_type": "markdown",
   "metadata": {},
   "source": [
    "### grid search logistic regression"
   ]
  },
  {
   "cell_type": "code",
   "execution_count": 258,
   "metadata": {},
   "outputs": [
    {
     "name": "stdout",
     "output_type": "stream",
     "text": [
      "Fitting 5 folds for each of 20 candidates, totalling 100 fits\n"
     ]
    },
    {
     "name": "stderr",
     "output_type": "stream",
     "text": [
      "[Parallel(n_jobs=-1)]: Using backend LokyBackend with 8 concurrent workers.\n",
      "[Parallel(n_jobs=-1)]: Done  52 tasks      | elapsed:    3.0s\n",
      "[Parallel(n_jobs=-1)]: Done  85 out of 100 | elapsed:    5.2s remaining:    0.8s\n",
      "[Parallel(n_jobs=-1)]: Done 100 out of 100 | elapsed:    6.4s finished\n"
     ]
    },
    {
     "name": "stdout",
     "output_type": "stream",
     "text": [
      "0.59072426064039\n",
      "{'C': 10000.0, 'penalty': 'l2'}\n"
     ]
    },
    {
     "name": "stderr",
     "output_type": "stream",
     "text": [
      "c:\\users\\mahesh kumar m r\\anaconda3\\envs\\tensorflow\\lib\\site-packages\\sklearn\\linear_model\\_logistic.py:764: ConvergenceWarning: lbfgs failed to converge (status=1):\n",
      "STOP: TOTAL NO. of ITERATIONS REACHED LIMIT.\n",
      "\n",
      "Increase the number of iterations (max_iter) or scale the data as shown in:\n",
      "    https://scikit-learn.org/stable/modules/preprocessing.html\n",
      "Please also refer to the documentation for alternative solver options:\n",
      "    https://scikit-learn.org/stable/modules/linear_model.html#logistic-regression\n",
      "  extra_warning_msg=_LOGISTIC_SOLVER_CONVERGENCE_MSG)\n"
     ]
    }
   ],
   "source": [
    "penalty = ['l1', 'l2']\n",
    "C = np.logspace(0, 4, 10)\n",
    "\n",
    "hyperparams = {'penalty': penalty, 'C': C}\n",
    "\n",
    "gd1 = GridSearchCV(estimator = LogisticRegression(), param_grid = hyperparams, \n",
    "                verbose=True, cv=5, scoring = \"f1\", n_jobs=-1)\n",
    "\n",
    "gd1.fit(train_vectors, y_train)\n",
    "print(gd1.best_score_)\n",
    "print(gd1.best_params_)"
   ]
  },
  {
   "cell_type": "markdown",
   "metadata": {},
   "source": [
    "### Grid search for AdaBoostClassifier"
   ]
  },
  {
   "cell_type": "code",
   "execution_count": 260,
   "metadata": {},
   "outputs": [
    {
     "name": "stdout",
     "output_type": "stream",
     "text": [
      "Fitting 5 folds for each of 28 candidates, totalling 140 fits\n"
     ]
    },
    {
     "name": "stderr",
     "output_type": "stream",
     "text": [
      "[Parallel(n_jobs=-1)]: Using backend LokyBackend with 8 concurrent workers.\n",
      "[Parallel(n_jobs=-1)]: Done  34 tasks      | elapsed:  2.8min\n",
      "[Parallel(n_jobs=-1)]: Done 140 out of 140 | elapsed: 13.8min finished\n"
     ]
    },
    {
     "name": "stdout",
     "output_type": "stream",
     "text": [
      "0.5297673302743737\n",
      "{'learning_rate': 1, 'n_estimators': 500}\n"
     ]
    }
   ],
   "source": [
    "n_estimators = [10, 100, 200, 500]\n",
    "learning_rate = [0.001, 0.01, 0.1, 0.5, 1, 1.5, 2]\n",
    "\n",
    "hyperparams = {'n_estimators': n_estimators, 'learning_rate': learning_rate}\n",
    "\n",
    "gd2=GridSearchCV(estimator = AdaBoostClassifier(), param_grid = hyperparams, \n",
    "                verbose=True, cv=5, scoring = \"f1\", n_jobs=-1)\n",
    "\n",
    "gd2.fit(train_vectors, y_train)\n",
    "print(gd2.best_score_)\n",
    "print(gd2.best_params_)"
   ]
  },
  {
   "cell_type": "markdown",
   "metadata": {},
   "source": [
    "### Grid search for gradient boosting"
   ]
  },
  {
   "cell_type": "code",
   "execution_count": 280,
   "metadata": {},
   "outputs": [
    {
     "name": "stdout",
     "output_type": "stream",
     "text": [
      "Fitting 5 folds for each of 15 candidates, totalling 75 fits\n"
     ]
    },
    {
     "name": "stderr",
     "output_type": "stream",
     "text": [
      "[Parallel(n_jobs=-1)]: Using backend LokyBackend with 8 concurrent workers.\n",
      "[Parallel(n_jobs=-1)]: Done  34 tasks      | elapsed:  8.6min\n",
      "[Parallel(n_jobs=-1)]: Done  75 out of  75 | elapsed: 20.6min finished\n"
     ]
    },
    {
     "name": "stdout",
     "output_type": "stream",
     "text": [
      "0.5120235594168945\n",
      "{'learning_rate': 0.5, 'n_estimators': 1000}\n"
     ]
    }
   ],
   "source": [
    "from sklearn.ensemble import GradientBoostingClassifier\n",
    "\n",
    "learning_rate = [0.01, 0.05, 0.1, 0.2, 0.5]\n",
    "n_estimators = [100, 1000, 2000]\n",
    "max_depth = [3, 5, 10, 15]\n",
    "\n",
    "hyperparams = {'learning_rate': learning_rate, 'n_estimators': n_estimators}\n",
    "\n",
    "gd3=GridSearchCV(estimator = GradientBoostingClassifier(), param_grid = hyperparams, \n",
    "                verbose=True, cv=5, scoring = \"f1\", n_jobs=-1)\n",
    "\n",
    "gd3.fit(train_vectors, y_train)\n",
    "print(gd3.best_score_)\n",
    "print(gd3.best_params_)"
   ]
  },
  {
   "cell_type": "markdown",
   "metadata": {},
   "source": [
    "### Grid search for SVC"
   ]
  },
  {
   "cell_type": "code",
   "execution_count": 277,
   "metadata": {},
   "outputs": [
    {
     "name": "stdout",
     "output_type": "stream",
     "text": [
      "Fitting 5 folds for each of 72 candidates, totalling 360 fits\n",
      "[CV] C=0.1, gamma=0.1, kernel=linear .................................\n"
     ]
    },
    {
     "name": "stderr",
     "output_type": "stream",
     "text": [
      "[Parallel(n_jobs=1)]: Using backend SequentialBackend with 1 concurrent workers.\n"
     ]
    },
    {
     "name": "stdout",
     "output_type": "stream",
     "text": [
      "[CV] .................. C=0.1, gamma=0.1, kernel=linear, total=   6.2s\n",
      "[CV] C=0.1, gamma=0.1, kernel=linear .................................\n"
     ]
    },
    {
     "name": "stderr",
     "output_type": "stream",
     "text": [
      "[Parallel(n_jobs=1)]: Done   1 out of   1 | elapsed:    6.1s remaining:    0.0s\n"
     ]
    },
    {
     "name": "stdout",
     "output_type": "stream",
     "text": [
      "[CV] .................. C=0.1, gamma=0.1, kernel=linear, total=   5.1s\n",
      "[CV] C=0.1, gamma=0.1, kernel=linear .................................\n",
      "[CV] .................. C=0.1, gamma=0.1, kernel=linear, total=   6.0s\n",
      "[CV] C=0.1, gamma=0.1, kernel=linear .................................\n",
      "[CV] .................. C=0.1, gamma=0.1, kernel=linear, total=   5.6s\n",
      "[CV] C=0.1, gamma=0.1, kernel=linear .................................\n",
      "[CV] .................. C=0.1, gamma=0.1, kernel=linear, total=   5.9s\n",
      "[CV] C=0.1, gamma=0.1, kernel=rbf ....................................\n",
      "[CV] ..................... C=0.1, gamma=0.1, kernel=rbf, total=   8.4s\n",
      "[CV] C=0.1, gamma=0.1, kernel=rbf ....................................\n",
      "[CV] ..................... C=0.1, gamma=0.1, kernel=rbf, total=   7.3s\n",
      "[CV] C=0.1, gamma=0.1, kernel=rbf ....................................\n",
      "[CV] ..................... C=0.1, gamma=0.1, kernel=rbf, total=   8.3s\n",
      "[CV] C=0.1, gamma=0.1, kernel=rbf ....................................\n",
      "[CV] ..................... C=0.1, gamma=0.1, kernel=rbf, total=   7.7s\n",
      "[CV] C=0.1, gamma=0.1, kernel=rbf ....................................\n",
      "[CV] ..................... C=0.1, gamma=0.1, kernel=rbf, total=   8.3s\n",
      "[CV] C=0.1, gamma=0.1, kernel=poly ...................................\n",
      "[CV] .................... C=0.1, gamma=0.1, kernel=poly, total=   8.1s\n",
      "[CV] C=0.1, gamma=0.1, kernel=poly ...................................\n",
      "[CV] .................... C=0.1, gamma=0.1, kernel=poly, total=   8.0s\n",
      "[CV] C=0.1, gamma=0.1, kernel=poly ...................................\n",
      "[CV] .................... C=0.1, gamma=0.1, kernel=poly, total=   7.5s\n",
      "[CV] C=0.1, gamma=0.1, kernel=poly ...................................\n",
      "[CV] .................... C=0.1, gamma=0.1, kernel=poly, total=   8.5s\n",
      "[CV] C=0.1, gamma=0.1, kernel=poly ...................................\n",
      "[CV] .................... C=0.1, gamma=0.1, kernel=poly, total=   8.3s\n",
      "[CV] C=0.1, gamma=0.01, kernel=linear ................................\n",
      "[CV] ................. C=0.1, gamma=0.01, kernel=linear, total=   6.3s\n",
      "[CV] C=0.1, gamma=0.01, kernel=linear ................................\n",
      "[CV] ................. C=0.1, gamma=0.01, kernel=linear, total=   5.3s\n",
      "[CV] C=0.1, gamma=0.01, kernel=linear ................................\n",
      "[CV] ................. C=0.1, gamma=0.01, kernel=linear, total=   5.5s\n",
      "[CV] C=0.1, gamma=0.01, kernel=linear ................................\n",
      "[CV] ................. C=0.1, gamma=0.01, kernel=linear, total=   5.6s\n",
      "[CV] C=0.1, gamma=0.01, kernel=linear ................................\n",
      "[CV] ................. C=0.1, gamma=0.01, kernel=linear, total=   5.7s\n",
      "[CV] C=0.1, gamma=0.01, kernel=rbf ...................................\n",
      "[CV] .................... C=0.1, gamma=0.01, kernel=rbf, total=   7.9s\n",
      "[CV] C=0.1, gamma=0.01, kernel=rbf ...................................\n",
      "[CV] .................... C=0.1, gamma=0.01, kernel=rbf, total=   8.0s\n",
      "[CV] C=0.1, gamma=0.01, kernel=rbf ...................................\n",
      "[CV] .................... C=0.1, gamma=0.01, kernel=rbf, total=   8.2s\n",
      "[CV] C=0.1, gamma=0.01, kernel=rbf ...................................\n",
      "[CV] .................... C=0.1, gamma=0.01, kernel=rbf, total=   7.2s\n",
      "[CV] C=0.1, gamma=0.01, kernel=rbf ...................................\n",
      "[CV] .................... C=0.1, gamma=0.01, kernel=rbf, total=   7.7s\n",
      "[CV] C=0.1, gamma=0.01, kernel=poly ..................................\n",
      "[CV] ................... C=0.1, gamma=0.01, kernel=poly, total=   6.7s\n",
      "[CV] C=0.1, gamma=0.01, kernel=poly ..................................\n",
      "[CV] ................... C=0.1, gamma=0.01, kernel=poly, total=   6.9s\n",
      "[CV] C=0.1, gamma=0.01, kernel=poly ..................................\n",
      "[CV] ................... C=0.1, gamma=0.01, kernel=poly, total=   7.0s\n",
      "[CV] C=0.1, gamma=0.01, kernel=poly ..................................\n",
      "[CV] ................... C=0.1, gamma=0.01, kernel=poly, total=   5.9s\n",
      "[CV] C=0.1, gamma=0.01, kernel=poly ..................................\n",
      "[CV] ................... C=0.1, gamma=0.01, kernel=poly, total=   7.1s\n",
      "[CV] C=0.1, gamma=0.001, kernel=linear ...............................\n",
      "[CV] ................ C=0.1, gamma=0.001, kernel=linear, total=   5.7s\n",
      "[CV] C=0.1, gamma=0.001, kernel=linear ...............................\n",
      "[CV] ................ C=0.1, gamma=0.001, kernel=linear, total=   5.9s\n",
      "[CV] C=0.1, gamma=0.001, kernel=linear ...............................\n",
      "[CV] ................ C=0.1, gamma=0.001, kernel=linear, total=   5.9s\n",
      "[CV] C=0.1, gamma=0.001, kernel=linear ...............................\n",
      "[CV] ................ C=0.1, gamma=0.001, kernel=linear, total=   5.2s\n",
      "[CV] C=0.1, gamma=0.001, kernel=linear ...............................\n",
      "[CV] ................ C=0.1, gamma=0.001, kernel=linear, total=   6.3s\n",
      "[CV] C=0.1, gamma=0.001, kernel=rbf ..................................\n",
      "[CV] ................... C=0.1, gamma=0.001, kernel=rbf, total=   7.5s\n",
      "[CV] C=0.1, gamma=0.001, kernel=rbf ..................................\n",
      "[CV] ................... C=0.1, gamma=0.001, kernel=rbf, total=   7.1s\n",
      "[CV] C=0.1, gamma=0.001, kernel=rbf ..................................\n",
      "[CV] ................... C=0.1, gamma=0.001, kernel=rbf, total=   7.8s\n",
      "[CV] C=0.1, gamma=0.001, kernel=rbf ..................................\n",
      "[CV] ................... C=0.1, gamma=0.001, kernel=rbf, total=   6.9s\n",
      "[CV] C=0.1, gamma=0.001, kernel=rbf ..................................\n",
      "[CV] ................... C=0.1, gamma=0.001, kernel=rbf, total=   7.8s\n",
      "[CV] C=0.1, gamma=0.001, kernel=poly .................................\n",
      "[CV] .................. C=0.1, gamma=0.001, kernel=poly, total=   6.6s\n",
      "[CV] C=0.1, gamma=0.001, kernel=poly .................................\n",
      "[CV] .................. C=0.1, gamma=0.001, kernel=poly, total=   7.1s\n",
      "[CV] C=0.1, gamma=0.001, kernel=poly .................................\n",
      "[CV] .................. C=0.1, gamma=0.001, kernel=poly, total=   6.5s\n",
      "[CV] C=0.1, gamma=0.001, kernel=poly .................................\n",
      "[CV] .................. C=0.1, gamma=0.001, kernel=poly, total=   7.3s\n",
      "[CV] C=0.1, gamma=0.001, kernel=poly .................................\n",
      "[CV] .................. C=0.1, gamma=0.001, kernel=poly, total=   6.9s\n",
      "[CV] C=0.1, gamma=0.0001, kernel=linear ..............................\n",
      "[CV] ............... C=0.1, gamma=0.0001, kernel=linear, total=   5.9s\n",
      "[CV] C=0.1, gamma=0.0001, kernel=linear ..............................\n",
      "[CV] ............... C=0.1, gamma=0.0001, kernel=linear, total=   5.9s\n",
      "[CV] C=0.1, gamma=0.0001, kernel=linear ..............................\n",
      "[CV] ............... C=0.1, gamma=0.0001, kernel=linear, total=   5.2s\n",
      "[CV] C=0.1, gamma=0.0001, kernel=linear ..............................\n",
      "[CV] ............... C=0.1, gamma=0.0001, kernel=linear, total=   5.9s\n",
      "[CV] C=0.1, gamma=0.0001, kernel=linear ..............................\n",
      "[CV] ............... C=0.1, gamma=0.0001, kernel=linear, total=   6.3s\n",
      "[CV] C=0.1, gamma=0.0001, kernel=rbf .................................\n",
      "[CV] .................. C=0.1, gamma=0.0001, kernel=rbf, total=   6.9s\n",
      "[CV] C=0.1, gamma=0.0001, kernel=rbf .................................\n",
      "[CV] .................. C=0.1, gamma=0.0001, kernel=rbf, total=   7.2s\n",
      "[CV] C=0.1, gamma=0.0001, kernel=rbf .................................\n",
      "[CV] .................. C=0.1, gamma=0.0001, kernel=rbf, total=   6.2s\n",
      "[CV] C=0.1, gamma=0.0001, kernel=rbf .................................\n",
      "[CV] .................. C=0.1, gamma=0.0001, kernel=rbf, total=   7.2s\n",
      "[CV] C=0.1, gamma=0.0001, kernel=rbf .................................\n",
      "[CV] .................. C=0.1, gamma=0.0001, kernel=rbf, total=   7.0s\n",
      "[CV] C=0.1, gamma=0.0001, kernel=poly ................................\n",
      "[CV] ................. C=0.1, gamma=0.0001, kernel=poly, total=   6.9s\n",
      "[CV] C=0.1, gamma=0.0001, kernel=poly ................................\n",
      "[CV] ................. C=0.1, gamma=0.0001, kernel=poly, total=   7.1s\n",
      "[CV] C=0.1, gamma=0.0001, kernel=poly ................................\n",
      "[CV] ................. C=0.1, gamma=0.0001, kernel=poly, total=   6.0s\n",
      "[CV] C=0.1, gamma=0.0001, kernel=poly ................................\n",
      "[CV] ................. C=0.1, gamma=0.0001, kernel=poly, total=   6.9s\n",
      "[CV] C=0.1, gamma=0.0001, kernel=poly ................................\n",
      "[CV] ................. C=0.1, gamma=0.0001, kernel=poly, total=   6.8s\n",
      "[CV] C=1, gamma=0.1, kernel=linear ...................................\n",
      "[CV] .................... C=1, gamma=0.1, kernel=linear, total=   9.5s\n",
      "[CV] C=1, gamma=0.1, kernel=linear ...................................\n",
      "[CV] .................... C=1, gamma=0.1, kernel=linear, total=   8.6s\n",
      "[CV] C=1, gamma=0.1, kernel=linear ...................................\n",
      "[CV] .................... C=1, gamma=0.1, kernel=linear, total=   9.1s\n",
      "[CV] C=1, gamma=0.1, kernel=linear ...................................\n",
      "[CV] .................... C=1, gamma=0.1, kernel=linear, total=   8.8s\n",
      "[CV] C=1, gamma=0.1, kernel=linear ...................................\n",
      "[CV] .................... C=1, gamma=0.1, kernel=linear, total=   9.3s\n",
      "[CV] C=1, gamma=0.1, kernel=rbf ......................................\n",
      "[CV] ....................... C=1, gamma=0.1, kernel=rbf, total=   7.3s\n",
      "[CV] C=1, gamma=0.1, kernel=rbf ......................................\n",
      "[CV] ....................... C=1, gamma=0.1, kernel=rbf, total=   7.9s\n",
      "[CV] C=1, gamma=0.1, kernel=rbf ......................................\n",
      "[CV] ....................... C=1, gamma=0.1, kernel=rbf, total=   7.3s\n",
      "[CV] C=1, gamma=0.1, kernel=rbf ......................................\n",
      "[CV] ....................... C=1, gamma=0.1, kernel=rbf, total=   8.1s\n",
      "[CV] C=1, gamma=0.1, kernel=rbf ......................................\n",
      "[CV] ....................... C=1, gamma=0.1, kernel=rbf, total=   7.5s\n",
      "[CV] C=1, gamma=0.1, kernel=poly .....................................\n",
      "[CV] ...................... C=1, gamma=0.1, kernel=poly, total=   9.2s\n",
      "[CV] C=1, gamma=0.1, kernel=poly .....................................\n",
      "[CV] ...................... C=1, gamma=0.1, kernel=poly, total=   8.5s\n",
      "[CV] C=1, gamma=0.1, kernel=poly .....................................\n",
      "[CV] ...................... C=1, gamma=0.1, kernel=poly, total=   9.4s\n",
      "[CV] C=1, gamma=0.1, kernel=poly .....................................\n",
      "[CV] ...................... C=1, gamma=0.1, kernel=poly, total=   8.8s\n",
      "[CV] C=1, gamma=0.1, kernel=poly .....................................\n",
      "[CV] ...................... C=1, gamma=0.1, kernel=poly, total=   8.7s\n",
      "[CV] C=1, gamma=0.01, kernel=linear ..................................\n",
      "[CV] ................... C=1, gamma=0.01, kernel=linear, total=   9.3s\n",
      "[CV] C=1, gamma=0.01, kernel=linear ..................................\n",
      "[CV] ................... C=1, gamma=0.01, kernel=linear, total=   8.3s\n",
      "[CV] C=1, gamma=0.01, kernel=linear ..................................\n",
      "[CV] ................... C=1, gamma=0.01, kernel=linear, total=   9.3s\n",
      "[CV] C=1, gamma=0.01, kernel=linear ..................................\n",
      "[CV] ................... C=1, gamma=0.01, kernel=linear, total=   8.8s\n",
      "[CV] C=1, gamma=0.01, kernel=linear ..................................\n",
      "[CV] ................... C=1, gamma=0.01, kernel=linear, total=   9.4s\n",
      "[CV] C=1, gamma=0.01, kernel=rbf .....................................\n",
      "[CV] ...................... C=1, gamma=0.01, kernel=rbf, total=   7.0s\n",
      "[CV] C=1, gamma=0.01, kernel=rbf .....................................\n",
      "[CV] ...................... C=1, gamma=0.01, kernel=rbf, total=   7.4s\n",
      "[CV] C=1, gamma=0.01, kernel=rbf .....................................\n",
      "[CV] ...................... C=1, gamma=0.01, kernel=rbf, total=   6.7s\n",
      "[CV] C=1, gamma=0.01, kernel=rbf .....................................\n",
      "[CV] ...................... C=1, gamma=0.01, kernel=rbf, total=   7.4s\n",
      "[CV] C=1, gamma=0.01, kernel=rbf .....................................\n",
      "[CV] ...................... C=1, gamma=0.01, kernel=rbf, total=   6.8s\n",
      "[CV] C=1, gamma=0.01, kernel=poly ....................................\n",
      "[CV] ..................... C=1, gamma=0.01, kernel=poly, total=   8.6s\n",
      "[CV] C=1, gamma=0.01, kernel=poly ....................................\n",
      "[CV] ..................... C=1, gamma=0.01, kernel=poly, total=   7.9s\n",
      "[CV] C=1, gamma=0.01, kernel=poly ....................................\n",
      "[CV] ..................... C=1, gamma=0.01, kernel=poly, total=   8.4s\n",
      "[CV] C=1, gamma=0.01, kernel=poly ....................................\n",
      "[CV] ..................... C=1, gamma=0.01, kernel=poly, total=   7.9s\n",
      "[CV] C=1, gamma=0.01, kernel=poly ....................................\n",
      "[CV] ..................... C=1, gamma=0.01, kernel=poly, total=   8.7s\n",
      "[CV] C=1, gamma=0.001, kernel=linear .................................\n",
      "[CV] .................. C=1, gamma=0.001, kernel=linear, total=   8.9s\n",
      "[CV] C=1, gamma=0.001, kernel=linear .................................\n",
      "[CV] .................. C=1, gamma=0.001, kernel=linear, total=   9.0s\n",
      "[CV] C=1, gamma=0.001, kernel=linear .................................\n",
      "[CV] .................. C=1, gamma=0.001, kernel=linear, total=   8.5s\n",
      "[CV] C=1, gamma=0.001, kernel=linear .................................\n",
      "[CV] .................. C=1, gamma=0.001, kernel=linear, total=   9.5s\n",
      "[CV] C=1, gamma=0.001, kernel=linear .................................\n",
      "[CV] .................. C=1, gamma=0.001, kernel=linear, total=   8.5s\n",
      "[CV] C=1, gamma=0.001, kernel=rbf ....................................\n",
      "[CV] ..................... C=1, gamma=0.001, kernel=rbf, total=   8.0s\n",
      "[CV] C=1, gamma=0.001, kernel=rbf ....................................\n",
      "[CV] ..................... C=1, gamma=0.001, kernel=rbf, total=   7.1s\n",
      "[CV] C=1, gamma=0.001, kernel=rbf ....................................\n",
      "[CV] ..................... C=1, gamma=0.001, kernel=rbf, total=   7.8s\n",
      "[CV] C=1, gamma=0.001, kernel=rbf ....................................\n",
      "[CV] ..................... C=1, gamma=0.001, kernel=rbf, total=   7.3s\n",
      "[CV] C=1, gamma=0.001, kernel=rbf ....................................\n",
      "[CV] ..................... C=1, gamma=0.001, kernel=rbf, total=   8.2s\n",
      "[CV] C=1, gamma=0.001, kernel=poly ...................................\n",
      "[CV] .................... C=1, gamma=0.001, kernel=poly, total=   6.6s\n",
      "[CV] C=1, gamma=0.001, kernel=poly ...................................\n",
      "[CV] .................... C=1, gamma=0.001, kernel=poly, total=   7.4s\n",
      "[CV] C=1, gamma=0.001, kernel=poly ...................................\n",
      "[CV] .................... C=1, gamma=0.001, kernel=poly, total=   6.6s\n",
      "[CV] C=1, gamma=0.001, kernel=poly ...................................\n",
      "[CV] .................... C=1, gamma=0.001, kernel=poly, total=   7.5s\n",
      "[CV] C=1, gamma=0.001, kernel=poly ...................................\n",
      "[CV] .................... C=1, gamma=0.001, kernel=poly, total=   6.6s\n",
      "[CV] C=1, gamma=0.0001, kernel=linear ................................\n",
      "[CV] ................. C=1, gamma=0.0001, kernel=linear, total=   9.4s\n",
      "[CV] C=1, gamma=0.0001, kernel=linear ................................\n",
      "[CV] ................. C=1, gamma=0.0001, kernel=linear, total=   8.2s\n",
      "[CV] C=1, gamma=0.0001, kernel=linear ................................\n",
      "[CV] ................. C=1, gamma=0.0001, kernel=linear, total=   9.5s\n",
      "[CV] C=1, gamma=0.0001, kernel=linear ................................\n",
      "[CV] ................. C=1, gamma=0.0001, kernel=linear, total=   8.7s\n",
      "[CV] C=1, gamma=0.0001, kernel=linear ................................\n",
      "[CV] ................. C=1, gamma=0.0001, kernel=linear, total=   9.3s\n",
      "[CV] C=1, gamma=0.0001, kernel=rbf ...................................\n",
      "[CV] .................... C=1, gamma=0.0001, kernel=rbf, total=   6.5s\n",
      "[CV] C=1, gamma=0.0001, kernel=rbf ...................................\n",
      "[CV] .................... C=1, gamma=0.0001, kernel=rbf, total=   4.9s\n",
      "[CV] C=1, gamma=0.0001, kernel=rbf ...................................\n",
      "[CV] .................... C=1, gamma=0.0001, kernel=rbf, total=   5.8s\n",
      "[CV] C=1, gamma=0.0001, kernel=rbf ...................................\n",
      "[CV] .................... C=1, gamma=0.0001, kernel=rbf, total=   6.1s\n",
      "[CV] C=1, gamma=0.0001, kernel=rbf ...................................\n",
      "[CV] .................... C=1, gamma=0.0001, kernel=rbf, total=   6.9s\n",
      "[CV] C=1, gamma=0.0001, kernel=poly ..................................\n",
      "[CV] ................... C=1, gamma=0.0001, kernel=poly, total=   6.6s\n",
      "[CV] C=1, gamma=0.0001, kernel=poly ..................................\n",
      "[CV] ................... C=1, gamma=0.0001, kernel=poly, total=   7.0s\n",
      "[CV] C=1, gamma=0.0001, kernel=poly ..................................\n",
      "[CV] ................... C=1, gamma=0.0001, kernel=poly, total=   6.4s\n",
      "[CV] C=1, gamma=0.0001, kernel=poly ..................................\n",
      "[CV] ................... C=1, gamma=0.0001, kernel=poly, total=   7.1s\n",
      "[CV] C=1, gamma=0.0001, kernel=poly ..................................\n",
      "[CV] ................... C=1, gamma=0.0001, kernel=poly, total=   6.9s\n",
      "[CV] C=5, gamma=0.1, kernel=linear ...................................\n",
      "[CV] .................... C=5, gamma=0.1, kernel=linear, total=   7.8s\n",
      "[CV] C=5, gamma=0.1, kernel=linear ...................................\n",
      "[CV] .................... C=5, gamma=0.1, kernel=linear, total=   8.8s\n",
      "[CV] C=5, gamma=0.1, kernel=linear ...................................\n",
      "[CV] .................... C=5, gamma=0.1, kernel=linear, total=   8.7s\n",
      "[CV] C=5, gamma=0.1, kernel=linear ...................................\n",
      "[CV] .................... C=5, gamma=0.1, kernel=linear, total=   9.1s\n",
      "[CV] C=5, gamma=0.1, kernel=linear ...................................\n",
      "[CV] .................... C=5, gamma=0.1, kernel=linear, total=   8.6s\n",
      "[CV] C=5, gamma=0.1, kernel=rbf ......................................\n",
      "[CV] ....................... C=5, gamma=0.1, kernel=rbf, total=   7.8s\n",
      "[CV] C=5, gamma=0.1, kernel=rbf ......................................\n",
      "[CV] ....................... C=5, gamma=0.1, kernel=rbf, total=   8.3s\n",
      "[CV] C=5, gamma=0.1, kernel=rbf ......................................\n",
      "[CV] ....................... C=5, gamma=0.1, kernel=rbf, total=   8.1s\n",
      "[CV] C=5, gamma=0.1, kernel=rbf ......................................\n",
      "[CV] ....................... C=5, gamma=0.1, kernel=rbf, total=   7.9s\n",
      "[CV] C=5, gamma=0.1, kernel=rbf ......................................\n",
      "[CV] ....................... C=5, gamma=0.1, kernel=rbf, total=   7.9s\n",
      "[CV] C=5, gamma=0.1, kernel=poly .....................................\n",
      "[CV] ...................... C=5, gamma=0.1, kernel=poly, total=   9.1s\n",
      "[CV] C=5, gamma=0.1, kernel=poly .....................................\n",
      "[CV] ...................... C=5, gamma=0.1, kernel=poly, total=   8.1s\n",
      "[CV] C=5, gamma=0.1, kernel=poly .....................................\n",
      "[CV] ...................... C=5, gamma=0.1, kernel=poly, total=   8.4s\n",
      "[CV] C=5, gamma=0.1, kernel=poly .....................................\n",
      "[CV] ...................... C=5, gamma=0.1, kernel=poly, total=   8.4s\n",
      "[CV] C=5, gamma=0.1, kernel=poly .....................................\n",
      "[CV] ...................... C=5, gamma=0.1, kernel=poly, total=   8.4s\n",
      "[CV] C=5, gamma=0.01, kernel=linear ..................................\n",
      "[CV] ................... C=5, gamma=0.01, kernel=linear, total=   8.8s\n",
      "[CV] C=5, gamma=0.01, kernel=linear ..................................\n",
      "[CV] ................... C=5, gamma=0.01, kernel=linear, total=   7.8s\n",
      "[CV] C=5, gamma=0.01, kernel=linear ..................................\n",
      "[CV] ................... C=5, gamma=0.01, kernel=linear, total=   8.5s\n",
      "[CV] C=5, gamma=0.01, kernel=linear ..................................\n",
      "[CV] ................... C=5, gamma=0.01, kernel=linear, total=   9.6s\n",
      "[CV] C=5, gamma=0.01, kernel=linear ..................................\n",
      "[CV] ................... C=5, gamma=0.01, kernel=linear, total=   9.0s\n",
      "[CV] C=5, gamma=0.01, kernel=rbf .....................................\n",
      "[CV] ...................... C=5, gamma=0.01, kernel=rbf, total=   6.8s\n",
      "[CV] C=5, gamma=0.01, kernel=rbf .....................................\n",
      "[CV] ...................... C=5, gamma=0.01, kernel=rbf, total=   5.8s\n",
      "[CV] C=5, gamma=0.01, kernel=rbf .....................................\n",
      "[CV] ...................... C=5, gamma=0.01, kernel=rbf, total=   6.6s\n",
      "[CV] C=5, gamma=0.01, kernel=rbf .....................................\n",
      "[CV] ...................... C=5, gamma=0.01, kernel=rbf, total=   5.9s\n",
      "[CV] C=5, gamma=0.01, kernel=rbf .....................................\n",
      "[CV] ...................... C=5, gamma=0.01, kernel=rbf, total=   6.6s\n",
      "[CV] C=5, gamma=0.01, kernel=poly ....................................\n",
      "[CV] ..................... C=5, gamma=0.01, kernel=poly, total=   8.9s\n",
      "[CV] C=5, gamma=0.01, kernel=poly ....................................\n",
      "[CV] ..................... C=5, gamma=0.01, kernel=poly, total=   9.0s\n",
      "[CV] C=5, gamma=0.01, kernel=poly ....................................\n",
      "[CV] ..................... C=5, gamma=0.01, kernel=poly, total=   8.1s\n",
      "[CV] C=5, gamma=0.01, kernel=poly ....................................\n",
      "[CV] ..................... C=5, gamma=0.01, kernel=poly, total=   9.1s\n",
      "[CV] C=5, gamma=0.01, kernel=poly ....................................\n",
      "[CV] ..................... C=5, gamma=0.01, kernel=poly, total=   9.2s\n",
      "[CV] C=5, gamma=0.001, kernel=linear .................................\n",
      "[CV] .................. C=5, gamma=0.001, kernel=linear, total=   9.9s\n",
      "[CV] C=5, gamma=0.001, kernel=linear .................................\n",
      "[CV] .................. C=5, gamma=0.001, kernel=linear, total=   9.2s\n",
      "[CV] C=5, gamma=0.001, kernel=linear .................................\n",
      "[CV] .................. C=5, gamma=0.001, kernel=linear, total=   9.3s\n",
      "[CV] C=5, gamma=0.001, kernel=linear .................................\n",
      "[CV] .................. C=5, gamma=0.001, kernel=linear, total=   8.8s\n",
      "[CV] C=5, gamma=0.001, kernel=linear .................................\n",
      "[CV] .................. C=5, gamma=0.001, kernel=linear, total=   8.9s\n",
      "[CV] C=5, gamma=0.001, kernel=rbf ....................................\n",
      "[CV] ..................... C=5, gamma=0.001, kernel=rbf, total=   6.8s\n",
      "[CV] C=5, gamma=0.001, kernel=rbf ....................................\n",
      "[CV] ..................... C=5, gamma=0.001, kernel=rbf, total=   7.5s\n",
      "[CV] C=5, gamma=0.001, kernel=rbf ....................................\n",
      "[CV] ..................... C=5, gamma=0.001, kernel=rbf, total=   6.7s\n",
      "[CV] C=5, gamma=0.001, kernel=rbf ....................................\n",
      "[CV] ..................... C=5, gamma=0.001, kernel=rbf, total=   7.8s\n",
      "[CV] C=5, gamma=0.001, kernel=rbf ....................................\n",
      "[CV] ..................... C=5, gamma=0.001, kernel=rbf, total=   7.3s\n",
      "[CV] C=5, gamma=0.001, kernel=poly ...................................\n",
      "[CV] .................... C=5, gamma=0.001, kernel=poly, total=   7.5s\n",
      "[CV] C=5, gamma=0.001, kernel=poly ...................................\n",
      "[CV] .................... C=5, gamma=0.001, kernel=poly, total=   7.0s\n",
      "[CV] C=5, gamma=0.001, kernel=poly ...................................\n",
      "[CV] .................... C=5, gamma=0.001, kernel=poly, total=   7.4s\n",
      "[CV] C=5, gamma=0.001, kernel=poly ...................................\n",
      "[CV] .................... C=5, gamma=0.001, kernel=poly, total=   6.6s\n",
      "[CV] C=5, gamma=0.001, kernel=poly ...................................\n",
      "[CV] .................... C=5, gamma=0.001, kernel=poly, total=   7.2s\n",
      "[CV] C=5, gamma=0.0001, kernel=linear ................................\n",
      "[CV] ................. C=5, gamma=0.0001, kernel=linear, total=   8.9s\n",
      "[CV] C=5, gamma=0.0001, kernel=linear ................................\n",
      "[CV] ................. C=5, gamma=0.0001, kernel=linear, total=   9.0s\n",
      "[CV] C=5, gamma=0.0001, kernel=linear ................................\n",
      "[CV] ................. C=5, gamma=0.0001, kernel=linear, total=   8.5s\n",
      "[CV] C=5, gamma=0.0001, kernel=linear ................................\n",
      "[CV] ................. C=5, gamma=0.0001, kernel=linear, total=   8.8s\n",
      "[CV] C=5, gamma=0.0001, kernel=linear ................................\n",
      "[CV] ................. C=5, gamma=0.0001, kernel=linear, total=   9.1s\n",
      "[CV] C=5, gamma=0.0001, kernel=rbf ...................................\n",
      "[CV] .................... C=5, gamma=0.0001, kernel=rbf, total=   7.5s\n",
      "[CV] C=5, gamma=0.0001, kernel=rbf ...................................\n",
      "[CV] .................... C=5, gamma=0.0001, kernel=rbf, total=   7.3s\n",
      "[CV] C=5, gamma=0.0001, kernel=rbf ...................................\n",
      "[CV] .................... C=5, gamma=0.0001, kernel=rbf, total=   7.8s\n",
      "[CV] C=5, gamma=0.0001, kernel=rbf ...................................\n",
      "[CV] .................... C=5, gamma=0.0001, kernel=rbf, total=   7.1s\n",
      "[CV] C=5, gamma=0.0001, kernel=rbf ...................................\n",
      "[CV] .................... C=5, gamma=0.0001, kernel=rbf, total=   7.6s\n",
      "[CV] C=5, gamma=0.0001, kernel=poly ..................................\n",
      "[CV] ................... C=5, gamma=0.0001, kernel=poly, total=   6.7s\n",
      "[CV] C=5, gamma=0.0001, kernel=poly ..................................\n",
      "[CV] ................... C=5, gamma=0.0001, kernel=poly, total=   7.5s\n",
      "[CV] C=5, gamma=0.0001, kernel=poly ..................................\n",
      "[CV] ................... C=5, gamma=0.0001, kernel=poly, total=   6.9s\n",
      "[CV] C=5, gamma=0.0001, kernel=poly ..................................\n",
      "[CV] ................... C=5, gamma=0.0001, kernel=poly, total=   7.1s\n",
      "[CV] C=5, gamma=0.0001, kernel=poly ..................................\n",
      "[CV] ................... C=5, gamma=0.0001, kernel=poly, total=   7.5s\n",
      "[CV] C=10, gamma=0.1, kernel=linear ..................................\n",
      "[CV] ................... C=10, gamma=0.1, kernel=linear, total=   9.1s\n",
      "[CV] C=10, gamma=0.1, kernel=linear ..................................\n",
      "[CV] ................... C=10, gamma=0.1, kernel=linear, total=   8.9s\n",
      "[CV] C=10, gamma=0.1, kernel=linear ..................................\n",
      "[CV] ................... C=10, gamma=0.1, kernel=linear, total=   9.7s\n",
      "[CV] C=10, gamma=0.1, kernel=linear ..................................\n",
      "[CV] ................... C=10, gamma=0.1, kernel=linear, total=   9.8s\n",
      "[CV] C=10, gamma=0.1, kernel=linear ..................................\n",
      "[CV] ................... C=10, gamma=0.1, kernel=linear, total=  10.2s\n",
      "[CV] C=10, gamma=0.1, kernel=rbf .....................................\n",
      "[CV] ...................... C=10, gamma=0.1, kernel=rbf, total=   9.0s\n",
      "[CV] C=10, gamma=0.1, kernel=rbf .....................................\n",
      "[CV] ...................... C=10, gamma=0.1, kernel=rbf, total=   8.8s\n",
      "[CV] C=10, gamma=0.1, kernel=rbf .....................................\n",
      "[CV] ...................... C=10, gamma=0.1, kernel=rbf, total=   8.9s\n",
      "[CV] C=10, gamma=0.1, kernel=rbf .....................................\n",
      "[CV] ...................... C=10, gamma=0.1, kernel=rbf, total=   8.7s\n",
      "[CV] C=10, gamma=0.1, kernel=rbf .....................................\n",
      "[CV] ...................... C=10, gamma=0.1, kernel=rbf, total=   8.8s\n",
      "[CV] C=10, gamma=0.1, kernel=poly ....................................\n",
      "[CV] ..................... C=10, gamma=0.1, kernel=poly, total=   9.5s\n",
      "[CV] C=10, gamma=0.1, kernel=poly ....................................\n",
      "[CV] ..................... C=10, gamma=0.1, kernel=poly, total=   9.3s\n",
      "[CV] C=10, gamma=0.1, kernel=poly ....................................\n",
      "[CV] ..................... C=10, gamma=0.1, kernel=poly, total=   9.0s\n",
      "[CV] C=10, gamma=0.1, kernel=poly ....................................\n",
      "[CV] ..................... C=10, gamma=0.1, kernel=poly, total=   9.7s\n",
      "[CV] C=10, gamma=0.1, kernel=poly ....................................\n",
      "[CV] ..................... C=10, gamma=0.1, kernel=poly, total=   9.0s\n",
      "[CV] C=10, gamma=0.01, kernel=linear .................................\n",
      "[CV] .................. C=10, gamma=0.01, kernel=linear, total=   9.8s\n",
      "[CV] C=10, gamma=0.01, kernel=linear .................................\n",
      "[CV] .................. C=10, gamma=0.01, kernel=linear, total=   9.9s\n",
      "[CV] C=10, gamma=0.01, kernel=linear .................................\n",
      "[CV] .................. C=10, gamma=0.01, kernel=linear, total=   9.8s\n",
      "[CV] C=10, gamma=0.01, kernel=linear .................................\n",
      "[CV] .................. C=10, gamma=0.01, kernel=linear, total=   9.7s\n",
      "[CV] C=10, gamma=0.01, kernel=linear .................................\n",
      "[CV] .................. C=10, gamma=0.01, kernel=linear, total=   9.9s\n",
      "[CV] C=10, gamma=0.01, kernel=rbf ....................................\n",
      "[CV] ..................... C=10, gamma=0.01, kernel=rbf, total=   6.9s\n",
      "[CV] C=10, gamma=0.01, kernel=rbf ....................................\n",
      "[CV] ..................... C=10, gamma=0.01, kernel=rbf, total=   6.5s\n",
      "[CV] C=10, gamma=0.01, kernel=rbf ....................................\n",
      "[CV] ..................... C=10, gamma=0.01, kernel=rbf, total=   6.7s\n",
      "[CV] C=10, gamma=0.01, kernel=rbf ....................................\n",
      "[CV] ..................... C=10, gamma=0.01, kernel=rbf, total=   6.5s\n",
      "[CV] C=10, gamma=0.01, kernel=rbf ....................................\n",
      "[CV] ..................... C=10, gamma=0.01, kernel=rbf, total=   7.2s\n",
      "[CV] C=10, gamma=0.01, kernel=poly ...................................\n",
      "[CV] .................... C=10, gamma=0.01, kernel=poly, total=   8.9s\n",
      "[CV] C=10, gamma=0.01, kernel=poly ...................................\n",
      "[CV] .................... C=10, gamma=0.01, kernel=poly, total=   9.2s\n",
      "[CV] C=10, gamma=0.01, kernel=poly ...................................\n",
      "[CV] .................... C=10, gamma=0.01, kernel=poly, total=   8.8s\n",
      "[CV] C=10, gamma=0.01, kernel=poly ...................................\n",
      "[CV] .................... C=10, gamma=0.01, kernel=poly, total=   9.2s\n",
      "[CV] C=10, gamma=0.01, kernel=poly ...................................\n",
      "[CV] .................... C=10, gamma=0.01, kernel=poly, total=   9.0s\n",
      "[CV] C=10, gamma=0.001, kernel=linear ................................\n",
      "[CV] ................. C=10, gamma=0.001, kernel=linear, total=   9.7s\n",
      "[CV] C=10, gamma=0.001, kernel=linear ................................\n",
      "[CV] ................. C=10, gamma=0.001, kernel=linear, total=   9.4s\n",
      "[CV] C=10, gamma=0.001, kernel=linear ................................\n",
      "[CV] ................. C=10, gamma=0.001, kernel=linear, total=   9.3s\n",
      "[CV] C=10, gamma=0.001, kernel=linear ................................\n",
      "[CV] ................. C=10, gamma=0.001, kernel=linear, total=   9.7s\n",
      "[CV] C=10, gamma=0.001, kernel=linear ................................\n",
      "[CV] ................. C=10, gamma=0.001, kernel=linear, total=   9.7s\n",
      "[CV] C=10, gamma=0.001, kernel=rbf ...................................\n",
      "[CV] .................... C=10, gamma=0.001, kernel=rbf, total=   7.2s\n",
      "[CV] C=10, gamma=0.001, kernel=rbf ...................................\n",
      "[CV] .................... C=10, gamma=0.001, kernel=rbf, total=   6.9s\n",
      "[CV] C=10, gamma=0.001, kernel=rbf ...................................\n",
      "[CV] .................... C=10, gamma=0.001, kernel=rbf, total=   7.3s\n",
      "[CV] C=10, gamma=0.001, kernel=rbf ...................................\n",
      "[CV] .................... C=10, gamma=0.001, kernel=rbf, total=   7.0s\n",
      "[CV] C=10, gamma=0.001, kernel=rbf ...................................\n",
      "[CV] .................... C=10, gamma=0.001, kernel=rbf, total=   7.6s\n",
      "[CV] C=10, gamma=0.001, kernel=poly ..................................\n",
      "[CV] ................... C=10, gamma=0.001, kernel=poly, total=   7.1s\n",
      "[CV] C=10, gamma=0.001, kernel=poly ..................................\n",
      "[CV] ................... C=10, gamma=0.001, kernel=poly, total=   7.5s\n",
      "[CV] C=10, gamma=0.001, kernel=poly ..................................\n",
      "[CV] ................... C=10, gamma=0.001, kernel=poly, total=   7.0s\n",
      "[CV] C=10, gamma=0.001, kernel=poly ..................................\n",
      "[CV] ................... C=10, gamma=0.001, kernel=poly, total=   7.1s\n",
      "[CV] C=10, gamma=0.001, kernel=poly ..................................\n",
      "[CV] ................... C=10, gamma=0.001, kernel=poly, total=   6.4s\n",
      "[CV] C=10, gamma=0.0001, kernel=linear ...............................\n",
      "[CV] ................ C=10, gamma=0.0001, kernel=linear, total=   9.9s\n",
      "[CV] C=10, gamma=0.0001, kernel=linear ...............................\n",
      "[CV] ................ C=10, gamma=0.0001, kernel=linear, total=   9.1s\n",
      "[CV] C=10, gamma=0.0001, kernel=linear ...............................\n",
      "[CV] ................ C=10, gamma=0.0001, kernel=linear, total=   9.4s\n",
      "[CV] C=10, gamma=0.0001, kernel=linear ...............................\n",
      "[CV] ................ C=10, gamma=0.0001, kernel=linear, total=   9.3s\n",
      "[CV] C=10, gamma=0.0001, kernel=linear ...............................\n",
      "[CV] ................ C=10, gamma=0.0001, kernel=linear, total=   9.6s\n",
      "[CV] C=10, gamma=0.0001, kernel=rbf ..................................\n",
      "[CV] ................... C=10, gamma=0.0001, kernel=rbf, total=   7.6s\n",
      "[CV] C=10, gamma=0.0001, kernel=rbf ..................................\n",
      "[CV] ................... C=10, gamma=0.0001, kernel=rbf, total=   8.2s\n",
      "[CV] C=10, gamma=0.0001, kernel=rbf ..................................\n",
      "[CV] ................... C=10, gamma=0.0001, kernel=rbf, total=   7.8s\n",
      "[CV] C=10, gamma=0.0001, kernel=rbf ..................................\n",
      "[CV] ................... C=10, gamma=0.0001, kernel=rbf, total=   7.9s\n",
      "[CV] C=10, gamma=0.0001, kernel=rbf ..................................\n",
      "[CV] ................... C=10, gamma=0.0001, kernel=rbf, total=   7.6s\n",
      "[CV] C=10, gamma=0.0001, kernel=poly .................................\n",
      "[CV] .................. C=10, gamma=0.0001, kernel=poly, total=   7.6s\n",
      "[CV] C=10, gamma=0.0001, kernel=poly .................................\n",
      "[CV] .................. C=10, gamma=0.0001, kernel=poly, total=   7.2s\n",
      "[CV] C=10, gamma=0.0001, kernel=poly .................................\n",
      "[CV] .................. C=10, gamma=0.0001, kernel=poly, total=   7.6s\n",
      "[CV] C=10, gamma=0.0001, kernel=poly .................................\n",
      "[CV] .................. C=10, gamma=0.0001, kernel=poly, total=   7.2s\n",
      "[CV] C=10, gamma=0.0001, kernel=poly .................................\n",
      "[CV] .................. C=10, gamma=0.0001, kernel=poly, total=   7.5s\n",
      "[CV] C=15, gamma=0.1, kernel=linear ..................................\n",
      "[CV] ................... C=15, gamma=0.1, kernel=linear, total=   9.4s\n",
      "[CV] C=15, gamma=0.1, kernel=linear ..................................\n",
      "[CV] ................... C=15, gamma=0.1, kernel=linear, total=   9.2s\n",
      "[CV] C=15, gamma=0.1, kernel=linear ..................................\n",
      "[CV] ................... C=15, gamma=0.1, kernel=linear, total=   9.8s\n",
      "[CV] C=15, gamma=0.1, kernel=linear ..................................\n",
      "[CV] ................... C=15, gamma=0.1, kernel=linear, total=   9.4s\n",
      "[CV] C=15, gamma=0.1, kernel=linear ..................................\n",
      "[CV] ................... C=15, gamma=0.1, kernel=linear, total=  10.6s\n",
      "[CV] C=15, gamma=0.1, kernel=rbf .....................................\n",
      "[CV] ...................... C=15, gamma=0.1, kernel=rbf, total=   7.9s\n",
      "[CV] C=15, gamma=0.1, kernel=rbf .....................................\n",
      "[CV] ...................... C=15, gamma=0.1, kernel=rbf, total=   9.0s\n",
      "[CV] C=15, gamma=0.1, kernel=rbf .....................................\n",
      "[CV] ...................... C=15, gamma=0.1, kernel=rbf, total=   8.5s\n",
      "[CV] C=15, gamma=0.1, kernel=rbf .....................................\n",
      "[CV] ...................... C=15, gamma=0.1, kernel=rbf, total=   8.9s\n",
      "[CV] C=15, gamma=0.1, kernel=rbf .....................................\n",
      "[CV] ...................... C=15, gamma=0.1, kernel=rbf, total=   8.4s\n",
      "[CV] C=15, gamma=0.1, kernel=poly ....................................\n",
      "[CV] ..................... C=15, gamma=0.1, kernel=poly, total=   9.3s\n",
      "[CV] C=15, gamma=0.1, kernel=poly ....................................\n",
      "[CV] ..................... C=15, gamma=0.1, kernel=poly, total=   9.0s\n",
      "[CV] C=15, gamma=0.1, kernel=poly ....................................\n",
      "[CV] ..................... C=15, gamma=0.1, kernel=poly, total=   9.3s\n",
      "[CV] C=15, gamma=0.1, kernel=poly ....................................\n",
      "[CV] ..................... C=15, gamma=0.1, kernel=poly, total=   9.5s\n",
      "[CV] C=15, gamma=0.1, kernel=poly ....................................\n",
      "[CV] ..................... C=15, gamma=0.1, kernel=poly, total=   9.1s\n",
      "[CV] C=15, gamma=0.01, kernel=linear .................................\n",
      "[CV] .................. C=15, gamma=0.01, kernel=linear, total=   9.8s\n",
      "[CV] C=15, gamma=0.01, kernel=linear .................................\n",
      "[CV] .................. C=15, gamma=0.01, kernel=linear, total=   9.1s\n",
      "[CV] C=15, gamma=0.01, kernel=linear .................................\n",
      "[CV] .................. C=15, gamma=0.01, kernel=linear, total=  10.0s\n",
      "[CV] C=15, gamma=0.01, kernel=linear .................................\n",
      "[CV] .................. C=15, gamma=0.01, kernel=linear, total=   9.7s\n",
      "[CV] C=15, gamma=0.01, kernel=linear .................................\n",
      "[CV] .................. C=15, gamma=0.01, kernel=linear, total=  10.3s\n",
      "[CV] C=15, gamma=0.01, kernel=rbf ....................................\n",
      "[CV] ..................... C=15, gamma=0.01, kernel=rbf, total=   7.1s\n",
      "[CV] C=15, gamma=0.01, kernel=rbf ....................................\n",
      "[CV] ..................... C=15, gamma=0.01, kernel=rbf, total=   6.5s\n",
      "[CV] C=15, gamma=0.01, kernel=rbf ....................................\n",
      "[CV] ..................... C=15, gamma=0.01, kernel=rbf, total=   6.9s\n",
      "[CV] C=15, gamma=0.01, kernel=rbf ....................................\n",
      "[CV] ..................... C=15, gamma=0.01, kernel=rbf, total=   6.8s\n",
      "[CV] C=15, gamma=0.01, kernel=rbf ....................................\n",
      "[CV] ..................... C=15, gamma=0.01, kernel=rbf, total=   8.0s\n",
      "[CV] C=15, gamma=0.01, kernel=poly ...................................\n",
      "[CV] .................... C=15, gamma=0.01, kernel=poly, total=   8.9s\n",
      "[CV] C=15, gamma=0.01, kernel=poly ...................................\n",
      "[CV] .................... C=15, gamma=0.01, kernel=poly, total=   9.1s\n",
      "[CV] C=15, gamma=0.01, kernel=poly ...................................\n",
      "[CV] .................... C=15, gamma=0.01, kernel=poly, total=   8.8s\n",
      "[CV] C=15, gamma=0.01, kernel=poly ...................................\n",
      "[CV] .................... C=15, gamma=0.01, kernel=poly, total=   9.2s\n",
      "[CV] C=15, gamma=0.01, kernel=poly ...................................\n",
      "[CV] .................... C=15, gamma=0.01, kernel=poly, total=   8.7s\n",
      "[CV] C=15, gamma=0.001, kernel=linear ................................\n",
      "[CV] ................. C=15, gamma=0.001, kernel=linear, total=   9.5s\n",
      "[CV] C=15, gamma=0.001, kernel=linear ................................\n",
      "[CV] ................. C=15, gamma=0.001, kernel=linear, total=   3.7s\n",
      "[CV] C=15, gamma=0.001, kernel=linear ................................\n",
      "[CV] ................. C=15, gamma=0.001, kernel=linear, total=   3.9s\n",
      "[CV] C=15, gamma=0.001, kernel=linear ................................\n",
      "[CV] ................. C=15, gamma=0.001, kernel=linear, total=   3.7s\n",
      "[CV] C=15, gamma=0.001, kernel=linear ................................\n",
      "[CV] ................. C=15, gamma=0.001, kernel=linear, total=   4.0s\n",
      "[CV] C=15, gamma=0.001, kernel=rbf ...................................\n",
      "[CV] .................... C=15, gamma=0.001, kernel=rbf, total=   2.8s\n",
      "[CV] C=15, gamma=0.001, kernel=rbf ...................................\n",
      "[CV] .................... C=15, gamma=0.001, kernel=rbf, total=   2.6s\n",
      "[CV] C=15, gamma=0.001, kernel=rbf ...................................\n",
      "[CV] .................... C=15, gamma=0.001, kernel=rbf, total=   2.6s\n",
      "[CV] C=15, gamma=0.001, kernel=rbf ...................................\n",
      "[CV] .................... C=15, gamma=0.001, kernel=rbf, total=   2.6s\n",
      "[CV] C=15, gamma=0.001, kernel=rbf ...................................\n",
      "[CV] .................... C=15, gamma=0.001, kernel=rbf, total=   2.7s\n",
      "[CV] C=15, gamma=0.001, kernel=poly ..................................\n",
      "[CV] ................... C=15, gamma=0.001, kernel=poly, total=   2.8s\n",
      "[CV] C=15, gamma=0.001, kernel=poly ..................................\n",
      "[CV] ................... C=15, gamma=0.001, kernel=poly, total=   2.8s\n",
      "[CV] C=15, gamma=0.001, kernel=poly ..................................\n",
      "[CV] ................... C=15, gamma=0.001, kernel=poly, total=   2.8s\n",
      "[CV] C=15, gamma=0.001, kernel=poly ..................................\n",
      "[CV] ................... C=15, gamma=0.001, kernel=poly, total=   2.8s\n",
      "[CV] C=15, gamma=0.001, kernel=poly ..................................\n",
      "[CV] ................... C=15, gamma=0.001, kernel=poly, total=   2.8s\n",
      "[CV] C=15, gamma=0.0001, kernel=linear ...............................\n",
      "[CV] ................ C=15, gamma=0.0001, kernel=linear, total=   3.7s\n",
      "[CV] C=15, gamma=0.0001, kernel=linear ...............................\n",
      "[CV] ................ C=15, gamma=0.0001, kernel=linear, total=   3.5s\n",
      "[CV] C=15, gamma=0.0001, kernel=linear ...............................\n",
      "[CV] ................ C=15, gamma=0.0001, kernel=linear, total=   3.9s\n",
      "[CV] C=15, gamma=0.0001, kernel=linear ...............................\n",
      "[CV] ................ C=15, gamma=0.0001, kernel=linear, total=   3.6s\n",
      "[CV] C=15, gamma=0.0001, kernel=linear ...............................\n",
      "[CV] ................ C=15, gamma=0.0001, kernel=linear, total=   4.0s\n",
      "[CV] C=15, gamma=0.0001, kernel=rbf ..................................\n",
      "[CV] ................... C=15, gamma=0.0001, kernel=rbf, total=   3.0s\n",
      "[CV] C=15, gamma=0.0001, kernel=rbf ..................................\n",
      "[CV] ................... C=15, gamma=0.0001, kernel=rbf, total=   3.0s\n",
      "[CV] C=15, gamma=0.0001, kernel=rbf ..................................\n",
      "[CV] ................... C=15, gamma=0.0001, kernel=rbf, total=   3.0s\n",
      "[CV] C=15, gamma=0.0001, kernel=rbf ..................................\n",
      "[CV] ................... C=15, gamma=0.0001, kernel=rbf, total=   3.0s\n",
      "[CV] C=15, gamma=0.0001, kernel=rbf ..................................\n",
      "[CV] ................... C=15, gamma=0.0001, kernel=rbf, total=   3.0s\n",
      "[CV] C=15, gamma=0.0001, kernel=poly .................................\n",
      "[CV] .................. C=15, gamma=0.0001, kernel=poly, total=   2.8s\n",
      "[CV] C=15, gamma=0.0001, kernel=poly .................................\n",
      "[CV] .................. C=15, gamma=0.0001, kernel=poly, total=   2.8s\n",
      "[CV] C=15, gamma=0.0001, kernel=poly .................................\n",
      "[CV] .................. C=15, gamma=0.0001, kernel=poly, total=   2.8s\n",
      "[CV] C=15, gamma=0.0001, kernel=poly .................................\n",
      "[CV] .................. C=15, gamma=0.0001, kernel=poly, total=   2.8s\n",
      "[CV] C=15, gamma=0.0001, kernel=poly .................................\n",
      "[CV] .................. C=15, gamma=0.0001, kernel=poly, total=   2.8s\n",
      "[CV] C=20, gamma=0.1, kernel=linear ..................................\n",
      "[CV] ................... C=20, gamma=0.1, kernel=linear, total=   3.7s\n",
      "[CV] C=20, gamma=0.1, kernel=linear ..................................\n",
      "[CV] ................... C=20, gamma=0.1, kernel=linear, total=   3.6s\n",
      "[CV] C=20, gamma=0.1, kernel=linear ..................................\n",
      "[CV] ................... C=20, gamma=0.1, kernel=linear, total=   3.9s\n",
      "[CV] C=20, gamma=0.1, kernel=linear ..................................\n",
      "[CV] ................... C=20, gamma=0.1, kernel=linear, total=   3.6s\n",
      "[CV] C=20, gamma=0.1, kernel=linear ..................................\n",
      "[CV] ................... C=20, gamma=0.1, kernel=linear, total=   3.7s\n",
      "[CV] C=20, gamma=0.1, kernel=rbf .....................................\n",
      "[CV] ...................... C=20, gamma=0.1, kernel=rbf, total=   3.4s\n",
      "[CV] C=20, gamma=0.1, kernel=rbf .....................................\n",
      "[CV] ...................... C=20, gamma=0.1, kernel=rbf, total=   3.3s\n",
      "[CV] C=20, gamma=0.1, kernel=rbf .....................................\n",
      "[CV] ...................... C=20, gamma=0.1, kernel=rbf, total=   3.3s\n",
      "[CV] C=20, gamma=0.1, kernel=rbf .....................................\n",
      "[CV] ...................... C=20, gamma=0.1, kernel=rbf, total=   3.3s\n",
      "[CV] C=20, gamma=0.1, kernel=rbf .....................................\n",
      "[CV] ...................... C=20, gamma=0.1, kernel=rbf, total=   3.3s\n",
      "[CV] C=20, gamma=0.1, kernel=poly ....................................\n",
      "[CV] ..................... C=20, gamma=0.1, kernel=poly, total=   3.7s\n",
      "[CV] C=20, gamma=0.1, kernel=poly ....................................\n",
      "[CV] ..................... C=20, gamma=0.1, kernel=poly, total=   3.5s\n",
      "[CV] C=20, gamma=0.1, kernel=poly ....................................\n",
      "[CV] ..................... C=20, gamma=0.1, kernel=poly, total=   3.6s\n",
      "[CV] C=20, gamma=0.1, kernel=poly ....................................\n",
      "[CV] ..................... C=20, gamma=0.1, kernel=poly, total=   3.6s\n",
      "[CV] C=20, gamma=0.1, kernel=poly ....................................\n",
      "[CV] ..................... C=20, gamma=0.1, kernel=poly, total=   3.6s\n",
      "[CV] C=20, gamma=0.01, kernel=linear .................................\n",
      "[CV] .................. C=20, gamma=0.01, kernel=linear, total=   3.7s\n",
      "[CV] C=20, gamma=0.01, kernel=linear .................................\n",
      "[CV] .................. C=20, gamma=0.01, kernel=linear, total=   3.6s\n",
      "[CV] C=20, gamma=0.01, kernel=linear .................................\n",
      "[CV] .................. C=20, gamma=0.01, kernel=linear, total=   3.9s\n",
      "[CV] C=20, gamma=0.01, kernel=linear .................................\n",
      "[CV] .................. C=20, gamma=0.01, kernel=linear, total=   3.7s\n",
      "[CV] C=20, gamma=0.01, kernel=linear .................................\n",
      "[CV] .................. C=20, gamma=0.01, kernel=linear, total=   3.7s\n",
      "[CV] C=20, gamma=0.01, kernel=rbf ....................................\n",
      "[CV] ..................... C=20, gamma=0.01, kernel=rbf, total=   3.1s\n",
      "[CV] C=20, gamma=0.01, kernel=rbf ....................................\n",
      "[CV] ..................... C=20, gamma=0.01, kernel=rbf, total=   3.0s\n",
      "[CV] C=20, gamma=0.01, kernel=rbf ....................................\n",
      "[CV] ..................... C=20, gamma=0.01, kernel=rbf, total=   3.1s\n",
      "[CV] C=20, gamma=0.01, kernel=rbf ....................................\n",
      "[CV] ..................... C=20, gamma=0.01, kernel=rbf, total=   3.1s\n",
      "[CV] C=20, gamma=0.01, kernel=rbf ....................................\n",
      "[CV] ..................... C=20, gamma=0.01, kernel=rbf, total=   3.1s\n",
      "[CV] C=20, gamma=0.01, kernel=poly ...................................\n",
      "[CV] .................... C=20, gamma=0.01, kernel=poly, total=   3.4s\n",
      "[CV] C=20, gamma=0.01, kernel=poly ...................................\n",
      "[CV] .................... C=20, gamma=0.01, kernel=poly, total=   3.4s\n",
      "[CV] C=20, gamma=0.01, kernel=poly ...................................\n",
      "[CV] .................... C=20, gamma=0.01, kernel=poly, total=   3.4s\n",
      "[CV] C=20, gamma=0.01, kernel=poly ...................................\n",
      "[CV] .................... C=20, gamma=0.01, kernel=poly, total=   3.4s\n",
      "[CV] C=20, gamma=0.01, kernel=poly ...................................\n",
      "[CV] .................... C=20, gamma=0.01, kernel=poly, total=   3.4s\n",
      "[CV] C=20, gamma=0.001, kernel=linear ................................\n",
      "[CV] ................. C=20, gamma=0.001, kernel=linear, total=   3.7s\n",
      "[CV] C=20, gamma=0.001, kernel=linear ................................\n",
      "[CV] ................. C=20, gamma=0.001, kernel=linear, total=   3.6s\n",
      "[CV] C=20, gamma=0.001, kernel=linear ................................\n",
      "[CV] ................. C=20, gamma=0.001, kernel=linear, total=   3.9s\n",
      "[CV] C=20, gamma=0.001, kernel=linear ................................\n",
      "[CV] ................. C=20, gamma=0.001, kernel=linear, total=   3.6s\n",
      "[CV] C=20, gamma=0.001, kernel=linear ................................\n",
      "[CV] ................. C=20, gamma=0.001, kernel=linear, total=   3.7s\n",
      "[CV] C=20, gamma=0.001, kernel=rbf ...................................\n",
      "[CV] .................... C=20, gamma=0.001, kernel=rbf, total=   2.6s\n",
      "[CV] C=20, gamma=0.001, kernel=rbf ...................................\n",
      "[CV] .................... C=20, gamma=0.001, kernel=rbf, total=   2.5s\n",
      "[CV] C=20, gamma=0.001, kernel=rbf ...................................\n",
      "[CV] .................... C=20, gamma=0.001, kernel=rbf, total=   2.6s\n",
      "[CV] C=20, gamma=0.001, kernel=rbf ...................................\n",
      "[CV] .................... C=20, gamma=0.001, kernel=rbf, total=   2.6s\n",
      "[CV] C=20, gamma=0.001, kernel=rbf ...................................\n",
      "[CV] .................... C=20, gamma=0.001, kernel=rbf, total=   2.7s\n",
      "[CV] C=20, gamma=0.001, kernel=poly ..................................\n",
      "[CV] ................... C=20, gamma=0.001, kernel=poly, total=   2.8s\n",
      "[CV] C=20, gamma=0.001, kernel=poly ..................................\n",
      "[CV] ................... C=20, gamma=0.001, kernel=poly, total=   2.8s\n",
      "[CV] C=20, gamma=0.001, kernel=poly ..................................\n",
      "[CV] ................... C=20, gamma=0.001, kernel=poly, total=   2.8s\n",
      "[CV] C=20, gamma=0.001, kernel=poly ..................................\n",
      "[CV] ................... C=20, gamma=0.001, kernel=poly, total=   2.9s\n",
      "[CV] C=20, gamma=0.001, kernel=poly ..................................\n",
      "[CV] ................... C=20, gamma=0.001, kernel=poly, total=   2.8s\n",
      "[CV] C=20, gamma=0.0001, kernel=linear ...............................\n",
      "[CV] ................ C=20, gamma=0.0001, kernel=linear, total=   4.0s\n",
      "[CV] C=20, gamma=0.0001, kernel=linear ...............................\n",
      "[CV] ................ C=20, gamma=0.0001, kernel=linear, total=   3.6s\n",
      "[CV] C=20, gamma=0.0001, kernel=linear ...............................\n",
      "[CV] ................ C=20, gamma=0.0001, kernel=linear, total=   3.9s\n",
      "[CV] C=20, gamma=0.0001, kernel=linear ...............................\n",
      "[CV] ................ C=20, gamma=0.0001, kernel=linear, total=   3.7s\n",
      "[CV] C=20, gamma=0.0001, kernel=linear ...............................\n",
      "[CV] ................ C=20, gamma=0.0001, kernel=linear, total=   3.8s\n",
      "[CV] C=20, gamma=0.0001, kernel=rbf ..................................\n",
      "[CV] ................... C=20, gamma=0.0001, kernel=rbf, total=   3.0s\n",
      "[CV] C=20, gamma=0.0001, kernel=rbf ..................................\n",
      "[CV] ................... C=20, gamma=0.0001, kernel=rbf, total=   3.1s\n",
      "[CV] C=20, gamma=0.0001, kernel=rbf ..................................\n",
      "[CV] ................... C=20, gamma=0.0001, kernel=rbf, total=   3.0s\n",
      "[CV] C=20, gamma=0.0001, kernel=rbf ..................................\n",
      "[CV] ................... C=20, gamma=0.0001, kernel=rbf, total=   3.0s\n",
      "[CV] C=20, gamma=0.0001, kernel=rbf ..................................\n",
      "[CV] ................... C=20, gamma=0.0001, kernel=rbf, total=   3.0s\n",
      "[CV] C=20, gamma=0.0001, kernel=poly .................................\n",
      "[CV] .................. C=20, gamma=0.0001, kernel=poly, total=   2.8s\n",
      "[CV] C=20, gamma=0.0001, kernel=poly .................................\n",
      "[CV] .................. C=20, gamma=0.0001, kernel=poly, total=   2.8s\n",
      "[CV] C=20, gamma=0.0001, kernel=poly .................................\n",
      "[CV] .................. C=20, gamma=0.0001, kernel=poly, total=   2.8s\n",
      "[CV] C=20, gamma=0.0001, kernel=poly .................................\n",
      "[CV] .................. C=20, gamma=0.0001, kernel=poly, total=   2.8s\n",
      "[CV] C=20, gamma=0.0001, kernel=poly .................................\n",
      "[CV] .................. C=20, gamma=0.0001, kernel=poly, total=   2.8s\n"
     ]
    },
    {
     "name": "stderr",
     "output_type": "stream",
     "text": [
      "[Parallel(n_jobs=1)]: Done 360 out of 360 | elapsed: 40.6min finished\n"
     ]
    },
    {
     "name": "stdout",
     "output_type": "stream",
     "text": [
      "0.5793570955160725\n",
      "{'C': 10, 'gamma': 0.01, 'kernel': 'rbf'}\n"
     ]
    }
   ],
   "source": [
    "param_grid = {'C': [0.1, 1, 5, 10, 15, 20],  \n",
    "              'gamma': [0.1, 0.01, 0.001, 0.0001], \n",
    "              'kernel': ['linear', 'rbf', 'poly']} \n",
    "svm_grid_clf = SVC()\n",
    "gd4 = GridSearchCV(svm_grid_clf, param_grid, refit = True, scoring = 'f1', verbose = 2)\n",
    "gd4.fit(train_vectors, y_train)\n",
    "print(gd4.best_score_)\n",
    "print(gd4.best_params_)"
   ]
  },
  {
   "cell_type": "markdown",
   "metadata": {},
   "source": [
    "### Grid search for RandomForest"
   ]
  },
  {
   "cell_type": "code",
   "execution_count": 281,
   "metadata": {},
   "outputs": [
    {
     "name": "stdout",
     "output_type": "stream",
     "text": [
      "Fitting 5 folds for each of 128 candidates, totalling 640 fits\n"
     ]
    },
    {
     "name": "stderr",
     "output_type": "stream",
     "text": [
      "[Parallel(n_jobs=-1)]: Using backend LokyBackend with 8 concurrent workers.\n",
      "[Parallel(n_jobs=-1)]: Done  34 tasks      | elapsed:    7.8s\n",
      "[Parallel(n_jobs=-1)]: Done 184 tasks      | elapsed:   59.1s\n",
      "[Parallel(n_jobs=-1)]: Done 434 tasks      | elapsed:  3.8min\n"
     ]
    },
    {
     "name": "stdout",
     "output_type": "stream",
     "text": [
      "0.19246646486069782\n",
      "{'max_depth': 3, 'max_features': 0.1, 'min_samples_leaf': 6, 'min_samples_split': 2, 'n_estimators': 10}\n"
     ]
    },
    {
     "name": "stderr",
     "output_type": "stream",
     "text": [
      "[Parallel(n_jobs=-1)]: Done 640 out of 640 | elapsed:  7.8min finished\n"
     ]
    }
   ],
   "source": [
    "n_estimators = [10, 50, 100, 200]\n",
    "max_depth = [2, 3]\n",
    "max_features = [0.1, 0.2, 0.5, 0.8]\n",
    "min_samples_split = [2, 6]\n",
    "min_samples_leaf = [2, 6]\n",
    "\n",
    "hyperparams = {'n_estimators': n_estimators, 'max_depth': max_depth, 'max_features': max_features,\n",
    "               'min_samples_split': min_samples_split, 'min_samples_leaf': min_samples_leaf}\n",
    "\n",
    "gd6=GridSearchCV(estimator = RandomForestClassifier(), param_grid = hyperparams, \n",
    "                verbose=True, cv=5, scoring = \"f1\", n_jobs=-1)\n",
    "\n",
    "gd6.fit(train_vectors, y_train)\n",
    "print(gd6.best_score_)\n",
    "print(gd6.best_params_)"
   ]
  },
  {
   "cell_type": "markdown",
   "metadata": {},
   "source": [
    "## Tensorflow and keras model"
   ]
  },
  {
   "cell_type": "code",
   "execution_count": 406,
   "metadata": {},
   "outputs": [],
   "source": [
    "train_tweets = train.text.values\n",
    "test_tweets = test.text.values\n",
    "train_target = train_data.target.values"
   ]
  },
  {
   "cell_type": "code",
   "execution_count": 407,
   "metadata": {},
   "outputs": [
    {
     "data": {
      "text/plain": [
       "(7613,)"
      ]
     },
     "execution_count": 407,
     "metadata": {},
     "output_type": "execute_result"
    }
   ],
   "source": [
    "train_tweets.shape"
   ]
  },
  {
   "cell_type": "code",
   "execution_count": 408,
   "metadata": {},
   "outputs": [
    {
     "data": {
      "text/plain": [
       "(3263,)"
      ]
     },
     "execution_count": 408,
     "metadata": {},
     "output_type": "execute_result"
    }
   ],
   "source": [
    "test_tweets.shape"
   ]
  },
  {
   "cell_type": "code",
   "execution_count": 409,
   "metadata": {},
   "outputs": [
    {
     "data": {
      "text/plain": [
       "(7613,)"
      ]
     },
     "execution_count": 409,
     "metadata": {},
     "output_type": "execute_result"
    }
   ],
   "source": [
    "train_target.shape"
   ]
  },
  {
   "cell_type": "code",
   "execution_count": 410,
   "metadata": {},
   "outputs": [
    {
     "data": {
      "text/plain": [
       "16420"
      ]
     },
     "execution_count": 410,
     "metadata": {},
     "output_type": "execute_result"
    }
   ],
   "source": [
    "word_tokenizer = Tokenizer()\n",
    "word_tokenizer.fit_on_texts(train_tweets)\n",
    "vocab_length = len(word_tokenizer.word_index) + 1\n",
    "vocab_length"
   ]
  },
  {
   "cell_type": "code",
   "execution_count": 411,
   "metadata": {},
   "outputs": [],
   "source": [
    "def metrics_analyze(pred_target, y_test):\n",
    "    print(\"F1-score: \", f1_score(pred_target, y_test))\n",
    "    print(\"Precision: \", precision_score(pred_target, y_test))\n",
    "    print(\"Recall: \", recall_score(pred_target, y_test))\n",
    "    print(\"Acuracy: \", accuracy_score(pred_target, y_test))\n",
    "    print(\"-\"*50)\n",
    "    print(classification_report(pred_target, y_test))"
   ]
  },
  {
   "cell_type": "code",
   "execution_count": 412,
   "metadata": {},
   "outputs": [],
   "source": [
    "def embed(corpus): \n",
    "    return word_tokenizer.texts_to_sequences(corpus)"
   ]
  },
  {
   "cell_type": "code",
   "execution_count": 413,
   "metadata": {},
   "outputs": [],
   "source": [
    "def plot_graphs(history, string):\n",
    "    plt.plot(history.history[string])\n",
    "    plt.plot(history.history['val_' +string])\n",
    "    plt.xlabel(\"Epochs\")\n",
    "    plt.ylabel(string)\n",
    "    plt.legend([string, 'val_' +string])\n",
    "    plt.show()"
   ]
  },
  {
   "cell_type": "code",
   "execution_count": 414,
   "metadata": {},
   "outputs": [
    {
     "name": "stderr",
     "output_type": "stream",
     "text": [
      "[nltk_data] Downloading package punkt to C:\\Users\\Mahesh Kumar M\n",
      "[nltk_data]     R\\AppData\\Roaming\\nltk_data...\n",
      "[nltk_data]   Package punkt is already up-to-date!\n"
     ]
    },
    {
     "data": {
      "text/plain": [
       "True"
      ]
     },
     "execution_count": 414,
     "metadata": {},
     "output_type": "execute_result"
    }
   ],
   "source": [
    "import nltk\n",
    "nltk.download('punkt')"
   ]
  },
  {
   "cell_type": "code",
   "execution_count": 415,
   "metadata": {},
   "outputs": [],
   "source": [
    "longest_train = max(train_tweets, key=lambda sentence: len(word_tokenize(sentence)))\n",
    "length_long_sentence = len(word_tokenize(longest_train))\n",
    "train_padded_sentences1 = pad_sequences(embed(train_tweets), length_long_sentence, padding='post')\n",
    "test_padded_sentences1 = pad_sequences(embed(test_tweets), length_long_sentence, padding='post')"
   ]
  },
  {
   "cell_type": "code",
   "execution_count": 416,
   "metadata": {},
   "outputs": [],
   "source": [
    "embeddings_dictionary = dict()\n",
    "embedding_dim = 200\n",
    "glove_file = open('glove.6B.200d.txt', encoding=\"utf8\")\n",
    "\n",
    "for line in glove_file:\n",
    "    records = line.split()\n",
    "    word = records[0]\n",
    "    vector_dimensions = np.asarray(records[1:], dtype='float32')\n",
    "    embeddings_dictionary [word] = vector_dimensions\n",
    "glove_file.close()"
   ]
  },
  {
   "cell_type": "code",
   "execution_count": 417,
   "metadata": {},
   "outputs": [],
   "source": [
    "embedding_matrix = np.zeros((vocab_length, embedding_dim))\n",
    "\n",
    "for word, index in word_tokenizer.word_index.items():\n",
    "    embedding_vector = embeddings_dictionary.get(word)\n",
    "    if embedding_vector is not None:\n",
    "        embedding_matrix[index] = embedding_vector"
   ]
  },
  {
   "cell_type": "code",
   "execution_count": 418,
   "metadata": {},
   "outputs": [
    {
     "data": {
      "text/plain": [
       "(16420, 200)"
      ]
     },
     "execution_count": 418,
     "metadata": {},
     "output_type": "execute_result"
    }
   ],
   "source": [
    "embedding_matrix.shape"
   ]
  },
  {
   "cell_type": "code",
   "execution_count": 419,
   "metadata": {},
   "outputs": [],
   "source": [
    "X_train, X_test, y_train, y_test = train_test_split(train_padded_sentences1, train_target, test_size=0.20)"
   ]
  },
  {
   "cell_type": "code",
   "execution_count": 420,
   "metadata": {},
   "outputs": [
    {
     "data": {
      "text/plain": [
       "(6090, 23)"
      ]
     },
     "execution_count": 420,
     "metadata": {},
     "output_type": "execute_result"
    }
   ],
   "source": [
    "X_train.shape"
   ]
  },
  {
   "cell_type": "code",
   "execution_count": 421,
   "metadata": {},
   "outputs": [
    {
     "data": {
      "text/plain": [
       "(1523, 23)"
      ]
     },
     "execution_count": 421,
     "metadata": {},
     "output_type": "execute_result"
    }
   ],
   "source": [
    "X_test.shape"
   ]
  },
  {
   "cell_type": "markdown",
   "metadata": {},
   "source": [
    "### model1"
   ]
  },
  {
   "cell_type": "code",
   "execution_count": 422,
   "metadata": {},
   "outputs": [],
   "source": [
    "model1 = tf.keras.Sequential([\n",
    "    tf.keras.layers.Embedding(vocab_length, embedding_dim, input_length = length_long_sentence),\n",
    "    tf.keras.layers.Flatten(),\n",
    "    tf.keras.layers.Dense(length_long_sentence, activation = 'relu'),\n",
    "    tf.keras.layers.Dense(1, activation = 'sigmoid')\n",
    "])"
   ]
  },
  {
   "cell_type": "code",
   "execution_count": 423,
   "metadata": {},
   "outputs": [
    {
     "name": "stdout",
     "output_type": "stream",
     "text": [
      "Model: \"sequential_17\"\n",
      "_________________________________________________________________\n",
      "Layer (type)                 Output Shape              Param #   \n",
      "=================================================================\n",
      "embedding_17 (Embedding)     (None, 23, 200)           3284000   \n",
      "_________________________________________________________________\n",
      "flatten_7 (Flatten)          (None, 4600)              0         \n",
      "_________________________________________________________________\n",
      "dense_35 (Dense)             (None, 23)                105823    \n",
      "_________________________________________________________________\n",
      "dense_36 (Dense)             (None, 1)                 24        \n",
      "=================================================================\n",
      "Total params: 3,389,847\n",
      "Trainable params: 3,389,847\n",
      "Non-trainable params: 0\n",
      "_________________________________________________________________\n"
     ]
    }
   ],
   "source": [
    "model1.summary()"
   ]
  },
  {
   "cell_type": "code",
   "execution_count": 424,
   "metadata": {},
   "outputs": [],
   "source": [
    "model1.compile(loss = 'binary_crossentropy', optimizer = 'adam', metrics = ['accuracy'])"
   ]
  },
  {
   "cell_type": "code",
   "execution_count": 425,
   "metadata": {},
   "outputs": [],
   "source": [
    "early_stopping = keras.callbacks.EarlyStopping(patience = 10, restore_best_weights = True)"
   ]
  },
  {
   "cell_type": "code",
   "execution_count": 426,
   "metadata": {},
   "outputs": [
    {
     "name": "stdout",
     "output_type": "stream",
     "text": [
      "Train on 6090 samples, validate on 1523 samples\n",
      "Epoch 1/30\n",
      "6090/6090 [==============================] - 11s 2ms/sample - loss: 0.5921 - accuracy: 0.6928 - val_loss: 0.4556 - val_accuracy: 0.8037\n",
      "Epoch 2/30\n",
      "6090/6090 [==============================] - 10s 2ms/sample - loss: 0.2548 - accuracy: 0.9064 - val_loss: 0.4949 - val_accuracy: 0.7768\n",
      "Epoch 3/30\n",
      "6090/6090 [==============================] - 11s 2ms/sample - loss: 0.0938 - accuracy: 0.9703 - val_loss: 0.5665 - val_accuracy: 0.7630\n",
      "Epoch 4/30\n",
      "6090/6090 [==============================] - 10s 2ms/sample - loss: 0.0668 - accuracy: 0.9767 - val_loss: 0.5798 - val_accuracy: 0.7761\n",
      "Epoch 5/30\n",
      "6090/6090 [==============================] - 10s 2ms/sample - loss: 0.0554 - accuracy: 0.9787 - val_loss: 0.5878 - val_accuracy: 0.7846\n",
      "Epoch 6/30\n",
      "6090/6090 [==============================] - 11s 2ms/sample - loss: 0.0474 - accuracy: 0.9821 - val_loss: 0.6089 - val_accuracy: 0.7649\n",
      "Epoch 7/30\n",
      "6090/6090 [==============================] - 11s 2ms/sample - loss: 0.0431 - accuracy: 0.9814 - val_loss: 0.6106 - val_accuracy: 0.7741\n",
      "Epoch 8/30\n",
      "6090/6090 [==============================] - 11s 2ms/sample - loss: 0.0412 - accuracy: 0.9818 - val_loss: 0.6211 - val_accuracy: 0.7722\n",
      "Epoch 9/30\n",
      "6090/6090 [==============================] - 10s 2ms/sample - loss: 0.0386 - accuracy: 0.9818 - val_loss: 0.6287 - val_accuracy: 0.7715\n",
      "Epoch 10/30\n",
      "6090/6090 [==============================] - 11s 2ms/sample - loss: 0.0373 - accuracy: 0.9837 - val_loss: 0.6340 - val_accuracy: 0.7636\n",
      "Epoch 11/30\n",
      "6090/6090 [==============================] - 11s 2ms/sample - loss: 0.0368 - accuracy: 0.9828 - val_loss: 0.6290 - val_accuracy: 0.7728\n"
     ]
    }
   ],
   "source": [
    "num_epochs = 30\n",
    "history1 = model1.fit(X_train, y_train, epochs = num_epochs, validation_data = [X_test, y_test], callbacks = [early_stopping])"
   ]
  },
  {
   "cell_type": "code",
   "execution_count": 427,
   "metadata": {},
   "outputs": [
    {
     "data": {
      "image/png": "[encoded data removed]",
      "text/plain": [
       "<Figure size 432x288 with 1 Axes>"
      ]
     },
     "metadata": {
      "needs_background": "light"
     },
     "output_type": "display_data"
    },
    {
     "data": {
      "image/png": "[encoded data removed]",
      "text/plain": [
       "<Figure size 432x288 with 1 Axes>"
      ]
     },
     "metadata": {
      "needs_background": "light"
     },
     "output_type": "display_data"
    }
   ],
   "source": [
    "plot_graphs(history1, 'accuracy')\n",
    "plot_graphs(history1, 'loss')"
   ]
  },
  {
   "cell_type": "code",
   "execution_count": 428,
   "metadata": {},
   "outputs": [],
   "source": [
    "preds1 = model1.predict_classes(X_test)"
   ]
  },
  {
   "cell_type": "code",
   "execution_count": 429,
   "metadata": {},
   "outputs": [
    {
     "name": "stdout",
     "output_type": "stream",
     "text": [
      "F1-score:  0.7518672199170124\n",
      "Precision:  0.6751117734724292\n",
      "Recall:  0.848314606741573\n",
      "Acuracy:  0.8036769533814839\n",
      "--------------------------------------------------\n",
      "              precision    recall  f1-score   support\n",
      "\n",
      "           0       0.90      0.78      0.84       989\n",
      "           1       0.68      0.85      0.75       534\n",
      "\n",
      "    accuracy                           0.80      1523\n",
      "   macro avg       0.79      0.81      0.79      1523\n",
      "weighted avg       0.82      0.80      0.81      1523\n",
      "\n"
     ]
    }
   ],
   "source": [
    "metrics_analyze(preds1, y_test)"
   ]
  },
  {
   "cell_type": "markdown",
   "metadata": {},
   "source": [
    "### Model 2"
   ]
  },
  {
   "cell_type": "code",
   "execution_count": 430,
   "metadata": {},
   "outputs": [],
   "source": [
    "model2 = tf.keras.Sequential([\n",
    "    tf.keras.layers.Embedding(vocab_length, embedding_dim, input_length = length_long_sentence),\n",
    "    tf.keras.layers.GlobalAveragePooling1D(),\n",
    "    tf.keras.layers.Dense(length_long_sentence, activation = 'relu'),\n",
    "    tf.keras.layers.Dense(1, activation = 'sigmoid')\n",
    "])"
   ]
  },
  {
   "cell_type": "code",
   "execution_count": 431,
   "metadata": {},
   "outputs": [
    {
     "name": "stdout",
     "output_type": "stream",
     "text": [
      "Model: \"sequential_18\"\n",
      "_________________________________________________________________\n",
      "Layer (type)                 Output Shape              Param #   \n",
      "=================================================================\n",
      "embedding_18 (Embedding)     (None, 23, 200)           3284000   \n",
      "_________________________________________________________________\n",
      "global_average_pooling1d_6 ( (None, 200)               0         \n",
      "_________________________________________________________________\n",
      "dense_37 (Dense)             (None, 23)                4623      \n",
      "_________________________________________________________________\n",
      "dense_38 (Dense)             (None, 1)                 24        \n",
      "=================================================================\n",
      "Total params: 3,288,647\n",
      "Trainable params: 3,288,647\n",
      "Non-trainable params: 0\n",
      "_________________________________________________________________\n"
     ]
    }
   ],
   "source": [
    "model2.summary()"
   ]
  },
  {
   "cell_type": "code",
   "execution_count": 432,
   "metadata": {},
   "outputs": [],
   "source": [
    "model2.compile(loss = 'binary_crossentropy', optimizer = 'adam', metrics = ['accuracy'])"
   ]
  },
  {
   "cell_type": "code",
   "execution_count": 433,
   "metadata": {},
   "outputs": [
    {
     "name": "stdout",
     "output_type": "stream",
     "text": [
      "Train on 6090 samples, validate on 1523 samples\n",
      "Epoch 1/30\n",
      "6090/6090 [==============================] - 11s 2ms/sample - loss: 0.6139 - accuracy: 0.6593 - val_loss: 0.4756 - val_accuracy: 0.7991\n",
      "Epoch 2/30\n",
      "6090/6090 [==============================] - 10s 2ms/sample - loss: 0.3565 - accuracy: 0.8540 - val_loss: 0.4398 - val_accuracy: 0.8083\n",
      "Epoch 3/30\n",
      "6090/6090 [==============================] - 10s 2ms/sample - loss: 0.2219 - accuracy: 0.9200 - val_loss: 0.4736 - val_accuracy: 0.7965\n",
      "Epoch 4/30\n",
      "6090/6090 [==============================] - 10s 2ms/sample - loss: 0.1443 - accuracy: 0.9519 - val_loss: 0.5397 - val_accuracy: 0.7951\n",
      "Epoch 5/30\n",
      "6090/6090 [==============================] - 11s 2ms/sample - loss: 0.1020 - accuracy: 0.9655 - val_loss: 0.5919 - val_accuracy: 0.7761\n",
      "Epoch 6/30\n",
      "6090/6090 [==============================] - 10s 2ms/sample - loss: 0.0783 - accuracy: 0.9721 - val_loss: 0.6479 - val_accuracy: 0.7807\n",
      "Epoch 7/30\n",
      "6090/6090 [==============================] - 10s 2ms/sample - loss: 0.0673 - accuracy: 0.9754 - val_loss: 0.6959 - val_accuracy: 0.7728\n",
      "Epoch 8/30\n",
      "6090/6090 [==============================] - 10s 2ms/sample - loss: 0.0592 - accuracy: 0.9777 - val_loss: 0.7493 - val_accuracy: 0.7820\n",
      "Epoch 9/30\n",
      "6090/6090 [==============================] - 10s 2ms/sample - loss: 0.0554 - accuracy: 0.9772 - val_loss: 0.7737 - val_accuracy: 0.7577\n",
      "Epoch 10/30\n",
      "6090/6090 [==============================] - 10s 2ms/sample - loss: 0.0512 - accuracy: 0.9805 - val_loss: 0.8016 - val_accuracy: 0.7597\n",
      "Epoch 11/30\n",
      "6090/6090 [==============================] - 10s 2ms/sample - loss: 0.0476 - accuracy: 0.9808 - val_loss: 0.8265 - val_accuracy: 0.7689\n",
      "Epoch 12/30\n",
      "6090/6090 [==============================] - 10s 2ms/sample - loss: 0.0463 - accuracy: 0.9793 - val_loss: 0.8522 - val_accuracy: 0.7768\n"
     ]
    }
   ],
   "source": [
    "num_epochs = 30\n",
    "history2 = model2.fit(X_train, y_train, epochs = num_epochs, validation_data = [X_test, y_test], callbacks = [early_stopping])"
   ]
  },
  {
   "cell_type": "code",
   "execution_count": 434,
   "metadata": {},
   "outputs": [
    {
     "data": {
      "image/png": "[encoded data removed]",
      "text/plain": [
       "<Figure size 432x288 with 1 Axes>"
      ]
     },
     "metadata": {
      "needs_background": "light"
     },
     "output_type": "display_data"
    },
    {
     "data": {
      "image/png": "[encoded data removed]",
      "text/plain": [
       "<Figure size 432x288 with 1 Axes>"
      ]
     },
     "metadata": {
      "needs_background": "light"
     },
     "output_type": "display_data"
    }
   ],
   "source": [
    "plot_graphs(history2, 'accuracy')\n",
    "plot_graphs(history2, 'loss')"
   ]
  },
  {
   "cell_type": "code",
   "execution_count": 435,
   "metadata": {},
   "outputs": [],
   "source": [
    "preds2 = model2.predict_classes(X_test)"
   ]
  },
  {
   "cell_type": "code",
   "execution_count": 436,
   "metadata": {},
   "outputs": [
    {
     "name": "stdout",
     "output_type": "stream",
     "text": [
      "F1-score:  0.7582781456953642\n",
      "Precision:  0.6825633383010432\n",
      "Recall:  0.8528864059590316\n",
      "Acuracy:  0.8082731451083388\n",
      "--------------------------------------------------\n",
      "              precision    recall  f1-score   support\n",
      "\n",
      "           0       0.91      0.78      0.84       986\n",
      "           1       0.68      0.85      0.76       537\n",
      "\n",
      "    accuracy                           0.81      1523\n",
      "   macro avg       0.79      0.82      0.80      1523\n",
      "weighted avg       0.83      0.81      0.81      1523\n",
      "\n"
     ]
    }
   ],
   "source": [
    "metrics_analyze(preds2, y_test)"
   ]
  },
  {
   "cell_type": "markdown",
   "metadata": {},
   "source": [
    "### Model 3 best model (without stemming, lemmatize)(using this model, i am able to reach top 31% position on leaderboard, Kaggle)"
   ]
  },
  {
   "cell_type": "code",
   "execution_count": 262,
   "metadata": {},
   "outputs": [],
   "source": [
    "from keras.models import Sequential\n",
    "from keras.layers import Dense, Flatten, Embedding, Bidirectional, LSTM, Dropout, Conv1D, MaxPooling1D, BatchNormalization"
   ]
  },
  {
   "cell_type": "code",
   "execution_count": 249,
   "metadata": {},
   "outputs": [],
   "source": [
    "model3 = Sequential()\n",
    "embedding_layer = Embedding(vocab_length, embedding_dim, weights = [embedding_matrix], input_length = length_long_sentence, trainable = False)\n",
    "model3.add(embedding_layer)\n",
    "model3.add(Bidirectional(LSTM(64, return_sequences = True)))\n",
    "model3.add(Bidirectional(LSTM(32)))\n",
    "model3.add(Dense(64, activation = 'relu'))\n",
    "model3.add(Dense(1, activation = 'sigmoid'))"
   ]
  },
  {
   "cell_type": "code",
   "execution_count": 190,
   "metadata": {},
   "outputs": [
    {
     "name": "stdout",
     "output_type": "stream",
     "text": [
      "Model: \"sequential_3\"\n",
      "_________________________________________________________________\n",
      "Layer (type)                 Output Shape              Param #   \n",
      "=================================================================\n",
      "embedding_3 (Embedding)      (None, 23, 200)           3287000   \n",
      "_________________________________________________________________\n",
      "bidirectional_5 (Bidirection (None, 23, 128)           135680    \n",
      "_________________________________________________________________\n",
      "bidirectional_6 (Bidirection (None, 64)                41216     \n",
      "_________________________________________________________________\n",
      "dense_5 (Dense)              (None, 64)                4160      \n",
      "_________________________________________________________________\n",
      "dense_6 (Dense)              (None, 1)                 65        \n",
      "=================================================================\n",
      "Total params: 3,468,121\n",
      "Trainable params: 181,121\n",
      "Non-trainable params: 3,287,000\n",
      "_________________________________________________________________\n"
     ]
    }
   ],
   "source": [
    "model3.summary()"
   ]
  },
  {
   "cell_type": "code",
   "execution_count": 191,
   "metadata": {},
   "outputs": [],
   "source": [
    "adam = tf.keras.optimizers.Adam(lr = 0.01)\n",
    "model3.compile(loss = 'binary_crossentropy', optimizer = adam, metrics = ['accuracy'])"
   ]
  },
  {
   "cell_type": "code",
   "execution_count": 192,
   "metadata": {},
   "outputs": [
    {
     "name": "stdout",
     "output_type": "stream",
     "text": [
      "Train on 6090 samples, validate on 1523 samples\n",
      "Epoch 1/30\n",
      "6090/6090 [==============================] - 6s 1ms/step - loss: 0.4887 - accuracy: 0.7839 - val_loss: 0.4505 - val_accuracy: 0.7965\n",
      "Epoch 2/30\n",
      "6090/6090 [==============================] - 5s 822us/step - loss: 0.4213 - accuracy: 0.8225 - val_loss: 0.4330 - val_accuracy: 0.8155\n",
      "Epoch 3/30\n",
      "6090/6090 [==============================] - 5s 868us/step - loss: 0.3448 - accuracy: 0.8568 - val_loss: 0.4486 - val_accuracy: 0.8122\n",
      "Epoch 4/30\n",
      "6090/6090 [==============================] - 5s 882us/step - loss: 0.2863 - accuracy: 0.8798 - val_loss: 0.4992 - val_accuracy: 0.8050\n",
      "Epoch 5/30\n",
      "6090/6090 [==============================] - 5s 864us/step - loss: 0.2243 - accuracy: 0.9071 - val_loss: 0.5547 - val_accuracy: 0.7997\n",
      "Epoch 6/30\n",
      "6090/6090 [==============================] - 5s 860us/step - loss: 0.1843 - accuracy: 0.9240 - val_loss: 0.5732 - val_accuracy: 0.7846\n",
      "Epoch 7/30\n",
      "6090/6090 [==============================] - 6s 914us/step - loss: 0.1726 - accuracy: 0.9296 - val_loss: 0.6175 - val_accuracy: 0.7978\n",
      "Epoch 8/30\n",
      "6090/6090 [==============================] - 5s 857us/step - loss: 0.1435 - accuracy: 0.9445 - val_loss: 0.7002 - val_accuracy: 0.7866\n",
      "Epoch 9/30\n",
      "6090/6090 [==============================] - 5s 847us/step - loss: 0.1174 - accuracy: 0.9540 - val_loss: 0.7092 - val_accuracy: 0.7840\n",
      "Epoch 10/30\n",
      "6090/6090 [==============================] - 6s 910us/step - loss: 0.1056 - accuracy: 0.9598 - val_loss: 0.7920 - val_accuracy: 0.7741\n",
      "Epoch 11/30\n",
      "6090/6090 [==============================] - 5s 877us/step - loss: 0.1109 - accuracy: 0.9548 - val_loss: 0.8002 - val_accuracy: 0.7905\n",
      "Epoch 12/30\n",
      "6090/6090 [==============================] - 5s 892us/step - loss: 0.0965 - accuracy: 0.9616 - val_loss: 0.8068 - val_accuracy: 0.7879\n"
     ]
    }
   ],
   "source": [
    "history3 = model3.fit(X_train, y_train, epochs = num_epochs, validation_data = [X_test, y_test], callbacks = [early_stopping])"
   ]
  },
  {
   "cell_type": "code",
   "execution_count": 193,
   "metadata": {},
   "outputs": [
    {
     "data": {
      "image/png": "[encoded data removed]",
      "text/plain": [
       "<Figure size 432x288 with 1 Axes>"
      ]
     },
     "metadata": {
      "needs_background": "light"
     },
     "output_type": "display_data"
    },
    {
     "data": {
      "image/png": "[encoded data removed]",
      "text/plain": [
       "<Figure size 432x288 with 1 Axes>"
      ]
     },
     "metadata": {
      "needs_background": "light"
     },
     "output_type": "display_data"
    }
   ],
   "source": [
    "plot_graphs(history3, 'accuracy')\n",
    "plot_graphs(history3, 'loss')"
   ]
  },
  {
   "cell_type": "code",
   "execution_count": 194,
   "metadata": {},
   "outputs": [],
   "source": [
    "preds3 = model3.predict_classes(X_test)"
   ]
  },
  {
   "cell_type": "code",
   "execution_count": 195,
   "metadata": {},
   "outputs": [
    {
     "name": "stdout",
     "output_type": "stream",
     "text": [
      "F1-score:  0.7668049792531121\n",
      "Precision:  0.6936936936936937\n",
      "Recall:  0.8571428571428571\n",
      "Acuracy:  0.8154957321076822\n",
      "--------------------------------------------------\n",
      "              precision    recall  f1-score   support\n",
      "\n",
      "           0       0.91      0.79      0.85       984\n",
      "           1       0.69      0.86      0.77       539\n",
      "\n",
      "    accuracy                           0.82      1523\n",
      "   macro avg       0.80      0.82      0.81      1523\n",
      "weighted avg       0.83      0.82      0.82      1523\n",
      "\n"
     ]
    }
   ],
   "source": [
    "metrics_analyze(preds3, y_test)"
   ]
  },
  {
   "cell_type": "code",
   "execution_count": 226,
   "metadata": {},
   "outputs": [],
   "source": [
    "submission = load_twitter_data('sample_submission.csv')\n",
    "submission['target'] = model3.predict_classes(test_padded_sentences1)"
   ]
  },
  {
   "cell_type": "code",
   "execution_count": 227,
   "metadata": {},
   "outputs": [],
   "source": [
    "submission.to_csv(\"submission1.csv\", index=False)"
   ]
  },
  {
   "cell_type": "markdown",
   "metadata": {},
   "source": [
    "### Model 4"
   ]
  },
  {
   "cell_type": "code",
   "execution_count": 443,
   "metadata": {},
   "outputs": [],
   "source": [
    "model4 = tf.keras.Sequential([\n",
    "    tf.keras.layers.Embedding(vocab_length, embedding_dim, input_length = length_long_sentence),\n",
    "    tf.keras.layers.Bidirectional(tf.keras.layers.LSTM(64, return_sequences = True)),\n",
    "    tf.keras.layers.Dropout(0.2),\n",
    "    tf.keras.layers.Bidirectional(tf.keras.layers.LSTM(32)),\n",
    "    tf.keras.layers.Dropout(0.2),\n",
    "    tf.keras.layers.Dense(256, activation = 'relu'),\n",
    "    tf.keras.layers.Dense(1, activation = 'sigmoid')\n",
    "])"
   ]
  },
  {
   "cell_type": "code",
   "execution_count": 444,
   "metadata": {},
   "outputs": [
    {
     "name": "stdout",
     "output_type": "stream",
     "text": [
      "Model: \"sequential_19\"\n",
      "_________________________________________________________________\n",
      "Layer (type)                 Output Shape              Param #   \n",
      "=================================================================\n",
      "embedding_19 (Embedding)     (None, 23, 200)           3284000   \n",
      "_________________________________________________________________\n",
      "bidirectional_6 (Bidirection (None, 23, 128)           135680    \n",
      "_________________________________________________________________\n",
      "dropout_3 (Dropout)          (None, 23, 128)           0         \n",
      "_________________________________________________________________\n",
      "bidirectional_7 (Bidirection (None, 64)                41216     \n",
      "_________________________________________________________________\n",
      "dropout_4 (Dropout)          (None, 64)                0         \n",
      "_________________________________________________________________\n",
      "dense_39 (Dense)             (None, 256)               16640     \n",
      "_________________________________________________________________\n",
      "dense_40 (Dense)             (None, 1)                 257       \n",
      "=================================================================\n",
      "Total params: 3,477,793\n",
      "Trainable params: 3,477,793\n",
      "Non-trainable params: 0\n",
      "_________________________________________________________________\n"
     ]
    }
   ],
   "source": [
    "model4.summary()"
   ]
  },
  {
   "cell_type": "code",
   "execution_count": 445,
   "metadata": {},
   "outputs": [],
   "source": [
    "adam = keras.optimizers.Adam(lr=0.01)\n",
    "model4.compile(loss = 'binary_crossentropy', optimizer = adam, metrics = ['accuracy'])"
   ]
  },
  {
   "cell_type": "code",
   "execution_count": 200,
   "metadata": {},
   "outputs": [
    {
     "name": "stdout",
     "output_type": "stream",
     "text": [
      "Train on 6090 samples, validate on 1523 samples\n",
      "Epoch 1/30\n",
      "6090/6090 [==============================] - 257s 42ms/sample - loss: 0.7908 - accuracy: 0.6273 - val_loss: 0.6122 - val_accuracy: 0.6724\n",
      "Epoch 2/30\n",
      "6090/6090 [==============================] - 251s 41ms/sample - loss: 0.3710 - accuracy: 0.8675 - val_loss: 0.6260 - val_accuracy: 0.6980\n",
      "Epoch 3/30\n",
      "6090/6090 [==============================] - 251s 41ms/sample - loss: 0.3023 - accuracy: 0.8947 - val_loss: 0.7479 - val_accuracy: 0.6829\n",
      "Epoch 4/30\n",
      "6090/6090 [==============================] - 333s 55ms/sample - loss: 0.2752 - accuracy: 0.9026 - val_loss: 0.8071 - val_accuracy: 0.7052\n",
      "Epoch 5/30\n",
      "6090/6090 [==============================] - 345s 57ms/sample - loss: 0.2463 - accuracy: 0.9123 - val_loss: 0.7000 - val_accuracy: 0.7052\n",
      "Epoch 6/30\n",
      "6090/6090 [==============================] - 350s 57ms/sample - loss: 0.2303 - accuracy: 0.9223 - val_loss: 0.8620 - val_accuracy: 0.7052\n",
      "Epoch 7/30\n",
      "6090/6090 [==============================] - 345s 57ms/sample - loss: 0.2124 - accuracy: 0.9296 - val_loss: 0.9396 - val_accuracy: 0.7104\n",
      "Epoch 8/30\n",
      "6090/6090 [==============================] - 362s 59ms/sample - loss: 0.1915 - accuracy: 0.9360 - val_loss: 0.9127 - val_accuracy: 0.7032\n",
      "Epoch 9/30\n",
      "6090/6090 [==============================] - 372s 61ms/sample - loss: 0.2688 - accuracy: 0.9140 - val_loss: 0.8076 - val_accuracy: 0.7032\n",
      "Epoch 10/30\n",
      "6090/6090 [==============================] - 396s 65ms/sample - loss: 0.2334 - accuracy: 0.9113 - val_loss: 0.7138 - val_accuracy: 0.6986\n",
      "Epoch 11/30\n",
      "6090/6090 [==============================] - 367s 60ms/sample - loss: 0.2022 - accuracy: 0.9263 - val_loss: 0.7942 - val_accuracy: 0.7269\n"
     ]
    }
   ],
   "source": [
    "history4 = model4.fit(X_train, y_train, epochs = num_epochs, validation_data = [X_test, y_test], callbacks = [early_stopping])"
   ]
  },
  {
   "cell_type": "code",
   "execution_count": 201,
   "metadata": {},
   "outputs": [
    {
     "data": {
      "image/png": "[encoded data removed]",
      "text/plain": [
       "<Figure size 432x288 with 1 Axes>"
      ]
     },
     "metadata": {
      "needs_background": "light"
     },
     "output_type": "display_data"
    },
    {
     "data": {
      "image/png": "[encoded data removed]",
      "text/plain": [
       "<Figure size 432x288 with 1 Axes>"
      ]
     },
     "metadata": {
      "needs_background": "light"
     },
     "output_type": "display_data"
    }
   ],
   "source": [
    "plot_graphs(history4, 'accuracy')\n",
    "plot_graphs(history4, 'loss')"
   ]
  },
  {
   "cell_type": "code",
   "execution_count": 202,
   "metadata": {},
   "outputs": [],
   "source": [
    "preds4 = model4.predict_classes(X_test)"
   ]
  },
  {
   "cell_type": "code",
   "execution_count": 203,
   "metadata": {},
   "outputs": [
    {
     "name": "stdout",
     "output_type": "stream",
     "text": [
      "F1-score:  0.5141187925998052\n",
      "Precision:  0.3963963963963964\n",
      "Recall:  0.7313019390581718\n",
      "Acuracy:  0.6723571897570584\n",
      "--------------------------------------------------\n",
      "              precision    recall  f1-score   support\n",
      "\n",
      "           0       0.89      0.65      0.75      1162\n",
      "           1       0.40      0.73      0.51       361\n",
      "\n",
      "    accuracy                           0.67      1523\n",
      "   macro avg       0.64      0.69      0.63      1523\n",
      "weighted avg       0.77      0.67      0.70      1523\n",
      "\n"
     ]
    }
   ],
   "source": [
    "metrics_analyze(preds4, y_test)"
   ]
  },
  {
   "cell_type": "code",
   "execution_count": 417,
   "metadata": {},
   "outputs": [],
   "source": [
    "submission = load_twitter_data('sample_submission.csv')\n",
    "submission['target'] = model4.predict_classes(test_padded_sentences)"
   ]
  },
  {
   "cell_type": "code",
   "execution_count": 418,
   "metadata": {},
   "outputs": [
    {
     "data": {
      "text/html": [
       "<div>\n",
       "<style scoped>\n",
       "    .dataframe tbody tr th:only-of-type {\n",
       "        vertical-align: middle;\n",
       "    }\n",
       "\n",
       "    .dataframe tbody tr th {\n",
       "        vertical-align: top;\n",
       "    }\n",
       "\n",
       "    .dataframe thead th {\n",
       "        text-align: right;\n",
       "    }\n",
       "</style>\n",
       "<table border=\"1\" class=\"dataframe\">\n",
       "  <thead>\n",
       "    <tr style=\"text-align: right;\">\n",
       "      <th></th>\n",
       "      <th>id</th>\n",
       "      <th>target</th>\n",
       "    </tr>\n",
       "  </thead>\n",
       "  <tbody>\n",
       "    <tr>\n",
       "      <th>0</th>\n",
       "      <td>0</td>\n",
       "      <td>1</td>\n",
       "    </tr>\n",
       "    <tr>\n",
       "      <th>1</th>\n",
       "      <td>2</td>\n",
       "      <td>1</td>\n",
       "    </tr>\n",
       "    <tr>\n",
       "      <th>2</th>\n",
       "      <td>3</td>\n",
       "      <td>1</td>\n",
       "    </tr>\n",
       "    <tr>\n",
       "      <th>3</th>\n",
       "      <td>9</td>\n",
       "      <td>1</td>\n",
       "    </tr>\n",
       "    <tr>\n",
       "      <th>4</th>\n",
       "      <td>11</td>\n",
       "      <td>1</td>\n",
       "    </tr>\n",
       "  </tbody>\n",
       "</table>\n",
       "</div>"
      ],
      "text/plain": [
       "   id  target\n",
       "0   0       1\n",
       "1   2       1\n",
       "2   3       1\n",
       "3   9       1\n",
       "4  11       1"
      ]
     },
     "execution_count": 418,
     "metadata": {},
     "output_type": "execute_result"
    }
   ],
   "source": [
    "submission.head()"
   ]
  },
  {
   "cell_type": "code",
   "execution_count": 242,
   "metadata": {},
   "outputs": [],
   "source": [
    "submission.to_csv(\"submission.csv\", index=False)"
   ]
  },
  {
   "cell_type": "markdown",
   "metadata": {},
   "source": [
    "### Model 5"
   ]
  },
  {
   "cell_type": "code",
   "execution_count": 204,
   "metadata": {},
   "outputs": [],
   "source": [
    "model5 = tf.keras.Sequential([\n",
    "    tf.keras.layers.Embedding(vocab_length, embedding_dim, input_length = length_long_sentence),\n",
    "    tf.keras.layers.Bidirectional(tf.keras.layers.GRU(32)),\n",
    "    tf.keras.layers.Dense(6, activation = 'relu'),\n",
    "    tf.keras.layers.Dense(1, activation = 'sigmoid')\n",
    "])"
   ]
  },
  {
   "cell_type": "code",
   "execution_count": 205,
   "metadata": {},
   "outputs": [
    {
     "name": "stdout",
     "output_type": "stream",
     "text": [
      "Model: \"sequential_13\"\n",
      "_________________________________________________________________\n",
      "Layer (type)                 Output Shape              Param #   \n",
      "=================================================================\n",
      "embedding_13 (Embedding)     (None, 23, 200)           3287000   \n",
      "_________________________________________________________________\n",
      "bidirectional_5 (Bidirection (None, 64)                44928     \n",
      "_________________________________________________________________\n",
      "dense_27 (Dense)             (None, 6)                 390       \n",
      "_________________________________________________________________\n",
      "dense_28 (Dense)             (None, 1)                 7         \n",
      "=================================================================\n",
      "Total params: 3,332,325\n",
      "Trainable params: 3,332,325\n",
      "Non-trainable params: 0\n",
      "_________________________________________________________________\n"
     ]
    }
   ],
   "source": [
    "model5.summary()"
   ]
  },
  {
   "cell_type": "code",
   "execution_count": 206,
   "metadata": {},
   "outputs": [],
   "source": [
    "model5.compile(loss = 'binary_crossentropy', optimizer = 'adam', metrics = ['accuracy'])"
   ]
  },
  {
   "cell_type": "code",
   "execution_count": 207,
   "metadata": {},
   "outputs": [
    {
     "name": "stdout",
     "output_type": "stream",
     "text": [
      "Train on 6090 samples, validate on 1523 samples\n",
      "Epoch 1/30\n",
      "6090/6090 [==============================] - 23s 4ms/sample - loss: 0.5886 - accuracy: 0.7043 - val_loss: 0.4767 - val_accuracy: 0.7820\n",
      "Epoch 2/30\n",
      "6090/6090 [==============================] - 15s 2ms/sample - loss: 0.2846 - accuracy: 0.8867 - val_loss: 0.5269 - val_accuracy: 0.7689\n",
      "Epoch 3/30\n",
      "6090/6090 [==============================] - 15s 2ms/sample - loss: 0.1349 - accuracy: 0.9552 - val_loss: 0.6644 - val_accuracy: 0.7498\n",
      "Epoch 4/30\n",
      "6090/6090 [==============================] - 15s 2ms/sample - loss: 0.0967 - accuracy: 0.9691 - val_loss: 0.6552 - val_accuracy: 0.7590\n",
      "Epoch 5/30\n",
      "6090/6090 [==============================] - 16s 3ms/sample - loss: 0.0775 - accuracy: 0.9739 - val_loss: 0.6499 - val_accuracy: 0.7590\n",
      "Epoch 6/30\n",
      "6090/6090 [==============================] - 17s 3ms/sample - loss: 0.0642 - accuracy: 0.9777 - val_loss: 0.7442 - val_accuracy: 0.7610\n",
      "Epoch 7/30\n",
      "6090/6090 [==============================] - 17s 3ms/sample - loss: 0.0570 - accuracy: 0.9785 - val_loss: 0.6851 - val_accuracy: 0.7603\n",
      "Epoch 8/30\n",
      "6090/6090 [==============================] - 16s 3ms/sample - loss: 0.0491 - accuracy: 0.9801 - val_loss: 0.7111 - val_accuracy: 0.7584\n",
      "Epoch 9/30\n",
      "6090/6090 [==============================] - 16s 3ms/sample - loss: 0.0454 - accuracy: 0.9803 - val_loss: 0.7398 - val_accuracy: 0.7466\n",
      "Epoch 10/30\n",
      "6090/6090 [==============================] - 16s 3ms/sample - loss: 0.0407 - accuracy: 0.9806 - val_loss: 0.7903 - val_accuracy: 0.7544\n",
      "Epoch 11/30\n",
      "6090/6090 [==============================] - 16s 3ms/sample - loss: 0.0384 - accuracy: 0.9818 - val_loss: 0.8535 - val_accuracy: 0.7531\n"
     ]
    }
   ],
   "source": [
    "history5 = model5.fit(X_train, y_train, epochs = num_epochs, validation_data = [X_test, y_test], callbacks = [early_stopping])"
   ]
  },
  {
   "cell_type": "code",
   "execution_count": 208,
   "metadata": {},
   "outputs": [
    {
     "data": {
      "image/png": "[encoded data removed]",
      "text/plain": [
       "<Figure size 432x288 with 1 Axes>"
      ]
     },
     "metadata": {
      "needs_background": "light"
     },
     "output_type": "display_data"
    },
    {
     "data": {
      "image/png": "[encoded data removed]",
      "text/plain": [
       "<Figure size 432x288 with 1 Axes>"
      ]
     },
     "metadata": {
      "needs_background": "light"
     },
     "output_type": "display_data"
    }
   ],
   "source": [
    "plot_graphs(history5, 'accuracy')\n",
    "plot_graphs(history5, 'loss')"
   ]
  },
  {
   "cell_type": "code",
   "execution_count": 209,
   "metadata": {},
   "outputs": [],
   "source": [
    "preds5 = model5.predict_classes(X_test)"
   ]
  },
  {
   "cell_type": "code",
   "execution_count": 211,
   "metadata": {},
   "outputs": [
    {
     "name": "stdout",
     "output_type": "stream",
     "text": [
      "F1-score:  0.7326892109500805\n",
      "Precision:  0.6831831831831832\n",
      "Recall:  0.7899305555555556\n",
      "Acuracy:  0.7820091923834537\n",
      "--------------------------------------------------\n",
      "              precision    recall  f1-score   support\n",
      "\n",
      "           0       0.86      0.78      0.82       947\n",
      "           1       0.68      0.79      0.73       576\n",
      "\n",
      "    accuracy                           0.78      1523\n",
      "   macro avg       0.77      0.78      0.77      1523\n",
      "weighted avg       0.79      0.78      0.78      1523\n",
      "\n"
     ]
    }
   ],
   "source": [
    "metrics_analyze(preds5, y_test)"
   ]
  },
  {
   "cell_type": "markdown",
   "metadata": {},
   "source": [
    "### Model 6"
   ]
  },
  {
   "cell_type": "code",
   "execution_count": 212,
   "metadata": {},
   "outputs": [],
   "source": [
    "model6 = tf.keras.Sequential([\n",
    "    tf.keras.layers.Embedding(vocab_length, embedding_dim, input_length=length_long_sentence),\n",
    "    tf.keras.layers.Conv1D(128, 5, activation='relu'),\n",
    "    tf.keras.layers.GlobalAveragePooling1D(),\n",
    "    tf.keras.layers.Dense(6, activation='relu'),\n",
    "    tf.keras.layers.Dense(1, activation='sigmoid') \n",
    "])"
   ]
  },
  {
   "cell_type": "code",
   "execution_count": 213,
   "metadata": {},
   "outputs": [
    {
     "name": "stdout",
     "output_type": "stream",
     "text": [
      "Model: \"sequential_14\"\n",
      "_________________________________________________________________\n",
      "Layer (type)                 Output Shape              Param #   \n",
      "=================================================================\n",
      "embedding_14 (Embedding)     (None, 23, 200)           3287000   \n",
      "_________________________________________________________________\n",
      "conv1d (Conv1D)              (None, 19, 128)           128128    \n",
      "_________________________________________________________________\n",
      "global_average_pooling1d_4 ( (None, 128)               0         \n",
      "_________________________________________________________________\n",
      "dense_29 (Dense)             (None, 6)                 774       \n",
      "_________________________________________________________________\n",
      "dense_30 (Dense)             (None, 1)                 7         \n",
      "=================================================================\n",
      "Total params: 3,415,909\n",
      "Trainable params: 3,415,909\n",
      "Non-trainable params: 0\n",
      "_________________________________________________________________\n"
     ]
    }
   ],
   "source": [
    "model6.summary()"
   ]
  },
  {
   "cell_type": "code",
   "execution_count": 214,
   "metadata": {},
   "outputs": [],
   "source": [
    "model6.compile(loss = 'binary_crossentropy', optimizer = 'adam', metrics = ['accuracy'])"
   ]
  },
  {
   "cell_type": "code",
   "execution_count": 215,
   "metadata": {},
   "outputs": [
    {
     "name": "stdout",
     "output_type": "stream",
     "text": [
      "Train on 6090 samples, validate on 1523 samples\n",
      "Epoch 1/30\n",
      "6090/6090 [==============================] - 16s 3ms/sample - loss: 0.5622 - accuracy: 0.6956 - val_loss: 0.4530 - val_accuracy: 0.7945\n",
      "Epoch 2/30\n",
      "6090/6090 [==============================] - 15s 2ms/sample - loss: 0.2951 - accuracy: 0.8796 - val_loss: 0.4866 - val_accuracy: 0.7866\n",
      "Epoch 3/30\n",
      "6090/6090 [==============================] - 16s 3ms/sample - loss: 0.1572 - accuracy: 0.9435 - val_loss: 0.5871 - val_accuracy: 0.7728\n",
      "Epoch 4/30\n",
      "6090/6090 [==============================] - 15s 2ms/sample - loss: 0.0946 - accuracy: 0.9681 - val_loss: 0.6641 - val_accuracy: 0.7663\n",
      "Epoch 5/30\n",
      "6090/6090 [==============================] - 14s 2ms/sample - loss: 0.0686 - accuracy: 0.9739 - val_loss: 0.7415 - val_accuracy: 0.7636\n",
      "Epoch 6/30\n",
      "6090/6090 [==============================] - 15s 2ms/sample - loss: 0.0546 - accuracy: 0.9785 - val_loss: 0.8754 - val_accuracy: 0.7597\n",
      "Epoch 7/30\n",
      "6090/6090 [==============================] - 15s 3ms/sample - loss: 0.0439 - accuracy: 0.9806 - val_loss: 0.9025 - val_accuracy: 0.7564\n",
      "Epoch 8/30\n",
      "6090/6090 [==============================] - 15s 3ms/sample - loss: 0.0395 - accuracy: 0.9823 - val_loss: 1.0528 - val_accuracy: 0.7531\n",
      "Epoch 9/30\n",
      "6090/6090 [==============================] - 15s 2ms/sample - loss: 0.0357 - accuracy: 0.9842 - val_loss: 1.0579 - val_accuracy: 0.7564\n",
      "Epoch 10/30\n",
      "6090/6090 [==============================] - 15s 2ms/sample - loss: 0.0360 - accuracy: 0.9814 - val_loss: 1.1558 - val_accuracy: 0.7538\n",
      "Epoch 11/30\n",
      "6090/6090 [==============================] - 14s 2ms/sample - loss: 0.0323 - accuracy: 0.9842 - val_loss: 1.1737 - val_accuracy: 0.7531\n"
     ]
    }
   ],
   "source": [
    "history6 = model6.fit(X_train, y_train, epochs = num_epochs, validation_data = [X_test, y_test], callbacks = [early_stopping])"
   ]
  },
  {
   "cell_type": "code",
   "execution_count": 216,
   "metadata": {},
   "outputs": [
    {
     "data": {
      "image/png": "[encoded data removed]",
      "text/plain": [
       "<Figure size 432x288 with 1 Axes>"
      ]
     },
     "metadata": {
      "needs_background": "light"
     },
     "output_type": "display_data"
    },
    {
     "data": {
      "image/png": "[encoded data removed]",
      "text/plain": [
       "<Figure size 432x288 with 1 Axes>"
      ]
     },
     "metadata": {
      "needs_background": "light"
     },
     "output_type": "display_data"
    }
   ],
   "source": [
    "plot_graphs(history6, 'accuracy')\n",
    "plot_graphs(history6, 'loss')"
   ]
  },
  {
   "cell_type": "code",
   "execution_count": 217,
   "metadata": {},
   "outputs": [],
   "source": [
    "preds6 = model6.predict_classes(X_test)"
   ]
  },
  {
   "cell_type": "code",
   "execution_count": 219,
   "metadata": {},
   "outputs": [
    {
     "name": "stdout",
     "output_type": "stream",
     "text": [
      "F1-score:  0.7371956339210748\n",
      "Precision:  0.6591591591591591\n",
      "Recall:  0.8361904761904762\n",
      "Acuracy:  0.7944845699277742\n",
      "--------------------------------------------------\n",
      "              precision    recall  f1-score   support\n",
      "\n",
      "           0       0.90      0.77      0.83       998\n",
      "           1       0.66      0.84      0.74       525\n",
      "\n",
      "    accuracy                           0.79      1523\n",
      "   macro avg       0.78      0.80      0.78      1523\n",
      "weighted avg       0.82      0.79      0.80      1523\n",
      "\n"
     ]
    }
   ],
   "source": [
    "metrics_analyze(preds6, y_test)"
   ]
  },
  {
   "cell_type": "markdown",
   "metadata": {},
   "source": [
    "### Model 7"
   ]
  },
  {
   "cell_type": "code",
   "execution_count": 220,
   "metadata": {},
   "outputs": [],
   "source": [
    "model7 = Sequential()\n",
    "embedding_layer = Embedding(vocab_length, embedding_dim, weights = [embedding_matrix], input_length = length_long_sentence, trainable = False)\n",
    "model7.add(embedding_layer)\n",
    "model7.add(Dropout(0.2))\n",
    "model7.add(Conv1D(64, 5, activation='relu'))\n",
    "model7.add(MaxPooling1D(pool_size=4))\n",
    "model7.add(LSTM(64))\n",
    "model7.add(Dense(1, activation = 'sigmoid'))"
   ]
  },
  {
   "cell_type": "code",
   "execution_count": 221,
   "metadata": {},
   "outputs": [],
   "source": [
    "model7.compile(loss = 'binary_crossentropy', optimizer = 'adam', metrics = ['accuracy'])"
   ]
  },
  {
   "cell_type": "code",
   "execution_count": 222,
   "metadata": {},
   "outputs": [
    {
     "name": "stdout",
     "output_type": "stream",
     "text": [
      "Train on 6090 samples, validate on 1523 samples\n",
      "Epoch 1/30\n",
      "6090/6090 [==============================] - 4s 610us/step - loss: 0.4915 - accuracy: 0.7800 - val_loss: 0.4286 - val_accuracy: 0.8129\n",
      "Epoch 2/30\n",
      "6090/6090 [==============================] - 3s 475us/step - loss: 0.4101 - accuracy: 0.8227 - val_loss: 0.4274 - val_accuracy: 0.8083\n",
      "Epoch 3/30\n",
      "6090/6090 [==============================] - 3s 499us/step - loss: 0.3736 - accuracy: 0.8427 - val_loss: 0.4324 - val_accuracy: 0.8148\n",
      "Epoch 4/30\n",
      "6090/6090 [==============================] - 3s 491us/step - loss: 0.3196 - accuracy: 0.8722 - val_loss: 0.4470 - val_accuracy: 0.8122\n",
      "Epoch 5/30\n",
      "6090/6090 [==============================] - 3s 495us/step - loss: 0.2661 - accuracy: 0.8944 - val_loss: 0.4579 - val_accuracy: 0.8050\n",
      "Epoch 6/30\n",
      "6090/6090 [==============================] - 3s 476us/step - loss: 0.2293 - accuracy: 0.9105 - val_loss: 0.5043 - val_accuracy: 0.8011\n",
      "Epoch 7/30\n",
      "6090/6090 [==============================] - 3s 468us/step - loss: 0.1953 - accuracy: 0.9263 - val_loss: 0.5262 - val_accuracy: 0.7912\n",
      "Epoch 8/30\n",
      "6090/6090 [==============================] - 3s 489us/step - loss: 0.1679 - accuracy: 0.9365 - val_loss: 0.5582 - val_accuracy: 0.7768\n",
      "Epoch 9/30\n",
      "6090/6090 [==============================] - 3s 481us/step - loss: 0.1455 - accuracy: 0.9463 - val_loss: 0.6900 - val_accuracy: 0.7945\n",
      "Epoch 10/30\n",
      "6090/6090 [==============================] - 3s 481us/step - loss: 0.1332 - accuracy: 0.9488 - val_loss: 0.8103 - val_accuracy: 0.7912\n",
      "Epoch 11/30\n",
      "6090/6090 [==============================] - 3s 475us/step - loss: 0.1261 - accuracy: 0.9519 - val_loss: 0.7745 - val_accuracy: 0.7866s: 0.125\n",
      "Epoch 12/30\n",
      "6090/6090 [==============================] - 3s 450us/step - loss: 0.1104 - accuracy: 0.9599 - val_loss: 0.7060 - val_accuracy: 0.7859\n"
     ]
    }
   ],
   "source": [
    "history7 = model7.fit(X_train, y_train, epochs = num_epochs, validation_data = [X_test, y_test], callbacks = [early_stopping])"
   ]
  },
  {
   "cell_type": "code",
   "execution_count": 223,
   "metadata": {},
   "outputs": [
    {
     "data": {
      "image/png": "[encoded data removed]",
      "text/plain": [
       "<Figure size 432x288 with 1 Axes>"
      ]
     },
     "metadata": {
      "needs_background": "light"
     },
     "output_type": "display_data"
    },
    {
     "data": {
      "image/png": "[encoded data removed]",
      "text/plain": [
       "<Figure size 432x288 with 1 Axes>"
      ]
     },
     "metadata": {
      "needs_background": "light"
     },
     "output_type": "display_data"
    }
   ],
   "source": [
    "plot_graphs(history7, 'accuracy')\n",
    "plot_graphs(history7, 'loss')"
   ]
  },
  {
   "cell_type": "code",
   "execution_count": 224,
   "metadata": {},
   "outputs": [],
   "source": [
    "preds7 = model7.predict_classes(X_test)"
   ]
  },
  {
   "cell_type": "code",
   "execution_count": 225,
   "metadata": {},
   "outputs": [
    {
     "name": "stdout",
     "output_type": "stream",
     "text": [
      "F1-score:  0.752542372881356\n",
      "Precision:  0.6666666666666666\n",
      "Recall:  0.8638132295719845\n",
      "Acuracy:  0.8082731451083388\n",
      "--------------------------------------------------\n",
      "              precision    recall  f1-score   support\n",
      "\n",
      "           0       0.92      0.78      0.84      1009\n",
      "           1       0.67      0.86      0.75       514\n",
      "\n",
      "    accuracy                           0.81      1523\n",
      "   macro avg       0.79      0.82      0.80      1523\n",
      "weighted avg       0.83      0.81      0.81      1523\n",
      "\n"
     ]
    }
   ],
   "source": [
    "metrics_analyze(preds7, y_test)"
   ]
  },
  {
   "cell_type": "code",
   "execution_count": null,
   "metadata": {},
   "outputs": [],
   "source": []
  }
 ],
 "metadata": {
  "kernelspec": {
   "display_name": "Python 3",
   "language": "python",
   "name": "python3"
  },
  "language_info": {
   "codemirror_mode": {
    "name": "ipython",
    "version": 3
   },
   "file_extension": ".py",
   "mimetype": "text/x-python",
   "name": "python",
   "nbconvert_exporter": "python",
   "pygments_lexer": "ipython3",
   "version": "3.7.7"
  }
 },
 "nbformat": 4,
 "nbformat_minor": 4
}
